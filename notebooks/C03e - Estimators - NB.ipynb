{
 "cells": [
  {
   "cell_type": "code",
   "execution_count": 10,
   "metadata": {},
   "outputs": [],
   "source": [
    "import pandas as pd\n",
    "import numpy as np\n",
    "import pickle as pkl\n",
    "from collections import Counter\n",
    "import os\n",
    "import re\n",
    "from os import listdir\n",
    "from os.path import isfile, join\n",
    "import sklearn\n",
    "import nltk\n",
    "from nltk.corpus import stopwords \n",
    "\n",
    "from sklearn.naive_bayes import GaussianNB"
   ]
  },
  {
   "cell_type": "code",
   "execution_count": 2,
   "metadata": {},
   "outputs": [],
   "source": [
    "INPUT_DIR = '../data/input/groundtruth/'\n",
    "OUTPUT_DIR = '../data/input/groundtruth/'\n",
    "\n",
    "CORPUS_DIR = os.path.join(OUTPUT_DIR, 'corpus')\n",
    "VECTORIZED_DIR = os.path.join(OUTPUT_DIR, 'vectorized_trainset')\n",
    "\n",
    "text_col_header = 'text'\n",
    "label_col_header = 'label'"
   ]
  },
  {
   "cell_type": "markdown",
   "metadata": {},
   "source": [
    "### Reading test and train data to keep them ready for testing"
   ]
  },
  {
   "cell_type": "code",
   "execution_count": 3,
   "metadata": {},
   "outputs": [],
   "source": [
    "from sklearn.feature_extraction.text import CountVectorizer\n",
    "\n",
    "# Read Train data\n",
    "ip_train_file = os.path.join(INPUT_DIR, 'speechact_train.csv')\n",
    "df_train = pd.read_csv(ip_train_file)\n",
    "df_train = df_train.astype({text_col_header: str, label_col_header: int})\n",
    "\n",
    "# Read Test data\n",
    "ip_test_file = os.path.join(INPUT_DIR, 'speechact_test.csv')\n",
    "df_test = pd.read_csv(ip_test_file)\n",
    "df_test = df_test.astype({text_col_header: str, label_col_header: int})"
   ]
  },
  {
   "cell_type": "markdown",
   "metadata": {},
   "source": [
    "# Naive Bayes"
   ]
  },
  {
   "cell_type": "markdown",
   "metadata": {},
   "source": [
    "Requirements\n",
    "<li> Input - Vectorized Data train </li>\n",
    "<li> Input - Vectorized Label train </li>"
   ]
  },
  {
   "cell_type": "markdown",
   "metadata": {},
   "source": [
    "### Counter Vector with stopwords"
   ]
  },
  {
   "cell_type": "code",
   "execution_count": 4,
   "metadata": {},
   "outputs": [],
   "source": [
    "# Read the vectorized train data and train label\n",
    "vectorized_train_data_file = os.path.join(VECTORIZED_DIR, 'train_data_countvector_stopword.pkl')\n",
    "with open(vectorized_train_data_file, 'rb') as f_ip:\n",
    "    data_train = pkl.load(f_ip)\n",
    "    \n",
    "train_label_file = os.path.join(VECTORIZED_DIR, 'train_label_countvector_stopword.pkl')\n",
    "with open(train_label_file, 'rb') as f_ip:\n",
    "    label_train = pkl.load(f_ip)"
   ]
  },
  {
   "cell_type": "markdown",
   "metadata": {},
   "source": [
    "#### Train and Test the model"
   ]
  },
  {
   "cell_type": "code",
   "execution_count": 5,
   "metadata": {},
   "outputs": [],
   "source": [
    "# Read the vectorizer to transform the test data\n",
    "vector_file = os.path.join(CORPUS_DIR, 'vector_countvector_stopword.pkl')\n",
    "with open(vector_file, 'rb') as f_ip:\n",
    "    vectorizer = pkl.load(f_ip)\n",
    "\n",
    "data_test = vectorizer.transform(df_test[text_col_header])"
   ]
  },
  {
   "cell_type": "code",
   "execution_count": 7,
   "metadata": {},
   "outputs": [],
   "source": [
    "# Run Naive Bayes\n",
    "estimator = GaussianNB()\n",
    "estimator.fit(data_train.toarray(), np.ravel(label_train, order='C'))\n",
    "predictions_test = estimator.predict(data_test.toarray())"
   ]
  },
  {
   "cell_type": "markdown",
   "metadata": {},
   "source": [
    "#### Performance metrics"
   ]
  },
  {
   "cell_type": "code",
   "execution_count": 9,
   "metadata": {},
   "outputs": [
    {
     "name": "stdout",
     "output_type": "stream",
     "text": [
      "Train Accuracy 0.8539583277177283\n",
      "Test Accuracy 0.6958490566037736\n",
      "F1 macro Score:  0.6789368997694899\n",
      "              precision    recall  f1-score   support\n",
      "\n",
      "           0       0.81      0.75      0.78      3911\n",
      "           1       0.66      0.45      0.54      2908\n",
      "           2       0.60      0.89      0.72      2456\n",
      "\n",
      "    accuracy                           0.70      9275\n",
      "   macro avg       0.69      0.70      0.68      9275\n",
      "weighted avg       0.71      0.70      0.69      9275\n",
      "\n"
     ]
    }
   ],
   "source": [
    "from sklearn.metrics import f1_score\n",
    "\n",
    "## Accuracy Measure\n",
    "print('Train Accuracy', estimator.score(data_train.toarray(), df_train[label_col_header]))\n",
    "print('Test Accuracy', estimator.score(data_test.toarray(), df_test[label_col_header]))\n",
    "\n",
    "# F1\n",
    "f1_measure = f1_score(df_test[label_col_header], predictions_test, average='macro')\n",
    "print('F1 macro Score: ', f1_measure)\n",
    "\n",
    "# Classification report\n",
    "from sklearn.metrics import classification_report\n",
    "print(classification_report(df_test[label_col_header], predictions_test))"
   ]
  },
  {
   "cell_type": "code",
   "execution_count": null,
   "metadata": {},
   "outputs": [],
   "source": []
  },
  {
   "cell_type": "markdown",
   "metadata": {},
   "source": [
    "### Counter Vector with no stopwords"
   ]
  },
  {
   "cell_type": "code",
   "execution_count": 11,
   "metadata": {},
   "outputs": [],
   "source": [
    "# Read the vectorized train data and train label\n",
    "vectorized_train_data_file = os.path.join(VECTORIZED_DIR, 'train_data_countvector_nostopword.pkl')\n",
    "with open(vectorized_train_data_file, 'rb') as f_ip:\n",
    "    data_train = pkl.load(f_ip)\n",
    "    \n",
    "train_label_file = os.path.join(VECTORIZED_DIR, 'train_label_countvector_nostopword.pkl')\n",
    "with open(train_label_file, 'rb') as f_ip:\n",
    "    label_train = pkl.load(f_ip)"
   ]
  },
  {
   "cell_type": "markdown",
   "metadata": {},
   "source": [
    "#### Train and Test the model"
   ]
  },
  {
   "cell_type": "code",
   "execution_count": 12,
   "metadata": {},
   "outputs": [],
   "source": [
    "# Read the vectorizer to transform the test data\n",
    "vector_file = os.path.join(CORPUS_DIR, 'vector_countvector_nostopword.pkl')\n",
    "with open(vector_file, 'rb') as f_ip:\n",
    "    vectorizer = pkl.load(f_ip)\n",
    "\n",
    "data_test = vectorizer.transform(df_test[text_col_header])"
   ]
  },
  {
   "cell_type": "code",
   "execution_count": 13,
   "metadata": {},
   "outputs": [],
   "source": [
    "# Run Naive Bayes\n",
    "estimator = GaussianNB()\n",
    "estimator.fit(data_train.toarray(), np.ravel(label_train, order='C'))\n",
    "predictions_test = estimator.predict(data_test.toarray())"
   ]
  },
  {
   "cell_type": "markdown",
   "metadata": {},
   "source": [
    "#### Performance metrics"
   ]
  },
  {
   "cell_type": "code",
   "execution_count": 15,
   "metadata": {},
   "outputs": [
    {
     "name": "stdout",
     "output_type": "stream",
     "text": [
      "Train Accuracy 0.8534461845332758\n",
      "Test Accuracy 0.6953099730458221\n",
      "F1 macro Score:  0.6783367302233391\n",
      "              precision    recall  f1-score   support\n",
      "\n",
      "           0       0.81      0.75      0.78      3911\n",
      "           1       0.66      0.45      0.54      2908\n",
      "           2       0.60      0.89      0.72      2456\n",
      "\n",
      "    accuracy                           0.70      9275\n",
      "   macro avg       0.69      0.70      0.68      9275\n",
      "weighted avg       0.71      0.70      0.69      9275\n",
      "\n"
     ]
    }
   ],
   "source": [
    "from sklearn.metrics import f1_score\n",
    "\n",
    "## Accuracy Measure\n",
    "print('Train Accuracy', estimator.score(data_train.toarray(), df_train[label_col_header]))\n",
    "print('Test Accuracy', estimator.score(data_test.toarray(), df_test[label_col_header]))\n",
    "\n",
    "# F1\n",
    "f1_measure = f1_score(df_test[label_col_header], predictions_test, average='macro')\n",
    "print('F1 macro Score: ', f1_measure)\n",
    "\n",
    "# Classification report\n",
    "from sklearn.metrics import classification_report\n",
    "print(classification_report(df_test[label_col_header], predictions_test))"
   ]
  },
  {
   "cell_type": "code",
   "execution_count": null,
   "metadata": {},
   "outputs": [],
   "source": []
  },
  {
   "cell_type": "markdown",
   "metadata": {},
   "source": [
    "### Counter Vector with minimum occurences of words (min_occurences=2)"
   ]
  },
  {
   "cell_type": "code",
   "execution_count": 16,
   "metadata": {},
   "outputs": [],
   "source": [
    "# Read the vectorized train data and train label\n",
    "vectorized_train_data_file = os.path.join(VECTORIZED_DIR, 'train_data_countvector_minoccurences_2.pkl')\n",
    "with open(vectorized_train_data_file, 'rb') as f_ip:\n",
    "    data_train = pkl.load(f_ip)\n",
    "    \n",
    "train_label_file = os.path.join(VECTORIZED_DIR, 'train_label_countvector_minoccurences_2.pkl')\n",
    "with open(train_label_file, 'rb') as f_ip:\n",
    "    label_train = pkl.load(f_ip)"
   ]
  },
  {
   "cell_type": "markdown",
   "metadata": {},
   "source": [
    "#### Train and Test the model"
   ]
  },
  {
   "cell_type": "code",
   "execution_count": 17,
   "metadata": {},
   "outputs": [],
   "source": [
    "# Read the vectorizer to transform the test data\n",
    "vector_file = os.path.join(CORPUS_DIR, 'vector_countvector_minoccurences_2.pkl')\n",
    "with open(vector_file, 'rb') as f_ip:\n",
    "    vectorizer = pkl.load(f_ip)\n",
    "\n",
    "data_test = vectorizer.transform(df_test[text_col_header])"
   ]
  },
  {
   "cell_type": "code",
   "execution_count": 18,
   "metadata": {},
   "outputs": [],
   "source": [
    "# Run Naive Bayes\n",
    "estimator = GaussianNB()\n",
    "estimator.fit(data_train.toarray(), np.ravel(label_train, order='C'))\n",
    "predictions_test = estimator.predict(data_test.toarray())"
   ]
  },
  {
   "cell_type": "markdown",
   "metadata": {},
   "source": [
    "#### Performance metrics"
   ]
  },
  {
   "cell_type": "code",
   "execution_count": 19,
   "metadata": {},
   "outputs": [
    {
     "name": "stdout",
     "output_type": "stream",
     "text": [
      "Train Accuracy 0.7770020755276422\n",
      "Test Accuracy 0.6666307277628032\n",
      "F1 macro Score:  0.6510888209734773\n",
      "              precision    recall  f1-score   support\n",
      "\n",
      "           0       0.84      0.69      0.76      3911\n",
      "           1       0.62      0.43      0.51      2908\n",
      "           2       0.55      0.91      0.69      2456\n",
      "\n",
      "    accuracy                           0.67      9275\n",
      "   macro avg       0.67      0.68      0.65      9275\n",
      "weighted avg       0.69      0.67      0.66      9275\n",
      "\n"
     ]
    }
   ],
   "source": [
    "from sklearn.metrics import f1_score\n",
    "\n",
    "## Accuracy Measure\n",
    "print('Train Accuracy', estimator.score(data_train.toarray(), df_train[label_col_header]))\n",
    "print('Test Accuracy', estimator.score(data_test.toarray(), df_test[label_col_header]))\n",
    "\n",
    "# F1\n",
    "f1_measure = f1_score(df_test[label_col_header], predictions_test, average='macro')\n",
    "print('F1 macro Score: ', f1_measure)\n",
    "\n",
    "# Classification report\n",
    "from sklearn.metrics import classification_report\n",
    "print(classification_report(df_test[label_col_header], predictions_test))"
   ]
  },
  {
   "cell_type": "code",
   "execution_count": null,
   "metadata": {},
   "outputs": [],
   "source": []
  },
  {
   "cell_type": "code",
   "execution_count": null,
   "metadata": {},
   "outputs": [],
   "source": []
  }
 ],
 "metadata": {
  "kernelspec": {
   "display_name": "sentgen",
   "language": "python",
   "name": "sentgen"
  },
  "language_info": {
   "codemirror_mode": {
    "name": "ipython",
    "version": 3
   },
   "file_extension": ".py",
   "mimetype": "text/x-python",
   "name": "python",
   "nbconvert_exporter": "python",
   "pygments_lexer": "ipython3",
   "version": "3.5.5"
  }
 },
 "nbformat": 4,
 "nbformat_minor": 2
}
