{
 "cells": [
  {
   "cell_type": "code",
   "execution_count": 6,
   "metadata": {},
   "outputs": [],
   "source": [
    "# import statements\n",
    "import json\n",
    "import os\n",
    "import re\n",
    "import time"
   ]
  },
  {
   "cell_type": "code",
   "execution_count": 7,
   "metadata": {},
   "outputs": [],
   "source": [
    "# Define the keywords that will be used to extract the imperative sentences\n",
    "# Rules are identified from the paper - https://www.aclweb.org/anthology/W14-2117.pdf\n",
    "# 1. \"find those sentences with a verb (in its base form) as the root \n",
    "#     in the phrase structure and this particular verb has no \n",
    "#.    subject child in the dependency structure\" \n",
    "#.    Example: You must first discuss the matter there, and you need to be specific”\n",
    "# 2. \"recognize the use of a personal pronoun or noun (e.g., “you”, “we”,\n",
    "#.     or a username) followed by a modal verb (e.g., “should”, “must”, “need”) as an imperative\"\n",
    "\n",
    "\n",
    "# Source: https://www.myenglishpages.com/site_php_files/grammar-lesson-modals.php\n",
    "modal_verbs = ['can', 'could', 'may', 'might', 'will', 'would', 'shall','should', 'must', 'ought', 'dare', 'had better', 'ask']\n",
    "modal_verbs = ['can', 'may', 'might', 'will', 'would', 'shall','should', 'must', 'ought', 'dare', 'had better', 'ask']\n",
    "\n",
    "# Source: https://grammar.yourdictionary.com/parts-of-speech/pronouns/list-of-personal-pronouns.html\n",
    "# personal_pronoun = ['I', 'me', 'we', 'us', 'you', 'he', 'she', 'her', 'him', 'it', 'they', 'them']\n",
    "personal_pronoun = ['us', 'you', 'he', 'she', 'her', 'him', 'it', 'they', 'them']"
   ]
  },
  {
   "cell_type": "code",
   "execution_count": 8,
   "metadata": {},
   "outputs": [
    {
     "name": "stdout",
     "output_type": "stream",
     "text": [
      "Number of combinations for rule 2 = 108\n"
     ]
    }
   ],
   "source": [
    "# Check for rule 2\n",
    "\n",
    "# Create combinations of possibilities for a sentence to be imperative\n",
    "combinations = []\n",
    "# form combinations of words and put them as a list\n",
    "for pronoun in personal_pronoun:\n",
    "    for verb in modal_verbs:\n",
    "        combinations.append(pronoun + ' ' + verb)\n",
    "        \n",
    "print('Number of combinations for rule 2 =', len(combinations))"
   ]
  },
  {
   "cell_type": "code",
   "execution_count": 9,
   "metadata": {},
   "outputs": [],
   "source": [
    "# Using rule 2 to check imperative snetences\n",
    "def check_imperative_r2(combinations, sentence):\n",
    "    if any(combo in sentence.lower() for combo in combinations):\n",
    "        return True\n",
    "    return False"
   ]
  },
  {
   "cell_type": "code",
   "execution_count": 10,
   "metadata": {},
   "outputs": [],
   "source": [
    "IP_DIR = '../data/input/'\n",
    "OP_DIR = '../data/output/'"
   ]
  },
  {
   "cell_type": "markdown",
   "metadata": {},
   "source": [
    "## Tweets"
   ]
  },
  {
   "cell_type": "code",
   "execution_count": 11,
   "metadata": {},
   "outputs": [],
   "source": [
    "def preprocess_tweet(text):\n",
    "    # text = text.replace('@', '')\n",
    "    text = text.replace('\\n', ' ')\n",
    "    # text = text.replace('#', '')\n",
    "    text = text.replace('RT ', '')\n",
    "    text = text.translate ({ord(c): ' ' for c in \"!@#$%^&*()[]{};:,/<>?\\|`~-=_+\"})\n",
    "    \n",
    "    removeSpecialChars = text.translate ({ord(c): \" \" for c in \"!@#$%^&*()[]{};:,/<>?\\|`~-=_+\"})\n",
    "    \n",
    "    text = re.sub(r'http\\S+', '', text) #Remove URLs\n",
    "    text = re.sub('([^\\x00-\\x7F])+', '', text) # Remove non-english characters\n",
    "    text = re.sub(' +', ' ', text) # Remove multiple spaces\n",
    "    \n",
    "    text = text.strip()\n",
    "    \n",
    "    return text"
   ]
  },
  {
   "cell_type": "code",
   "execution_count": 12,
   "metadata": {
    "scrolled": true
   },
   "outputs": [
    {
     "name": "stdout",
     "output_type": "stream",
     "text": [
      "Files (40821/40821) - Tweets = 4068989 - File = processed_tweets_4060001.txt\n",
      "Total time: 981.3293538093567 seconds\n"
     ]
    }
   ],
   "source": [
    "dataset = 'tweets/'\n",
    "ip_path = os.path.join(IP_DIR, dataset)\n",
    "op_path = os.path.join(OP_DIR, dataset)\n",
    "\n",
    "text_key = 'text'\n",
    "op_ext = '.txt'\n",
    "op_filebase = 'processed_tweets_'\n",
    "\n",
    "sentence = []\n",
    "count = 0\n",
    "file_count = 0\n",
    "\n",
    "tic = time.time()\n",
    "\n",
    "tweets_files = os.listdir(ip_path)\n",
    "# print('Files to be processed =', len(tweets_files))\n",
    "\n",
    "for filename in tweets_files:\n",
    "    if filename.endswith('.tweet'): \n",
    "            \n",
    "        ip_filename = os.path.join(ip_path, filename)\n",
    "\n",
    "        with open(ip_filename, \"r\") as fp:\n",
    "            for line in fp:\n",
    "                tweet = json.loads(line.strip())\n",
    "                \n",
    "                if text_key in tweet.keys():\n",
    "                    text = tweet['text']\n",
    "                    text = preprocess_tweet(text)\n",
    "\n",
    "                    if ((count%10000) == 0):\n",
    "                        op_filename = op_filebase+str(count+1)+op_ext\n",
    "                        op_filepath = os.path.join(op_path, op_filename)\n",
    "                        #print('Writing to ', op_filepath, end='\\r')\n",
    "                        with open(op_filepath, 'w', encoding='utf-8') as fp:\n",
    "                            fp.write(text+'\\n')\n",
    "                    else:\n",
    "                        with open(op_filepath, 'a', encoding='utf-8') as fp:\n",
    "                            fp.write(text+'\\n')\n",
    "                \n",
    "                    # sentence.append(text)\n",
    "                    \n",
    "                    count += 1\n",
    "    file_count += 1\n",
    "    print('Files ('+str(file_count)+'/'+str(len(tweets_files))+') - Tweets = ' + str(count) \\\n",
    "            + ' - File = ' + op_filename, end='\\r')\n",
    "    \n",
    "print('\\nTotal time:', (time.time()-tic), 'seconds')"
   ]
  },
  {
   "cell_type": "markdown",
   "metadata": {},
   "source": [
    "# Rule 2"
   ]
  },
  {
   "cell_type": "code",
   "execution_count": 13,
   "metadata": {},
   "outputs": [
    {
     "name": "stdout",
     "output_type": "stream",
     "text": [
      "Files to be processed = 408\n",
      "Files processed (407/408) - Total imperatives = 145726\n",
      "Total time: 102.13355302810669 seconds\n"
     ]
    }
   ],
   "source": [
    "dataset = 'tweets/'\n",
    "ip_path = os.path.join(OP_DIR, dataset)\n",
    "op_filename = os.path.join(OP_DIR, 'imperative_tweets_rule2.txt')\n",
    "\n",
    "tic = time.time()\n",
    "\n",
    "processed_tweets_files = os.listdir(ip_path)\n",
    "print('Files to be processed =', len(processed_tweets_files))\n",
    "\n",
    "imper_t = []\n",
    "count = 0\n",
    "file_count = 0\n",
    "\n",
    "with open(op_filename, 'w', encoding='utf-8') as op:\n",
    "    for filename in processed_tweets_files:\n",
    "        if filename.endswith('.txt'): \n",
    "            ip_filename = os.path.join(ip_path, filename)\n",
    "            \n",
    "            with open(ip_filename, 'r', encoding='utf-8') as ip:\n",
    "\n",
    "                for sentence in ip:\n",
    "                    if check_imperative_r2(combinations, sentence):\n",
    "                        imper_t.append(sentence)\n",
    "                        op.write(sentence+'\\n')\n",
    "\n",
    "                        count += 1\n",
    "\n",
    "            file_count += 1\n",
    "        print('Files processed ('+str(file_count)+'/'+str(len(processed_tweets_files))+ \\\n",
    "                      ') - Total imperatives = ' + str(len(imper_t)), end='\\r')\n",
    "\n",
    "print('\\nTotal time:', (time.time()-tic), 'seconds')"
   ]
  },
  {
   "cell_type": "markdown",
   "metadata": {},
   "source": [
    "# Rule 1"
   ]
  },
  {
   "cell_type": "code",
   "execution_count": 14,
   "metadata": {},
   "outputs": [],
   "source": [
    "#load libraries and environments\n",
    "import spacy\n",
    "from spacy import displacy\n",
    "\n",
    "import en_core_web_lg\n",
    "nlp = en_core_web_lg.load()\n",
    "\n",
    "#rule: Has a verb in its lemma (base) form and is the root and does not have any subject child in it's dependency structure\n",
    "def root_verb_in_lemma_nosubj(sent):\n",
    "    doc = nlp(sent)\n",
    "    cond1 = False\n",
    "    cond2 = True\n",
    "    for token in doc:\n",
    "        if token.dep_=='ROOT' and token.pos_=='VERB' and token.text.lower() == token.lemma_:\n",
    "            cond1 = True\n",
    "            #print(token.text, token.lemma_, token.pos_, token.tag_, token.dep_, token.shape_, token.is_alpha, token.is_stop)\n",
    "        if token.dep_ == 'nsubj':\n",
    "            cond2 = False   \n",
    "    return (cond1 and cond2)"
   ]
  },
  {
   "cell_type": "code",
   "execution_count": 15,
   "metadata": {},
   "outputs": [
    {
     "name": "stdout",
     "output_type": "stream",
     "text": [
      "Files to be processed = 408\n",
      "Files processed (318/408) - Total imperatives = 49249\r"
     ]
    },
    {
     "ename": "OSError",
     "evalue": "[Errno 28] No space left on device",
     "output_type": "error",
     "traceback": [
      "\u001b[0;31m---------------------------------------------------------------------------\u001b[0m",
      "\u001b[0;31mOSError\u001b[0m                                   Traceback (most recent call last)",
      "\u001b[0;32m<ipython-input-15-caf0fcf4c019>\u001b[0m in \u001b[0;36m<module>\u001b[0;34m\u001b[0m\n\u001b[1;32m     22\u001b[0m                     \u001b[0;32mif\u001b[0m \u001b[0mroot_verb_in_lemma_nosubj\u001b[0m\u001b[0;34m(\u001b[0m\u001b[0msentence\u001b[0m\u001b[0;34m)\u001b[0m\u001b[0;34m:\u001b[0m\u001b[0;34m\u001b[0m\u001b[0m\n\u001b[1;32m     23\u001b[0m                         \u001b[0mimper_t\u001b[0m\u001b[0;34m.\u001b[0m\u001b[0mappend\u001b[0m\u001b[0;34m(\u001b[0m\u001b[0msentence\u001b[0m\u001b[0;34m)\u001b[0m\u001b[0;34m\u001b[0m\u001b[0m\n\u001b[0;32m---> 24\u001b[0;31m                         \u001b[0mop\u001b[0m\u001b[0;34m.\u001b[0m\u001b[0mwrite\u001b[0m\u001b[0;34m(\u001b[0m\u001b[0msentence\u001b[0m\u001b[0;34m+\u001b[0m\u001b[0;34m'\\n'\u001b[0m\u001b[0;34m)\u001b[0m\u001b[0;34m\u001b[0m\u001b[0m\n\u001b[0m\u001b[1;32m     25\u001b[0m \u001b[0;34m\u001b[0m\u001b[0m\n\u001b[1;32m     26\u001b[0m                         \u001b[0mcount\u001b[0m \u001b[0;34m+=\u001b[0m \u001b[0;36m1\u001b[0m\u001b[0;34m\u001b[0m\u001b[0m\n",
      "\u001b[0;31mOSError\u001b[0m: [Errno 28] No space left on device"
     ]
    }
   ],
   "source": [
    "dataset = 'tweets/'\n",
    "ip_path = os.path.join(OP_DIR, dataset)\n",
    "op_filename = os.path.join(OP_DIR, 'imperative_tweets_rule1.txt')\n",
    "\n",
    "tic = time.time()\n",
    "\n",
    "processed_tweets_files = os.listdir(ip_path)\n",
    "print('Files to be processed =', len(processed_tweets_files))\n",
    "\n",
    "imper_t = []\n",
    "count = 0\n",
    "file_count = 0\n",
    "\n",
    "with open(op_filename, 'w', encoding='utf-8') as op:\n",
    "    for filename in processed_tweets_files:\n",
    "        if filename.endswith('.txt'): \n",
    "            ip_filename = os.path.join(ip_path, filename)\n",
    "            \n",
    "            with open(ip_filename, 'r', encoding='utf-8') as ip:\n",
    "\n",
    "                for sentence in ip:\n",
    "                    if root_verb_in_lemma_nosubj(sentence):\n",
    "                        imper_t.append(sentence)\n",
    "                        op.write(sentence+'\\n')\n",
    "\n",
    "                        count += 1\n",
    "\n",
    "            file_count += 1\n",
    "        print('Files processed ('+str(file_count)+'/'+str(len(processed_tweets_files))+ \\\n",
    "                      ') - Total imperatives = ' + str(len(imper_t)), end='\\r')\n",
    "\n",
    "print('\\nTotal time:', (time.time()-tic), 'seconds')"
   ]
  },
  {
   "cell_type": "code",
   "execution_count": null,
   "metadata": {},
   "outputs": [],
   "source": []
  }
 ],
 "metadata": {
  "kernelspec": {
   "display_name": "sentgen",
   "language": "python",
   "name": "sentgen"
  },
  "language_info": {
   "codemirror_mode": {
    "name": "ipython",
    "version": 3
   },
   "file_extension": ".py",
   "mimetype": "text/x-python",
   "name": "python",
   "nbconvert_exporter": "python",
   "pygments_lexer": "ipython3",
   "version": "3.5.5"
  }
 },
 "nbformat": 4,
 "nbformat_minor": 2
}
