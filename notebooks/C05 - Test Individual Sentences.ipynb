{
 "cells": [
  {
   "cell_type": "code",
   "execution_count": 1,
   "metadata": {},
   "outputs": [],
   "source": [
    "import pickle as pkl\n",
    "import re\n",
    "from sklearn.linear_model import LogisticRegression"
   ]
  },
  {
   "cell_type": "code",
   "execution_count": 2,
   "metadata": {},
   "outputs": [],
   "source": [
    "def preprocess_text(text):\n",
    "    \n",
    "    # print(text, end ='')\n",
    "    \n",
    "    text = text.lower()\n",
    "    text = re.sub(r'\\W',' ', text)\n",
    "    text = re.sub(' \\d+', ' ', text)\n",
    "    text = re.sub(r'\\s+',' ', text)\n",
    "        \n",
    "    words = text.split(' ')\n",
    "    words = [w.strip() for w in words]\n",
    "    \n",
    "    text = ' '.join(words)\n",
    "    text = text.strip()\n",
    "        \n",
    "    # print(text)\n",
    "    return text\n",
    "\n",
    "def text_to_speechact(text, estimator_file, embedding_file, corpus_file):\n",
    "\n",
    "    # text = preprocess_text(sample_sentence).strip()\n",
    "    text = preprocess_text(text).strip()\n",
    "    \n",
    "    textlist = []\n",
    "    ret_result = 'None'\n",
    "    \n",
    "    if text:\n",
    "        \n",
    "        # The following code can be pushed into the initialization\n",
    "        # portion of the application to improve efficiency\n",
    "        # ------ BEGIN ----------\n",
    "\n",
    "        # Read the embedding\n",
    "        with open(embedding_file, 'rb') as f_ip:\n",
    "            vectorizer = pkl.load(f_ip)\n",
    "            \n",
    "        # Read the estimator\n",
    "        with open(estimator_file, 'rb') as f_ip:\n",
    "            estimator = pkl.load(f_ip)\n",
    "            \n",
    "        # -------- END -----------\n",
    "        \n",
    "        # Vectorize the input text\n",
    "        textlist.append(text)\n",
    "        text_vector = vectorizer.transform(textlist)\n",
    "        \n",
    "        # Estimate the predicted value\n",
    "        pred = estimator.predict(text_vector)\n",
    "        pred_val = pred[0]\n",
    "\n",
    "        # Return the prediction in the form of a string\n",
    "        # Efficiency: Return as integers and convert in the last responsible moment\n",
    "        if pred_val == 0:\n",
    "            ret_result = 'statement'\n",
    "        elif pred_val == 1:\n",
    "            ret_result = 'interrogative'\n",
    "        elif pred_val == 2:\n",
    "            ret_result = 'imperative'\n",
    "            \n",
    "    return ret_result"
   ]
  },
  {
   "cell_type": "code",
   "execution_count": 3,
   "metadata": {},
   "outputs": [
    {
     "name": "stdout",
     "output_type": "stream",
     "text": [
      "interrogative\n",
      "imperative\n"
     ]
    }
   ],
   "source": [
    "def speechact_wrapper(sample_sentence):\n",
    "    \n",
    "    estimator_file = '../models/estimator_speechact.pkl'\n",
    "    embedding_file = '../data/input/groundtruth/corpus/vector_countvector_stopword.pkl'\n",
    "    \n",
    "    speech_act = text_to_speechact(text=sample_sentence, \n",
    "                      estimator_file=estimator_file, \n",
    "                      embedding_file=embedding_file, \n",
    "                      corpus_file=None)\n",
    "    \n",
    "    return speech_act\n",
    "\n",
    "print(speechact_wrapper('What is the name of the person'))\n",
    "print(speechact_wrapper('Go away'))"
   ]
  },
  {
   "cell_type": "code",
   "execution_count": null,
   "metadata": {},
   "outputs": [],
   "source": []
  }
 ],
 "metadata": {
  "kernelspec": {
   "display_name": "sentgen",
   "language": "python",
   "name": "sentgen"
  },
  "language_info": {
   "codemirror_mode": {
    "name": "ipython",
    "version": 3
   },
   "file_extension": ".py",
   "mimetype": "text/x-python",
   "name": "python",
   "nbconvert_exporter": "python",
   "pygments_lexer": "ipython3",
   "version": "3.5.5"
  }
 },
 "nbformat": 4,
 "nbformat_minor": 2
}
