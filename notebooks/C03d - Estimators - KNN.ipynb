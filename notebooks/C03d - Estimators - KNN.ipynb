{
 "cells": [
  {
   "cell_type": "code",
   "execution_count": 8,
   "metadata": {},
   "outputs": [],
   "source": [
    "import pandas as pd\n",
    "import numpy as np\n",
    "import pickle as pkl\n",
    "from collections import Counter\n",
    "import os\n",
    "import re\n",
    "from os import listdir\n",
    "from os.path import isfile, join\n",
    "import sklearn\n",
    "import nltk\n",
    "from nltk.corpus import stopwords \n",
    "\n",
    "from sklearn.neighbors import KNeighborsClassifier"
   ]
  },
  {
   "cell_type": "code",
   "execution_count": 9,
   "metadata": {},
   "outputs": [],
   "source": [
    "INPUT_DIR = '../data/input/groundtruth/'\n",
    "OUTPUT_DIR = '../data/input/groundtruth/'\n",
    "\n",
    "CORPUS_DIR = os.path.join(OUTPUT_DIR, 'corpus')\n",
    "VECTORIZED_DIR = os.path.join(OUTPUT_DIR, 'vectorized_trainset')\n",
    "\n",
    "text_col_header = 'text'\n",
    "label_col_header = 'label'"
   ]
  },
  {
   "cell_type": "markdown",
   "metadata": {},
   "source": [
    "### Reading test and train data to keep them ready for testing"
   ]
  },
  {
   "cell_type": "code",
   "execution_count": 10,
   "metadata": {},
   "outputs": [],
   "source": [
    "from sklearn.feature_extraction.text import CountVectorizer\n",
    "\n",
    "# Read Train data\n",
    "ip_train_file = os.path.join(INPUT_DIR, 'speechact_train.csv')\n",
    "df_train = pd.read_csv(ip_train_file)\n",
    "df_train = df_train.astype({text_col_header: str, label_col_header: int})\n",
    "\n",
    "# Read Test data\n",
    "ip_test_file = os.path.join(INPUT_DIR, 'speechact_test.csv')\n",
    "df_test = pd.read_csv(ip_test_file)\n",
    "df_test = df_test.astype({text_col_header: str, label_col_header: int})"
   ]
  },
  {
   "cell_type": "markdown",
   "metadata": {},
   "source": [
    "# Support Vector Machines"
   ]
  },
  {
   "cell_type": "markdown",
   "metadata": {},
   "source": [
    "Requirements\n",
    "<li> Input - Vectorized Data train </li>\n",
    "<li> Input - Vectorized Label train </li>"
   ]
  },
  {
   "cell_type": "markdown",
   "metadata": {},
   "source": [
    "### Counter Vector with stopwords"
   ]
  },
  {
   "cell_type": "code",
   "execution_count": 11,
   "metadata": {},
   "outputs": [],
   "source": [
    "# Read the vectorized train data and train label\n",
    "vectorized_train_data_file = os.path.join(VECTORIZED_DIR, 'train_data_countvector_stopword.pkl')\n",
    "with open(vectorized_train_data_file, 'rb') as f_ip:\n",
    "    data_train = pkl.load(f_ip)\n",
    "    \n",
    "train_label_file = os.path.join(VECTORIZED_DIR, 'train_label_countvector_stopword.pkl')\n",
    "with open(train_label_file, 'rb') as f_ip:\n",
    "    label_train = pkl.load(f_ip)"
   ]
  },
  {
   "cell_type": "markdown",
   "metadata": {},
   "source": [
    "#### Train and Test the model"
   ]
  },
  {
   "cell_type": "code",
   "execution_count": 12,
   "metadata": {},
   "outputs": [],
   "source": [
    "# Read the vectorizer to transform the test data\n",
    "vector_file = os.path.join(CORPUS_DIR, 'vector_countvector_stopword.pkl')\n",
    "with open(vector_file, 'rb') as f_ip:\n",
    "    vectorizer = pkl.load(f_ip)\n",
    "\n",
    "data_test = vectorizer.transform(df_test[text_col_header])"
   ]
  },
  {
   "cell_type": "code",
   "execution_count": 13,
   "metadata": {},
   "outputs": [],
   "source": [
    "# Run KNN\n",
    "estimator = KNeighborsClassifier()\n",
    "estimator.fit(data_train, np.ravel(label_train, order='C'))\n",
    "predictions_test = estimator.predict(data_test)"
   ]
  },
  {
   "cell_type": "markdown",
   "metadata": {},
   "source": [
    "#### Performance metrics"
   ]
  },
  {
   "cell_type": "code",
   "execution_count": 14,
   "metadata": {},
   "outputs": [
    {
     "name": "stdout",
     "output_type": "stream",
     "text": [
      "Train Accuracy 0.8180813499016146\n",
      "Test Accuracy 0.7375741239892183\n",
      "F1 macro Score:  0.7374369422425437\n",
      "              precision    recall  f1-score   support\n",
      "\n",
      "           0       0.92      0.53      0.67      3911\n",
      "           1       0.74      0.84      0.79      2908\n",
      "           2       0.63      0.94      0.75      2456\n",
      "\n",
      "    accuracy                           0.74      9275\n",
      "   macro avg       0.76      0.77      0.74      9275\n",
      "weighted avg       0.78      0.74      0.73      9275\n",
      "\n"
     ]
    }
   ],
   "source": [
    "from sklearn.metrics import f1_score\n",
    "\n",
    "## Accuracy Measure\n",
    "print('Train Accuracy', estimator.score(data_train, df_train[label_col_header]))\n",
    "print('Test Accuracy', estimator.score(data_test, df_test[label_col_header]))\n",
    "\n",
    "# F1\n",
    "f1_measure = f1_score(df_test[label_col_header], predictions_test, average='macro')\n",
    "print('F1 macro Score: ', f1_measure)\n",
    "\n",
    "# Classification report\n",
    "from sklearn.metrics import classification_report\n",
    "print(classification_report(df_test[label_col_header], predictions_test))"
   ]
  },
  {
   "cell_type": "code",
   "execution_count": null,
   "metadata": {},
   "outputs": [],
   "source": []
  },
  {
   "cell_type": "markdown",
   "metadata": {},
   "source": [
    "### Counter Vector with no stopwords"
   ]
  },
  {
   "cell_type": "code",
   "execution_count": 15,
   "metadata": {},
   "outputs": [],
   "source": [
    "# Read the vectorized train data and train label\n",
    "vectorized_train_data_file = os.path.join(VECTORIZED_DIR, 'train_data_countvector_nostopword.pkl')\n",
    "with open(vectorized_train_data_file, 'rb') as f_ip:\n",
    "    data_train = pkl.load(f_ip)\n",
    "    \n",
    "train_label_file = os.path.join(VECTORIZED_DIR, 'train_label_countvector_nostopword.pkl')\n",
    "with open(train_label_file, 'rb') as f_ip:\n",
    "    label_train = pkl.load(f_ip)"
   ]
  },
  {
   "cell_type": "markdown",
   "metadata": {},
   "source": [
    "#### Train and Test the model"
   ]
  },
  {
   "cell_type": "code",
   "execution_count": 16,
   "metadata": {},
   "outputs": [],
   "source": [
    "# Read the vectorizer to transform the test data\n",
    "vector_file = os.path.join(CORPUS_DIR, 'vector_countvector_nostopword.pkl')\n",
    "with open(vector_file, 'rb') as f_ip:\n",
    "    vectorizer = pkl.load(f_ip)\n",
    "\n",
    "data_test = vectorizer.transform(df_test[text_col_header])"
   ]
  },
  {
   "cell_type": "code",
   "execution_count": 17,
   "metadata": {},
   "outputs": [],
   "source": [
    "# Run KNN\n",
    "estimator = KNeighborsClassifier()\n",
    "estimator.fit(data_train, np.ravel(label_train, order='C'))\n",
    "predictions_test = estimator.predict(data_test)"
   ]
  },
  {
   "cell_type": "markdown",
   "metadata": {},
   "source": [
    "#### Performance metrics"
   ]
  },
  {
   "cell_type": "code",
   "execution_count": 18,
   "metadata": {},
   "outputs": [
    {
     "name": "stdout",
     "output_type": "stream",
     "text": [
      "Train Accuracy 0.6491280088412087\n",
      "Test Accuracy 0.4821563342318059\n",
      "F1 macro Score:  0.4638170698812691\n",
      "              precision    recall  f1-score   support\n",
      "\n",
      "           0       0.68      0.19      0.30      3911\n",
      "           1       0.42      0.52      0.46      2908\n",
      "           2       0.49      0.90      0.63      2456\n",
      "\n",
      "    accuracy                           0.48      9275\n",
      "   macro avg       0.53      0.54      0.46      9275\n",
      "weighted avg       0.54      0.48      0.44      9275\n",
      "\n"
     ]
    }
   ],
   "source": [
    "from sklearn.metrics import f1_score\n",
    "\n",
    "## Accuracy Measure\n",
    "print('Train Accuracy', estimator.score(data_train, df_train[label_col_header]))\n",
    "print('Test Accuracy', estimator.score(data_test, df_test[label_col_header]))\n",
    "\n",
    "# F1\n",
    "f1_measure = f1_score(df_test[label_col_header], predictions_test, average='macro')\n",
    "print('F1 macro Score: ', f1_measure)\n",
    "\n",
    "# Classification report\n",
    "from sklearn.metrics import classification_report\n",
    "print(classification_report(df_test[label_col_header], predictions_test))"
   ]
  },
  {
   "cell_type": "code",
   "execution_count": null,
   "metadata": {},
   "outputs": [],
   "source": []
  },
  {
   "cell_type": "markdown",
   "metadata": {},
   "source": [
    "### Counter Vector with minimum occurences of words (min_occurences=2)"
   ]
  },
  {
   "cell_type": "code",
   "execution_count": 19,
   "metadata": {},
   "outputs": [],
   "source": [
    "# Read the vectorized train data and train label\n",
    "vectorized_train_data_file = os.path.join(VECTORIZED_DIR, 'train_data_countvector_minoccurences_2.pkl')\n",
    "with open(vectorized_train_data_file, 'rb') as f_ip:\n",
    "    data_train = pkl.load(f_ip)\n",
    "    \n",
    "train_label_file = os.path.join(VECTORIZED_DIR, 'train_label_countvector_minoccurences_2.pkl')\n",
    "with open(train_label_file, 'rb') as f_ip:\n",
    "    label_train = pkl.load(f_ip)"
   ]
  },
  {
   "cell_type": "markdown",
   "metadata": {},
   "source": [
    "#### Train and Test the model"
   ]
  },
  {
   "cell_type": "code",
   "execution_count": 20,
   "metadata": {},
   "outputs": [],
   "source": [
    "# Read the vectorizer to transform the test data\n",
    "vector_file = os.path.join(CORPUS_DIR, 'vector_countvector_minoccurences_2.pkl')\n",
    "with open(vector_file, 'rb') as f_ip:\n",
    "    vectorizer = pkl.load(f_ip)\n",
    "\n",
    "data_test = vectorizer.transform(df_test[text_col_header])"
   ]
  },
  {
   "cell_type": "code",
   "execution_count": 21,
   "metadata": {},
   "outputs": [],
   "source": [
    "# Run KNN\n",
    "estimator = KNeighborsClassifier()\n",
    "estimator.fit(data_train, np.ravel(label_train, order='C'))\n",
    "predictions_test = estimator.predict(data_test)"
   ]
  },
  {
   "cell_type": "markdown",
   "metadata": {},
   "source": [
    "#### Performance metrics"
   ]
  },
  {
   "cell_type": "code",
   "execution_count": 22,
   "metadata": {},
   "outputs": [
    {
     "name": "stdout",
     "output_type": "stream",
     "text": [
      "Train Accuracy 0.685274535701771\n",
      "Test Accuracy 0.554177897574124\n",
      "F1 macro Score:  0.5619758483845737\n",
      "              precision    recall  f1-score   support\n",
      "\n",
      "           0       0.64      0.31      0.42      3911\n",
      "           1       0.43      0.65      0.52      2908\n",
      "           2       0.69      0.83      0.75      2456\n",
      "\n",
      "    accuracy                           0.55      9275\n",
      "   macro avg       0.59      0.60      0.56      9275\n",
      "weighted avg       0.59      0.55      0.54      9275\n",
      "\n"
     ]
    }
   ],
   "source": [
    "from sklearn.metrics import f1_score\n",
    "\n",
    "## Accuracy Measure\n",
    "print('Train Accuracy', estimator.score(data_train, df_train[label_col_header]))\n",
    "print('Test Accuracy', estimator.score(data_test, df_test[label_col_header]))\n",
    "\n",
    "# F1\n",
    "f1_measure = f1_score(df_test[label_col_header], predictions_test, average='macro')\n",
    "print('F1 macro Score: ', f1_measure)\n",
    "\n",
    "# Classification report\n",
    "from sklearn.metrics import classification_report\n",
    "print(classification_report(df_test[label_col_header], predictions_test))"
   ]
  },
  {
   "cell_type": "code",
   "execution_count": null,
   "metadata": {},
   "outputs": [],
   "source": []
  }
 ],
 "metadata": {
  "kernelspec": {
   "display_name": "sentgen",
   "language": "python",
   "name": "sentgen"
  },
  "language_info": {
   "codemirror_mode": {
    "name": "ipython",
    "version": 3
   },
   "file_extension": ".py",
   "mimetype": "text/x-python",
   "name": "python",
   "nbconvert_exporter": "python",
   "pygments_lexer": "ipython3",
   "version": "3.5.5"
  }
 },
 "nbformat": 4,
 "nbformat_minor": 2
}
