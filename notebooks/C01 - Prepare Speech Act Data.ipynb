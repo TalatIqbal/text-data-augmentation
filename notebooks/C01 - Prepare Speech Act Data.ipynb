{
 "cells": [
  {
   "cell_type": "code",
   "execution_count": 79,
   "metadata": {},
   "outputs": [],
   "source": [
    "import pandas as pd\n",
    "import pickle as pkl\n",
    "from collections import Counter\n",
    "import os\n",
    "from os import listdir\n",
    "from os.path import isfile, join\n",
    "from sklearn.model_selection import train_test_split"
   ]
  },
  {
   "cell_type": "markdown",
   "metadata": {},
   "source": [
    "# Original Dataset with 3 valid classes"
   ]
  },
  {
   "cell_type": "markdown",
   "metadata": {},
   "source": [
    "## Labels in the original dataset\n",
    "0 -> Statement <br>\n",
    "1 -> Interrogative <br>\n",
    "2 -> Imperative <br>\n",
    "3 -> Do not use it / Corrupted label <br>"
   ]
  },
  {
   "cell_type": "code",
   "execution_count": 2,
   "metadata": {},
   "outputs": [],
   "source": [
    "labels = []\n",
    "text = []\n",
    "\n",
    "with open('../data/input/kevin/trn_data.csv', 'r') as f:\n",
    "    for line in f.readlines():\n",
    "        values = line.split('\\t', 1)\n",
    "        labels.append(values[0])\n",
    "        text_val = values[1]\n",
    "        text_val = text_val.replace('\\t', '').replace('\\n', '').replace('  ', ' ').replace('\"\"','')\n",
    "        text.append(text_val)"
   ]
  },
  {
   "cell_type": "code",
   "execution_count": 3,
   "metadata": {},
   "outputs": [],
   "source": [
    "df_data = pd.DataFrame(list(zip(text, labels)), columns=['text', 'label'])"
   ]
  },
  {
   "cell_type": "code",
   "execution_count": 4,
   "metadata": {},
   "outputs": [
    {
     "data": {
      "text/html": [
       "<div>\n",
       "<style scoped>\n",
       "    .dataframe tbody tr th:only-of-type {\n",
       "        vertical-align: middle;\n",
       "    }\n",
       "\n",
       "    .dataframe tbody tr th {\n",
       "        vertical-align: top;\n",
       "    }\n",
       "\n",
       "    .dataframe thead th {\n",
       "        text-align: right;\n",
       "    }\n",
       "</style>\n",
       "<table border=\"1\" class=\"dataframe\">\n",
       "  <thead>\n",
       "    <tr style=\"text-align: right;\">\n",
       "      <th></th>\n",
       "      <th>text</th>\n",
       "      <th>label</th>\n",
       "    </tr>\n",
       "  </thead>\n",
       "  <tbody>\n",
       "    <tr>\n",
       "      <th>0</th>\n",
       "      <td>A cockroach will live nine days without it’s h...</td>\n",
       "      <td>0</td>\n",
       "    </tr>\n",
       "    <tr>\n",
       "      <th>1</th>\n",
       "      <td>More people are killed each year from bees tha...</td>\n",
       "      <td>0</td>\n",
       "    </tr>\n",
       "    <tr>\n",
       "      <th>2</th>\n",
       "      <td>Well i-, well it seemed to make sense since I ...</td>\n",
       "      <td>0</td>\n",
       "    </tr>\n",
       "    <tr>\n",
       "      <th>3</th>\n",
       "      <td>So, I have none left what so ever.</td>\n",
       "      <td>0</td>\n",
       "    </tr>\n",
       "    <tr>\n",
       "      <th>4</th>\n",
       "      <td>You have you have a lot of younger brothers an...</td>\n",
       "      <td>0</td>\n",
       "    </tr>\n",
       "  </tbody>\n",
       "</table>\n",
       "</div>"
      ],
      "text/plain": [
       "                                                text label\n",
       "0  A cockroach will live nine days without it’s h...     0\n",
       "1  More people are killed each year from bees tha...     0\n",
       "2  Well i-, well it seemed to make sense since I ...     0\n",
       "3                 So, I have none left what so ever.     0\n",
       "4  You have you have a lot of younger brothers an...     0"
      ]
     },
     "execution_count": 4,
     "metadata": {},
     "output_type": "execute_result"
    }
   ],
   "source": [
    "df_data.head()"
   ]
  },
  {
   "cell_type": "code",
   "execution_count": 5,
   "metadata": {
    "scrolled": true
   },
   "outputs": [
    {
     "data": {
      "text/html": [
       "<div>\n",
       "<style scoped>\n",
       "    .dataframe tbody tr th:only-of-type {\n",
       "        vertical-align: middle;\n",
       "    }\n",
       "\n",
       "    .dataframe tbody tr th {\n",
       "        vertical-align: top;\n",
       "    }\n",
       "\n",
       "    .dataframe thead th {\n",
       "        text-align: right;\n",
       "    }\n",
       "</style>\n",
       "<table border=\"1\" class=\"dataframe\">\n",
       "  <thead>\n",
       "    <tr style=\"text-align: right;\">\n",
       "      <th></th>\n",
       "      <th>text</th>\n",
       "      <th>label</th>\n",
       "    </tr>\n",
       "  </thead>\n",
       "  <tbody>\n",
       "    <tr>\n",
       "      <th>count</th>\n",
       "      <td>1388</td>\n",
       "      <td>1388</td>\n",
       "    </tr>\n",
       "    <tr>\n",
       "      <th>unique</th>\n",
       "      <td>1382</td>\n",
       "      <td>3</td>\n",
       "    </tr>\n",
       "    <tr>\n",
       "      <th>top</th>\n",
       "      <td>oh no.</td>\n",
       "      <td>0</td>\n",
       "    </tr>\n",
       "    <tr>\n",
       "      <th>freq</th>\n",
       "      <td>2</td>\n",
       "      <td>664</td>\n",
       "    </tr>\n",
       "  </tbody>\n",
       "</table>\n",
       "</div>"
      ],
      "text/plain": [
       "          text label\n",
       "count     1388  1388\n",
       "unique    1382     3\n",
       "top     oh no.     0\n",
       "freq         2   664"
      ]
     },
     "execution_count": 5,
     "metadata": {},
     "output_type": "execute_result"
    }
   ],
   "source": [
    "df_data.describe()"
   ]
  },
  {
   "cell_type": "code",
   "execution_count": 6,
   "metadata": {},
   "outputs": [],
   "source": [
    "labels = []\n",
    "text = []\n",
    "\n",
    "with open('../data/input/kevin/tst_data.csv', 'r') as f:\n",
    "    for line in f.readlines():\n",
    "        values = line.split('\\t', 1)\n",
    "        labels.append(values[0])\n",
    "        text_val = values[1]\n",
    "        text_val = text_val.replace('\\t', '').replace('\\n', '').replace('  ', ' ').replace('\"\"','')\n",
    "        text.append(text_val)"
   ]
  },
  {
   "cell_type": "code",
   "execution_count": 7,
   "metadata": {},
   "outputs": [],
   "source": [
    "df_data2 = pd.DataFrame(list(zip(text, labels)), columns=['text', 'label'])"
   ]
  },
  {
   "cell_type": "code",
   "execution_count": 8,
   "metadata": {},
   "outputs": [
    {
     "data": {
      "text/html": [
       "<div>\n",
       "<style scoped>\n",
       "    .dataframe tbody tr th:only-of-type {\n",
       "        vertical-align: middle;\n",
       "    }\n",
       "\n",
       "    .dataframe tbody tr th {\n",
       "        vertical-align: top;\n",
       "    }\n",
       "\n",
       "    .dataframe thead th {\n",
       "        text-align: right;\n",
       "    }\n",
       "</style>\n",
       "<table border=\"1\" class=\"dataframe\">\n",
       "  <thead>\n",
       "    <tr style=\"text-align: right;\">\n",
       "      <th></th>\n",
       "      <th>text</th>\n",
       "      <th>label</th>\n",
       "    </tr>\n",
       "  </thead>\n",
       "  <tbody>\n",
       "    <tr>\n",
       "      <th>count</th>\n",
       "      <td>298</td>\n",
       "      <td>298</td>\n",
       "    </tr>\n",
       "    <tr>\n",
       "      <th>unique</th>\n",
       "      <td>297</td>\n",
       "      <td>4</td>\n",
       "    </tr>\n",
       "    <tr>\n",
       "      <th>top</th>\n",
       "      <td>Why.</td>\n",
       "      <td>2</td>\n",
       "    </tr>\n",
       "    <tr>\n",
       "      <th>freq</th>\n",
       "      <td>2</td>\n",
       "      <td>85</td>\n",
       "    </tr>\n",
       "  </tbody>\n",
       "</table>\n",
       "</div>"
      ],
      "text/plain": [
       "        text label\n",
       "count    298   298\n",
       "unique   297     4\n",
       "top     Why.     2\n",
       "freq       2    85"
      ]
     },
     "execution_count": 8,
     "metadata": {},
     "output_type": "execute_result"
    }
   ],
   "source": [
    "df_data2.describe()"
   ]
  },
  {
   "cell_type": "code",
   "execution_count": 9,
   "metadata": {},
   "outputs": [
    {
     "data": {
      "text/html": [
       "<div>\n",
       "<style scoped>\n",
       "    .dataframe tbody tr th:only-of-type {\n",
       "        vertical-align: middle;\n",
       "    }\n",
       "\n",
       "    .dataframe tbody tr th {\n",
       "        vertical-align: top;\n",
       "    }\n",
       "\n",
       "    .dataframe thead th {\n",
       "        text-align: right;\n",
       "    }\n",
       "</style>\n",
       "<table border=\"1\" class=\"dataframe\">\n",
       "  <thead>\n",
       "    <tr style=\"text-align: right;\">\n",
       "      <th></th>\n",
       "      <th>text</th>\n",
       "      <th>label</th>\n",
       "    </tr>\n",
       "  </thead>\n",
       "  <tbody>\n",
       "    <tr>\n",
       "      <th>0</th>\n",
       "      <td>Like if she'll ask me where are my crayons whe...</td>\n",
       "      <td>0</td>\n",
       "    </tr>\n",
       "    <tr>\n",
       "      <th>1</th>\n",
       "      <td>Ketchup was sold in the 1830s as medicine.</td>\n",
       "      <td>0</td>\n",
       "    </tr>\n",
       "    <tr>\n",
       "      <th>2</th>\n",
       "      <td>I need some water.</td>\n",
       "      <td>0</td>\n",
       "    </tr>\n",
       "    <tr>\n",
       "      <th>3</th>\n",
       "      <td>yeah yeah.</td>\n",
       "      <td>0</td>\n",
       "    </tr>\n",
       "    <tr>\n",
       "      <th>4</th>\n",
       "      <td>kind of telling him that, you know, from my re...</td>\n",
       "      <td>0</td>\n",
       "    </tr>\n",
       "  </tbody>\n",
       "</table>\n",
       "</div>"
      ],
      "text/plain": [
       "                                                text label\n",
       "0  Like if she'll ask me where are my crayons whe...     0\n",
       "1         Ketchup was sold in the 1830s as medicine.     0\n",
       "2                                 I need some water.     0\n",
       "3                                         yeah yeah.     0\n",
       "4  kind of telling him that, you know, from my re...     0"
      ]
     },
     "execution_count": 9,
     "metadata": {},
     "output_type": "execute_result"
    }
   ],
   "source": [
    "df_data2.head()"
   ]
  },
  {
   "cell_type": "code",
   "execution_count": 10,
   "metadata": {},
   "outputs": [],
   "source": [
    "df_combined = df_data.append(df_data2, ignore_index=True)"
   ]
  },
  {
   "cell_type": "code",
   "execution_count": 11,
   "metadata": {},
   "outputs": [
    {
     "data": {
      "text/html": [
       "<div>\n",
       "<style scoped>\n",
       "    .dataframe tbody tr th:only-of-type {\n",
       "        vertical-align: middle;\n",
       "    }\n",
       "\n",
       "    .dataframe tbody tr th {\n",
       "        vertical-align: top;\n",
       "    }\n",
       "\n",
       "    .dataframe thead th {\n",
       "        text-align: right;\n",
       "    }\n",
       "</style>\n",
       "<table border=\"1\" class=\"dataframe\">\n",
       "  <thead>\n",
       "    <tr style=\"text-align: right;\">\n",
       "      <th></th>\n",
       "      <th>text</th>\n",
       "      <th>label</th>\n",
       "    </tr>\n",
       "  </thead>\n",
       "  <tbody>\n",
       "    <tr>\n",
       "      <th>0</th>\n",
       "      <td>A cockroach will live nine days without it’s h...</td>\n",
       "      <td>0</td>\n",
       "    </tr>\n",
       "    <tr>\n",
       "      <th>1</th>\n",
       "      <td>More people are killed each year from bees tha...</td>\n",
       "      <td>0</td>\n",
       "    </tr>\n",
       "    <tr>\n",
       "      <th>2</th>\n",
       "      <td>Well i-, well it seemed to make sense since I ...</td>\n",
       "      <td>0</td>\n",
       "    </tr>\n",
       "    <tr>\n",
       "      <th>3</th>\n",
       "      <td>So, I have none left what so ever.</td>\n",
       "      <td>0</td>\n",
       "    </tr>\n",
       "    <tr>\n",
       "      <th>4</th>\n",
       "      <td>You have you have a lot of younger brothers an...</td>\n",
       "      <td>0</td>\n",
       "    </tr>\n",
       "    <tr>\n",
       "      <th>...</th>\n",
       "      <td>...</td>\n",
       "      <td>...</td>\n",
       "    </tr>\n",
       "    <tr>\n",
       "      <th>1681</th>\n",
       "      <td>CHANGE THE PROCESS, PPL.</td>\n",
       "      <td>3</td>\n",
       "    </tr>\n",
       "    <tr>\n",
       "      <th>1682</th>\n",
       "      <td>You guys do everything wonderful.</td>\n",
       "      <td>3</td>\n",
       "    </tr>\n",
       "    <tr>\n",
       "      <th>1683</th>\n",
       "      <td>I'm so frustrated.</td>\n",
       "      <td>3</td>\n",
       "    </tr>\n",
       "    <tr>\n",
       "      <th>1684</th>\n",
       "      <td>You will not be disappointed.</td>\n",
       "      <td>3</td>\n",
       "    </tr>\n",
       "    <tr>\n",
       "      <th>1685</th>\n",
       "      <td>Also very friendly and the stylists are not in...</td>\n",
       "      <td>3</td>\n",
       "    </tr>\n",
       "  </tbody>\n",
       "</table>\n",
       "<p>1686 rows × 2 columns</p>\n",
       "</div>"
      ],
      "text/plain": [
       "                                                   text label\n",
       "0     A cockroach will live nine days without it’s h...     0\n",
       "1     More people are killed each year from bees tha...     0\n",
       "2     Well i-, well it seemed to make sense since I ...     0\n",
       "3                    So, I have none left what so ever.     0\n",
       "4     You have you have a lot of younger brothers an...     0\n",
       "...                                                 ...   ...\n",
       "1681                           CHANGE THE PROCESS, PPL.     3\n",
       "1682                  You guys do everything wonderful.     3\n",
       "1683                                 I'm so frustrated.     3\n",
       "1684                      You will not be disappointed.     3\n",
       "1685  Also very friendly and the stylists are not in...     3\n",
       "\n",
       "[1686 rows x 2 columns]"
      ]
     },
     "execution_count": 11,
     "metadata": {},
     "output_type": "execute_result"
    }
   ],
   "source": [
    "df_combined"
   ]
  },
  {
   "cell_type": "code",
   "execution_count": 12,
   "metadata": {},
   "outputs": [
    {
     "name": "stdout",
     "output_type": "stream",
     "text": [
      "Counter({'0': 735, '2': 466, '1': 419, '3': 66})\n"
     ]
    }
   ],
   "source": [
    "counter_rule1 = Counter(df_combined['label'])\n",
    "print(counter_rule1)"
   ]
  },
  {
   "cell_type": "code",
   "execution_count": 13,
   "metadata": {},
   "outputs": [
    {
     "data": {
      "text/html": [
       "<div>\n",
       "<style scoped>\n",
       "    .dataframe tbody tr th:only-of-type {\n",
       "        vertical-align: middle;\n",
       "    }\n",
       "\n",
       "    .dataframe tbody tr th {\n",
       "        vertical-align: top;\n",
       "    }\n",
       "\n",
       "    .dataframe thead th {\n",
       "        text-align: right;\n",
       "    }\n",
       "</style>\n",
       "<table border=\"1\" class=\"dataframe\">\n",
       "  <thead>\n",
       "    <tr style=\"text-align: right;\">\n",
       "      <th></th>\n",
       "      <th>text</th>\n",
       "      <th>label</th>\n",
       "    </tr>\n",
       "  </thead>\n",
       "  <tbody>\n",
       "    <tr>\n",
       "      <th>0</th>\n",
       "      <td>A cockroach will live nine days without it’s h...</td>\n",
       "      <td>0</td>\n",
       "    </tr>\n",
       "    <tr>\n",
       "      <th>1</th>\n",
       "      <td>More people are killed each year from bees tha...</td>\n",
       "      <td>0</td>\n",
       "    </tr>\n",
       "    <tr>\n",
       "      <th>2</th>\n",
       "      <td>Well i-, well it seemed to make sense since I ...</td>\n",
       "      <td>0</td>\n",
       "    </tr>\n",
       "    <tr>\n",
       "      <th>3</th>\n",
       "      <td>So, I have none left what so ever.</td>\n",
       "      <td>0</td>\n",
       "    </tr>\n",
       "    <tr>\n",
       "      <th>4</th>\n",
       "      <td>You have you have a lot of younger brothers an...</td>\n",
       "      <td>0</td>\n",
       "    </tr>\n",
       "  </tbody>\n",
       "</table>\n",
       "</div>"
      ],
      "text/plain": [
       "                                                text label\n",
       "0  A cockroach will live nine days without it’s h...     0\n",
       "1  More people are killed each year from bees tha...     0\n",
       "2  Well i-, well it seemed to make sense since I ...     0\n",
       "3                 So, I have none left what so ever.     0\n",
       "4  You have you have a lot of younger brothers an...     0"
      ]
     },
     "execution_count": 13,
     "metadata": {},
     "output_type": "execute_result"
    }
   ],
   "source": [
    "df_combined.loc[df_combined['label'] == '0'].head()"
   ]
  },
  {
   "cell_type": "code",
   "execution_count": 14,
   "metadata": {
    "scrolled": false
   },
   "outputs": [
    {
     "data": {
      "text/html": [
       "<div>\n",
       "<style scoped>\n",
       "    .dataframe tbody tr th:only-of-type {\n",
       "        vertical-align: middle;\n",
       "    }\n",
       "\n",
       "    .dataframe tbody tr th {\n",
       "        vertical-align: top;\n",
       "    }\n",
       "\n",
       "    .dataframe thead th {\n",
       "        text-align: right;\n",
       "    }\n",
       "</style>\n",
       "<table border=\"1\" class=\"dataframe\">\n",
       "  <thead>\n",
       "    <tr style=\"text-align: right;\">\n",
       "      <th></th>\n",
       "      <th>text</th>\n",
       "      <th>label</th>\n",
       "    </tr>\n",
       "  </thead>\n",
       "  <tbody>\n",
       "    <tr>\n",
       "      <th>350</th>\n",
       "      <td>oppressive and hierarchical system.</td>\n",
       "      <td>1</td>\n",
       "    </tr>\n",
       "    <tr>\n",
       "      <th>351</th>\n",
       "      <td>Barack Obama is how old.</td>\n",
       "      <td>1</td>\n",
       "    </tr>\n",
       "    <tr>\n",
       "      <th>352</th>\n",
       "      <td>daily call options.</td>\n",
       "      <td>1</td>\n",
       "    </tr>\n",
       "    <tr>\n",
       "      <th>353</th>\n",
       "      <td>Who's coming.</td>\n",
       "      <td>1</td>\n",
       "    </tr>\n",
       "    <tr>\n",
       "      <th>354</th>\n",
       "      <td>night to meet her or do you just think they'd ...</td>\n",
       "      <td>1</td>\n",
       "    </tr>\n",
       "  </tbody>\n",
       "</table>\n",
       "</div>"
      ],
      "text/plain": [
       "                                                  text label\n",
       "350                oppressive and hierarchical system.     1\n",
       "351                           Barack Obama is how old.     1\n",
       "352                                daily call options.     1\n",
       "353                                      Who's coming.     1\n",
       "354  night to meet her or do you just think they'd ...     1"
      ]
     },
     "execution_count": 14,
     "metadata": {},
     "output_type": "execute_result"
    }
   ],
   "source": [
    "df_combined.loc[df_combined['label'] == '1'].head()"
   ]
  },
  {
   "cell_type": "code",
   "execution_count": 15,
   "metadata": {},
   "outputs": [
    {
     "data": {
      "text/html": [
       "<div>\n",
       "<style scoped>\n",
       "    .dataframe tbody tr th:only-of-type {\n",
       "        vertical-align: middle;\n",
       "    }\n",
       "\n",
       "    .dataframe tbody tr th {\n",
       "        vertical-align: top;\n",
       "    }\n",
       "\n",
       "    .dataframe thead th {\n",
       "        text-align: right;\n",
       "    }\n",
       "</style>\n",
       "<table border=\"1\" class=\"dataframe\">\n",
       "  <thead>\n",
       "    <tr style=\"text-align: right;\">\n",
       "      <th></th>\n",
       "      <th>text</th>\n",
       "      <th>label</th>\n",
       "    </tr>\n",
       "  </thead>\n",
       "  <tbody>\n",
       "    <tr>\n",
       "      <th>693</th>\n",
       "      <td>Find a sturdy piece of cardboard in the form o...</td>\n",
       "      <td>2</td>\n",
       "    </tr>\n",
       "    <tr>\n",
       "      <th>694</th>\n",
       "      <td>Stand up for yourself.</td>\n",
       "      <td>2</td>\n",
       "    </tr>\n",
       "    <tr>\n",
       "      <th>695</th>\n",
       "      <td>Fix out priorities together in a meeting, a co...</td>\n",
       "      <td>2</td>\n",
       "    </tr>\n",
       "    <tr>\n",
       "      <th>696</th>\n",
       "      <td>Make one last snowball for the penguin's head.</td>\n",
       "      <td>2</td>\n",
       "    </tr>\n",
       "    <tr>\n",
       "      <th>697</th>\n",
       "      <td>Look for the internet venue you will use for y...</td>\n",
       "      <td>2</td>\n",
       "    </tr>\n",
       "  </tbody>\n",
       "</table>\n",
       "</div>"
      ],
      "text/plain": [
       "                                                  text label\n",
       "693  Find a sturdy piece of cardboard in the form o...     2\n",
       "694                             Stand up for yourself.     2\n",
       "695  Fix out priorities together in a meeting, a co...     2\n",
       "696     Make one last snowball for the penguin's head.     2\n",
       "697  Look for the internet venue you will use for y...     2"
      ]
     },
     "execution_count": 15,
     "metadata": {},
     "output_type": "execute_result"
    }
   ],
   "source": [
    "df_combined.loc[df_combined['label'] == '2'].head()"
   ]
  },
  {
   "cell_type": "code",
   "execution_count": 16,
   "metadata": {},
   "outputs": [
    {
     "data": {
      "text/html": [
       "<div>\n",
       "<style scoped>\n",
       "    .dataframe tbody tr th:only-of-type {\n",
       "        vertical-align: middle;\n",
       "    }\n",
       "\n",
       "    .dataframe tbody tr th {\n",
       "        vertical-align: top;\n",
       "    }\n",
       "\n",
       "    .dataframe thead th {\n",
       "        text-align: right;\n",
       "    }\n",
       "</style>\n",
       "<table border=\"1\" class=\"dataframe\">\n",
       "  <thead>\n",
       "    <tr style=\"text-align: right;\">\n",
       "      <th></th>\n",
       "      <th>text</th>\n",
       "      <th>label</th>\n",
       "    </tr>\n",
       "  </thead>\n",
       "  <tbody>\n",
       "    <tr>\n",
       "      <th>1620</th>\n",
       "      <td>I came in to town for a week and forgot my tra...</td>\n",
       "      <td>3</td>\n",
       "    </tr>\n",
       "    <tr>\n",
       "      <th>1621</th>\n",
       "      <td>You.</td>\n",
       "      <td>3</td>\n",
       "    </tr>\n",
       "    <tr>\n",
       "      <th>1622</th>\n",
       "      <td>I'll drive an hour just for their volcano, yum.</td>\n",
       "      <td>3</td>\n",
       "    </tr>\n",
       "    <tr>\n",
       "      <th>1623</th>\n",
       "      <td>He knows his bees.</td>\n",
       "      <td>3</td>\n",
       "    </tr>\n",
       "    <tr>\n",
       "      <th>1624</th>\n",
       "      <td>That's the best bakery in town.</td>\n",
       "      <td>3</td>\n",
       "    </tr>\n",
       "  </tbody>\n",
       "</table>\n",
       "</div>"
      ],
      "text/plain": [
       "                                                   text label\n",
       "1620  I came in to town for a week and forgot my tra...     3\n",
       "1621                                               You.     3\n",
       "1622    I'll drive an hour just for their volcano, yum.     3\n",
       "1623                                 He knows his bees.     3\n",
       "1624                   That's the best bakery in town.      3"
      ]
     },
     "execution_count": 16,
     "metadata": {},
     "output_type": "execute_result"
    }
   ],
   "source": [
    "df_combined.loc[df_combined['label'] == '3'].head()"
   ]
  },
  {
   "cell_type": "markdown",
   "metadata": {},
   "source": [
    "### Remove class '3' since they are corrupted labels"
   ]
  },
  {
   "cell_type": "code",
   "execution_count": 17,
   "metadata": {},
   "outputs": [],
   "source": [
    "df_combined = df_combined.drop(df_combined[df_combined['label'] == '3'].index)"
   ]
  },
  {
   "cell_type": "markdown",
   "metadata": {},
   "source": [
    "# Imperative dataset"
   ]
  },
  {
   "cell_type": "code",
   "execution_count": 18,
   "metadata": {},
   "outputs": [],
   "source": [
    "text = []\n",
    "with open('../data/input/imperatives/ground_truth/imperatives.csv', 'r') as f:\n",
    "    for line in f.readlines():\n",
    "        text_val = line.strip()\n",
    "        text_val = text_val.replace('\\t', '').replace('\\n', '').replace('  ', ' ').replace('\"\"','')\n",
    "        text.append(text_val)"
   ]
  },
  {
   "cell_type": "markdown",
   "metadata": {},
   "source": [
    "### Assign label 2 for imperatives"
   ]
  },
  {
   "cell_type": "code",
   "execution_count": 19,
   "metadata": {},
   "outputs": [],
   "source": [
    "imp_label = ['2' for i in text]"
   ]
  },
  {
   "cell_type": "code",
   "execution_count": 20,
   "metadata": {},
   "outputs": [],
   "source": [
    "df_imperatives = pd.DataFrame(zip(text, imp_label), columns=['text', 'label'])"
   ]
  },
  {
   "cell_type": "code",
   "execution_count": 21,
   "metadata": {
    "scrolled": true
   },
   "outputs": [
    {
     "data": {
      "text/html": [
       "<div>\n",
       "<style scoped>\n",
       "    .dataframe tbody tr th:only-of-type {\n",
       "        vertical-align: middle;\n",
       "    }\n",
       "\n",
       "    .dataframe tbody tr th {\n",
       "        vertical-align: top;\n",
       "    }\n",
       "\n",
       "    .dataframe thead th {\n",
       "        text-align: right;\n",
       "    }\n",
       "</style>\n",
       "<table border=\"1\" class=\"dataframe\">\n",
       "  <thead>\n",
       "    <tr style=\"text-align: right;\">\n",
       "      <th></th>\n",
       "      <th>text</th>\n",
       "      <th>label</th>\n",
       "    </tr>\n",
       "  </thead>\n",
       "  <tbody>\n",
       "    <tr>\n",
       "      <th>0</th>\n",
       "      <td>Find a sturdy piece of cardboard in the form o...</td>\n",
       "      <td>2</td>\n",
       "    </tr>\n",
       "    <tr>\n",
       "      <th>1</th>\n",
       "      <td>Stand up for yourself</td>\n",
       "      <td>2</td>\n",
       "    </tr>\n",
       "    <tr>\n",
       "      <th>2</th>\n",
       "      <td>Fix out priorities together in a meeting, a co...</td>\n",
       "      <td>2</td>\n",
       "    </tr>\n",
       "    <tr>\n",
       "      <th>3</th>\n",
       "      <td>Make one last snowball for the penguin's head</td>\n",
       "      <td>2</td>\n",
       "    </tr>\n",
       "    <tr>\n",
       "      <th>4</th>\n",
       "      <td>Look for the internet venue you will use for y...</td>\n",
       "      <td>2</td>\n",
       "    </tr>\n",
       "  </tbody>\n",
       "</table>\n",
       "</div>"
      ],
      "text/plain": [
       "                                                text label\n",
       "0  Find a sturdy piece of cardboard in the form o...     2\n",
       "1                              Stand up for yourself     2\n",
       "2  Fix out priorities together in a meeting, a co...     2\n",
       "3      Make one last snowball for the penguin's head     2\n",
       "4  Look for the internet venue you will use for y...     2"
      ]
     },
     "execution_count": 21,
     "metadata": {},
     "output_type": "execute_result"
    }
   ],
   "source": [
    "\n",
    "df_imperatives.head()"
   ]
  },
  {
   "cell_type": "markdown",
   "metadata": {},
   "source": [
    "## Combine original dataset with imperative to create df_gt"
   ]
  },
  {
   "cell_type": "code",
   "execution_count": 22,
   "metadata": {},
   "outputs": [],
   "source": [
    "df_gt = df_combined.append(df_imperatives, ignore_index=True)"
   ]
  },
  {
   "cell_type": "code",
   "execution_count": 23,
   "metadata": {},
   "outputs": [
    {
     "name": "stdout",
     "output_type": "stream",
     "text": [
      "Counter({'2': 1636, '0': 735, '1': 419})\n"
     ]
    }
   ],
   "source": [
    "label_counter = Counter(df_gt['label'])\n",
    "print(label_counter)"
   ]
  },
  {
   "cell_type": "markdown",
   "metadata": {},
   "source": [
    "# Imperative Dataset - BBT\n",
    "\n",
    "Source: https://github.com/yiminxsisu/TV-AfD_Imperative_Corpus\n",
    "\n",
    "The columns respectively are: data source (in the formant of nxmm with 'n' indicating the season of the show and 'mm' representing the episode), text, imperative classification (1 for imperative and 0 for non-imperative), imperative category, and whether the imperative sentence has affixal negative markers or not."
   ]
  },
  {
   "cell_type": "code",
   "execution_count": 24,
   "metadata": {},
   "outputs": [],
   "source": [
    "def replace_bbt_text(text):\n",
    "    text = text.replace('2x01','').replace('2x02','').replace('2x03','').replace('2x04','').replace('2x05','')\\\n",
    "                .replace('2x06','').replace('2x07','').replace('2x08','').replace('2x09','').replace('2x10','')\\\n",
    "                .replace('2x11','').replace('2x12','').replace('2x13','').replace('2x14','').replace('2x15','')\\\n",
    "                .replace('2x16','').replace('2x17','').replace('2x18','').replace('2x19','').replace('2x20','')\\\n",
    "                .replace('2x21','').replace('2x22','').replace('2x23','').replace('2x24','').replace('2x25','')\\\n",
    "                .strip()\n",
    "    \n",
    "    text = text.replace('3x01','').replace('3x02','').replace('3x03','').replace('3x04','').replace('3x05','')\\\n",
    "                .replace('3x06','').replace('3x07','').replace('3x08','').replace('3x09','').replace('3x10','')\\\n",
    "                .replace('3x11','').replace('3x12','').replace('3x13','').replace('3x14','').replace('3x15','')\\\n",
    "                .replace('3x16','').replace('3x17','').replace('3x18','').replace('3x19','').replace('3x20','')\\\n",
    "                .replace('3x21','').replace('3x22','').replace('3x23','').replace('3x24','').replace('3x25','')\\\n",
    "                .strip()\n",
    "        \n",
    "    text = text.replace('4x01','').replace('4x02','').replace('4x03','').replace('4x04','').replace('4x05','')\\\n",
    "                .replace('4x06','').replace('4x07','').replace('4x08','').replace('4x09','').replace('4x10','')\\\n",
    "                .replace('4x11','').replace('4x12','').replace('4x13','').replace('4x14','').replace('4x15','')\\\n",
    "                .replace('4x16','').replace('4x17','').replace('4x18','').replace('4x19','').replace('4x20','')\\\n",
    "                .replace('4x21','').replace('4x22','').replace('4x23','').replace('4x24','').replace('4x25','')\\\n",
    "                .strip()\n",
    "    \n",
    "    return text"
   ]
  },
  {
   "cell_type": "code",
   "execution_count": 25,
   "metadata": {},
   "outputs": [],
   "source": [
    "text = []\n",
    "labels = []"
   ]
  },
  {
   "cell_type": "code",
   "execution_count": 26,
   "metadata": {},
   "outputs": [
    {
     "name": "stdout",
     "output_type": "stream",
     "text": [
      "9706 9706\n"
     ]
    }
   ],
   "source": [
    "input_dir = '../data/input/imperatives_bbt/season_2_labeled/'\n",
    "only_files = [f for f in listdir(input_dir) if (isfile(join(input_dir, f)) and str(f).endswith('.txt'))]\n",
    "\n",
    "for file in only_files:\n",
    "    \n",
    "    with open(os.path.join(input_dir, file), 'r') as f:\n",
    "        for line in f.readlines():            \n",
    "            line = replace_bbt_text(line)\n",
    "            values = line.split('\\t')\n",
    "            \n",
    "            if (len(values) >= 2):\n",
    "\n",
    "                text_val = values[0]\n",
    "                text_val = text_val.replace('\\t', '').replace('\\n', '').replace('  ', ' ').replace('\"\"','')\n",
    "\n",
    "                label = values[1]\n",
    "                label = label.replace('\\t', '').replace('\\n', '').replace('  ', ' ').replace('\"\"','')\n",
    "\n",
    "                text.append(text_val)\n",
    "                labels.append(label)\n",
    "            \n",
    "print(len(text), len(labels))"
   ]
  },
  {
   "cell_type": "code",
   "execution_count": 27,
   "metadata": {},
   "outputs": [
    {
     "name": "stdout",
     "output_type": "stream",
     "text": [
      "17599 17599\n"
     ]
    }
   ],
   "source": [
    "input_dir = '../data/input/imperatives_bbt/season_3_labeled/'\n",
    "only_files = [f for f in listdir(input_dir) if (isfile(join(input_dir, f)) and str(f).endswith('.txt'))]\n",
    "\n",
    "for file in only_files:\n",
    "    \n",
    "    with open(os.path.join(input_dir, file), 'r') as f:\n",
    "        for line in f.readlines():            \n",
    "            line = replace_bbt_text(line)\n",
    "            values = line.split('\\t')\n",
    "            \n",
    "            if (len(values) >= 2):\n",
    "\n",
    "                text_val = values[0]\n",
    "                text_val = text_val.replace('\\t', '').replace('\\n', '').replace('  ', ' ').replace('\"\"','')\n",
    "\n",
    "                label = values[1]\n",
    "                label = label.replace('\\t', '').replace('\\n', '').replace('  ', ' ').replace('\"\"','')\n",
    "\n",
    "                text.append(text_val)\n",
    "                labels.append(label)\n",
    "            \n",
    "print(len(text), len(labels))"
   ]
  },
  {
   "cell_type": "code",
   "execution_count": 28,
   "metadata": {},
   "outputs": [
    {
     "name": "stdout",
     "output_type": "stream",
     "text": [
      "25093 25093\n"
     ]
    }
   ],
   "source": [
    "input_dir = '../data/input/imperatives_bbt/season_4_labeled/'\n",
    "only_files = [f for f in listdir(input_dir) if (isfile(join(input_dir, f)) and str(f).endswith('.txt'))]\n",
    "\n",
    "for file in only_files:\n",
    "    \n",
    "    with open(os.path.join(input_dir, file), 'r') as f:\n",
    "        for line in f.readlines():            \n",
    "            line = replace_bbt_text(line)\n",
    "            values = line.split('\\t')\n",
    "            \n",
    "            if (len(values) >= 2):\n",
    "\n",
    "                text_val = values[0]\n",
    "                text_val = text_val.replace('\\t', '').replace('\\n', '').replace('  ', ' ').replace('\"\"','')\n",
    "\n",
    "                label = values[1]\n",
    "                label = label.replace('\\t', '').replace('\\n', '').replace('  ', ' ').replace('\"\"','')\n",
    "\n",
    "                text.append(text_val)\n",
    "                labels.append(label)\n",
    "            \n",
    "print(len(text), len(labels))"
   ]
  },
  {
   "cell_type": "code",
   "execution_count": 29,
   "metadata": {},
   "outputs": [],
   "source": [
    "df_bbt = pd.DataFrame(list(zip(text, labels)), columns=['text', 'label'])"
   ]
  },
  {
   "cell_type": "code",
   "execution_count": 30,
   "metadata": {},
   "outputs": [
    {
     "name": "stdout",
     "output_type": "stream",
     "text": [
      "Counter({'0': 22388, '1': 2148, '': 7, '  0': 3, 'bazinga': 2, 'you always skip': 2, 'problem': 2, 'come in': 2, 'front of each other': 1, 'for taking you to disneyland': 1, 'with something more suited to my pet needs': 1, 'premature menopause, hosting an alien parasite or and i only include it for the sake of covering': 1, 'of roasted potatoes and carrots': 1, \"it's going to be you\": 1, 'ride the matterhorn': 1, 'smell that': 1, 'alone time': 1, 'ignored the pleas of a damsel in distress': 1, 'you': 1, 'are very happy living together': 1, 'watching': 1, 'minutes': 1, 'with a lessthan': 1, \"okay, babydoll pink, let's see if you can cover up the fact that i got my dad's feet\": 1, \"with a waitress who lives across the hall it ended as inexplicably as it began they had very little in common, except for carnal activity that's why i acquired\": 1, 'to visit a center three times a week': 1, 'great jenga tantrum of': 1, 'the alien parasite hypothesis a fair shake': 1, 'an interesting topic': 1, 'yourself': 1, ' through menopause': 1, \"and it's penny, not you\": 1, ' and divide the money': 1, 'to simulate adventure,': 1, 'my mom has coupons': 1, 'you tell her': 1, 'some time with her': 1, 'we’d have far fewer of these embarrassing moments': 1, 'to have access to our progeny': 1, 'so, how about construction': 1, 'he was the crazy one he had this really deranged look': 1, \"i wanted to come in i'm here because you violated our roommate agreement specifically, section eight visitors, subsection c females, paragraph four coitus\": 1, 'and said hello and i said \"hoo\"': 1, 'you screwed': 1, 'appears bleak at best': 1, \"one lonely man and his chicken and let's see who's left\": 1, 'many problems with me,': 1, 'with a crazy person': 1, \"that friendship is not an aggregation of written agreements it's a result of two people respecting and caring for each other butterscotch scone\": 1, 'a solid bowel movement': 1, \"valentine's heart shape\": 1, 'gonna hide out in here to avoid the shamy': 1, 'a vestigial organ': 1, 'that usually team up': 1, 'to play halo tonight': 1, 'you and sheldon': 1, 'get me a cup of coffee': 1, 'of science that goes in designing one': 1, 'giggling in your sleep': 1, \"me what's unclear to you\": 1, 'from invasion of the body snatchers duplicated you in every way,': 1, 'of the new episode of caprica last night': 1, \"but before i do, i'd like to share with you a letter from sheldon's mother,\": 1, 'on the building': 1, 'fellow warriors,': 1, 'in the rest rooms with hot air blowers': 1, \"i don't see anything at all\": 1, 'specifically designed to regulate the female bowel': 1, 'leonard and penny’s sex life in front of leonard and penny': 1, \"on the classic children's game\": 1, \"knight to queen's bishopfive\": 1, 'gentlemen, i put it to you': 1, 'dictate that the fallen kite': 1, 'to the left behind these trees': 1, 'to india': 1, ' or can she just be a diaphra': 1, 'kripke suffers from a fatal flaw': 1, 'a hypothesis where spoiler alert spoiler alert': 1, 'in an illconsidered cricket wager': 1, 'and utter focus': 1, 'with female jibber jabber': 1, 'so two years later, there\\'s a knock on the door, guy opens it, and there on his porch is the snail, who says, \"what the heck was all that about\"': 1, 'outlived its utility,': 1, 'my biographer might ask': 1, 'to stumble onto that for yourself': 1, 'human half, he suppresses them': 1, 'i would go by myself before i would take you': 1, 'after your mother': 1, 'then see a shrink and figure out how to talk to women': 1, \"layman's terms, string theory\": 1, 'are incubators and spewers of bacteria and pestilence': 1, 'a girlfriend': 1, \"with him and then listen to npr wouldn't help\": 1, 'to be crumbling around you,': 1, 'try to work together': 1, 'to offend mrs vartabedian': 1, 'to find a service station': 1, \"and it's hopelessly derivative\": 1, 'told me before instead of at the ceremony in front of everyone': 1, 'logical inference': 1, \"i've ever gone there\": 1, 'cheer at my entrance,': 1, 'brain specimens': 1, 'stop talking altogether': 1, 'crutch and wheelchair people,': 1, ' nice doggie i bet you think you smell hot dogs look, a cat': 1, 'into their homes': 1, \"over until there's a winner\": 1, \"going out tonight, i'm feeling all right\": 1, \"i could drive you that's a point in my favor, right\": 1, 'wow, sheldon, i cannot believe you made up your own game': 1, \" and i'm still at the nerd table\": 1, 'designed to make yourself distinctive and memorable': 1, \"all night you're used to it\": 1, 'a flashlight': 1, \"we were friends, and now we're more than friends\": 1, 'kites, ho': 1, \"lucky for me, i didn't confuse it with what i'd written\": 1, 'nerd, living with his mother, trying to find any scrap of happiness he can': 1, 'speaking to the right zack': 1, 'squirt any pheromones': 1, 'even talking to you is': 1, 'what is the best number': 1, 'spent quality time together,': 1, 'thought to be like god': 1, 'elizabeth, can i get you something perhaps a feminine hygiene product or a bowelregulating yogurt': 1, ' used in quite that context': 1, 'to north american insects': 1, 'i saw the tweet': 1, 'for \"suck it, you lose\"': 1, \"you're brilliant\": 1, 'as a colleague and an equal': 1, 'to tatooine': 1, \" out with you oh, please, we all know i'm the friend you call when you have no other options if we were the justice league, i'd be aquaman\": 1, 'you forget it': 1, 'press one now': 1, 'a bone to pick with you': 1, 'i went shopping today': 1, 'is no longer seated in the glenoid socket,': 1, \"dotting my i's\": 1, 'for a cricket': 1, 'they also have to capture your heart': 1, \"which ii'm not saying i would have\": 1, \" our security system tried to kill me, and as a result, i'm leaving pasadena forever\": 1, 'every time we have sex': 1, 'i know what my mother said on march ,': 1, \"swiss cheese, fondue my lactoseintolerant boyfriend is going to eat all this then i'm going to climb on his back and rocket to the moon\": 1, 'be wearing a digital watch': 1, 'with a paper cut on my nipple and die a slow, agonizing death': 1, 'fellows and i sit perched precariously': 1, \"special at pf chang's egg rolls, dumplings, bottomless wok, and you get your picture taken on the big marble horse out front\": 1, 'three were given to members of the cast the rest were destroyedexcept one one was stolen': 1, 'looks very nice': 1, \"while they're still hot\": 1, ' as a general term for sauce, typically made of mushrooms or fish brine with herbs and spices some popular early main ingredients included blueberry, anchovy, oyster, kidney bean and grape': 1, 'of the three of us, i was by far the most supportive': 1, ' 0': 1, 'putting up sheetrock at a housing project in rosemead': 1, 'against my cinnamon applescented': 1, 'as long as he promises to make me a hobbit in his next movie': 1, 'folliclestimulating hormone': 1, \"i wasn't the son he wanted\": 1, 'fellas, please': 1, 'oh, boy': 1, 'in the bottle city of kandor': 1, 'in your spam folder': 1, 'with director commentary': 1, 'buried alive': 1, 'chickens can’t climb trees': 1, 'getting a shiksa goddess': 1, 'would call condescension': 1, 'and i abandoned my goal to master tuvan throat singing': 1, 'in my native language,': 1, 'new curtains for my bedroom,': 1, 'to save it was to take a shower in the locker room and let other guys see you naked': 1, \"oh, god, is he okay yeah, allall right i'll be right there\": 1, 'and b) when i do kid, you will know it by my use of the word \"bazinga\"': 1, 'sheldon, you’re wrong': 1, 'you can take that to the damn bank': 1, 'how much time do we have': 1, 'of a geographic location': 1, \"that says you're going to die\": 1, 'and invite him out to dinner': 1, 'a powerpoint presentation by sheldon cooper, phd': 1, 'of pure intellect, like me but recent events indicate that she may be a slave to her baser urges like you': 1, \"it's kind of secret\": 1, 'a new topic of conversation': 1, 'ornithologist who lives on a sailboat and likes to wear': 1, 'ma, ma, calm down': 1, 'scientific word': 1, 'then i got a girlfriend': 1, 'any interaction with her, it would be most helpful that she not see you as a sexual rival': 1, 'on my neck over here': 1, 'i saw it in the kitchen': 1, 'section nine miscellany': 1, 'a toy xylophone': 1, 'than simple jealousy': 1, 'at disney world': 1, 'her friends to meet me': 1, 'of the cubic footage of the common areas': 1, \"bernadette's been hocking me to take her roller skating\": 1, ' slime stains': 1, 'your argument is lacking on all scientific merit': 1, \"by penny's friend zack\": 1, 'when in fact, i was being fed false data at the hands': 1, 'had a great night last night': 1, \"i'm saying it already happened\": 1, \"for our first valentine's day\": 1, 'wants a testtube grandbaby born out of wedlock': 1, 'using physics': 1, \"i know it's in the agreement, and if you turn into a zombie, i promise i will not kill you in fact, i'll even let you eat my brains but i am taking penny to switzerland\": 1, 'standing in the corner eating the same deviled egg': 1, 'i covered my crotch with potato salad this morning thoughts': 1, 'ashamed of your mother': 1, \"man's brain a little too thin\": 1, 'having a little trouble catching your breath there': 1, 'and the leading expert on quantum cosmology,': 1, \"your roommate's ex\": 1, 'to the landlord': 1, 'and we talked about the problems': 1, 'losing a toe': 1, 'i never would have gotten that': 1, \"have to listen more carefully when you're on the job\": 1, 'powerpoint presentation': 1, 'until you talk to me': 1, 'a sherry': 1, 'with an older brother': 1, 'needs a jacket': 1, 'and walk away': 1, 'with penny and bernadette, drinking water carbonated as it was a special occasion': 1, \"there's no such thing as failure\": 1, 'kidding': 1, 'afford the luxury of a rhino': 1, \"in the field of particle physics whose work has brought him to the precipice of forever changing mankind's understanding of the universe aka me\": 1, 'feel any better,': 1, 'are you from the star wars universe': 1, \"let's see,\": 1, 'in a lot of pain': 1, ' so you can submit it to your insurance company': 1, 'second morning vocal test morning, sheldon morning morning, sheldon morning i trust you had a pleasant night': 1, ' want to eat with us tonight': 1, 'of maximum mental acuity': 1, 'dr rajesh koothrappali': 1, \" of magnetic monopoles in spinices it's pledge week and they're trying to goose the ratings with a little controversy\": 1, 'from those she calls \"sweetie,\"': 1, 'are you doing': 1, 'is the wrong way, then i yield very well': 1, 'off the milk carton': 1, 'on her face, yes': 1, \"the patent office so, you're going to go work at the patent office\": 1, 'repulsed': 1, ' what i had in mind': 1, \"i'm often flummoxed by current slang\": 1, 'good enough for you': 1, 'to relieve myself': 1, 'when traveling through a graphene sheet': 1, 'little comfort tonight': 1, 'what you want to do': 1, 'that maharaja mac\"': 1, \"okay, we've got power to the laser\": 1, 'of the size of their contribution to their respective fields to make this game': 1, 'to the male sex organ': 1, 'and hawaiian punch': 1, \"it was something else keeping me up last night and again this morning and i didn't mind i was up last night i was up this morning i didn't mind\": 1, 'oh, damn, they canceled my visa oh, yay, a new mastercard': 1, 'to correct for the observational efficiency': 1, 'with an interactive comments section': 1, \"apartment i'd seen, the rent was very reasonable and after you've passed the first three barriers you kind of want to take it all the way\": 1, 'is flying in from london, for the sole purpose of meeting him': 1, 'talking to the food': 1, 'is a sound': 1, 'of my closest friends and one treasured acquaintance though i cannot state categorically that my life be diminished not having you in it,i am comfortable if you choose to believe that since you intend to remain in this lawless metropolitan area statistics suggest that you will succumb to tragic and gruesome ends before we meet again': 1, 'skip over that insult': 1, 'maybe we could have a little something to eat at my place': 1, ' when we go to the park and reenact our favorite scenes from the movies': 1, ' is a tenured law professor at harvard,': 1, 'scented candles': 1, 'travels on the pathways': 1, \"to see a doctor's note\": 1, 'okay, raj': 1, 'served cold\" in klingon': 1, \"i'm there already\": 1, 'entomologist with a doctorate and years of experience to do with his life': 1, 'a menial job': 1, 'make a dramatic entrance': 1, 'guided by the philosophies found in cheap science fiction': 1, 'is that a twostage rocket': 1, 'already introduced yourself to dr hofstadter': 1, 'kudos': 1, 'oh, look,': 1, 'it also faces the television at a direct angle allowing me to immerse myself in entertainment or game play without being subjected to conversation': 1, 'buying a rotisserie chicken from the supermarket, taking it home, standing over the sink and eating it out of the package with my bare hands like an animal': 1, 'and penny': 1, 'dolphins to rehabilitate prisoners, and ellen page,': 1, 'with highpowered binoculars': 1, 'the precious': 1, 'studying, keeping my nose clean, doing volunteer work for the community': 1, 'needed bigger carbon atoms': 1, 'hey so you guys ready': 1, 'while urinating': 1, 'stink up the place': 1, 'at the bank to get into my safe deposit box,': 1, \"i'm puzzled yeah, let's go with puzzled\": 1, 'to the galleria and walk around': 1, 'foreign, domestic, experimental': 1, 'i didn\\'t need to be hired i simply came in, picked up a tray, and started \"working for the man\"': 1, 'in the next round,': 1, \"elizabeth, leonard's bathroom time is coming up,\": 1, 'california, please': 1, 'and now the': 1, \"oh, i always tear up when the grinch's heart grows three sizes\": 1, 'rocket, not a model': 1, \"to be doing on valentine's day\": 1, 'a bigballed raccoon': 1, \"couldn't get laid in a women's prison with a handful of pardons\": 1, 'the problem appears to be unsolvable': 1, \"or if one of us is bitten by a zombie he can't kill me, even if i turn\": 1, 'even crack my top ten': 1, 'you have destroyed my ability to tolerate idiots now, come with me': 1, 'you wasted your money on an ipod when microsoft comes out with theirs': 1, 'distressing symptoms last night,': 1, 'that she smuggled out of occupied belgium in a cat how am i looking now': 1, \"sound like a girl's name\": 1, ' its mirror, , is the th, and its mirror, ,': 1, \"but let me know if you're going to stuff him with junk food\": 1, 'even for him': 1, 'that resistance': 1, \"and who's the acquaintance\": 1, 'worst': 1, 'at a heliumargon laser lose one turn and a retina\"': 1, \"i'll do it\": 1, 'meemaw would say, \"looks like we butchered a pig, but nobody wanted bacon\"': 1, 'approximately different men as \"a few\"': 1, 'that if we suffer in this life': 1, 'of a communal meal': 1, 'since, you know': 1, \"okay, it's done look, guys,\": 1, 'and three answers came to mind': 1, 'penny, hello': 1, 'did national public radio have to start scraping the bottom of the barrel for its guests': 1, 'an inappropriate slur': 1, 'terminate immediately': 1, 'as a \"how do you do\"': 1, 'ask you something': 1, ' bow, general zod trapped in the phantom zone': 1, 'moments like this, i often turn to a force': 1, 'what would you guys do if you were me': 1, 'are going to be sleeping in the same bed': 1, \"uh, sure doesn't read that way\": 1, 'good morning': 1, 'of the human race have spent their lives laboring to erect monuments under the lash of their betters, until finally, they dropped down and became one with the dust through which they trudged do you have anything like that': 1, 'can i offer you anything': 1, 'and shake twice for texas': 1, 'will be this meeting today in precisely five seconds\"': 1, 'who else would you take': 1, \"i'll eat my lunch at home\": 1, 'hey, leonard, check this out': 1, 'need his girlfriend to set me up with one of her girlfriends': 1, 'we have a woman': 1, \"juice, coffee, and pancakes in the shape of some of your favorite fictional characters see, here's frodo\": 1, ' religiously fanatical rightwing Texan with a slightly outofscale head and a mild dr pepper addiction': 1, \"there you go so, we're good\": 1, 'productive evening': 1, 'are you freaking kidding me': 1, 'refuse to wear sporting apparel': 1, 'as am i': 1, 'me on an intellectual level': 1, 'from all those childhood toilet swirlies': 1, 'were some people on the first floor moving out,': 1, \"then i changed my mind in the middle i swear to god, i'm smart\": 1, 'to fix it': 1, 'on your little dinky': 1, 'about their secret love for each other': 1, 'we travel to work': 1, 'to determine the species of the cricket': 1, 'on course,': 1, 'although, i suppose the retroreflector left on the moon by neil armstrong does qualify as a shiny object': 1, \"makes 'em easier to clean if people throw up on 'em\": 1, \"we're slammed\": 1, 'lunch, sheldon': 1, 'changed a bit, have you': 1, 'a maze in nothing flat, squeeze through really small holes, and shut down restaurants in a single bound and the best part is, if i were ratman, you could be my': 1, 'after you forwarded me a picture of a cat playing the piano, entitled \"this is funny\"': 1, 'sophisticated and relaxed': 1, \"whatcha doin' there\": 1, 'to creationists': 1, 'or because you are suppressing jealousy': 1, 'regarding the polymer degradation phenomenon while scraping congealed nachos off a plate': 1, 'with my swiss army knife, and then you can wash it down with a cup of swiss miss instant cocoa': 1, 'a question': 1, 'hold': 1, '\"the next person i see talking': 1, 'with your parents during a brain scan': 1, 'a \"world\\'s greatest dad\" coffee mug': 1, \"you can't get a big mac\": 1, \"had already had you because they would've already wanted you before they, you know, got you\": 1, \"you could do about amy's urges\": 1, 'deposit box for': 1, 'whatcha doing': 1, 'eat, pray, run away from a': 1, \"you've passed the first\": 1, 'leonard hofstadter': 1, 'ith some pretty good news': 1, 'he shall invite the other friend to accompany him\"': 1, 'occupied with a routine task, freeing my prefrontal cortex to work quietly in the background on my problem': 1, \"I'm better off alone\": 1, 'four servings': 1, \"but i think i'll finish my coffee first\": 1, 'will one day make unskilled food servers': 1, ' and his from an anthropological': 1, 'an octave above middle c': 1, 'back to union station': 1, 'concede her undeniable expertise in the interrelated fields': 1, 'sex and the city': 1, 'do you like trains': 1, 'look at toby': 1, 'what kind of cricket toby is': 1, 'the correct procedure for a cootie shot': 1, \"all i'm saying is, if they took all the money they spent\": 1, \"you know who's got to\": 1, ' like a lonely loser': 1, 'bombay badonkadonks': 1, \"in the president's dining room\": 1, ' a coincidence': 1, ' with amy farrah fowler': 1, 'from the other children': 1, 'time': 1, ' that is the actual ring of power': 1, 'through the second reel,': 1, 'why do i always have to carry the heavy stuff': 1, \"with things you're a fan of, but very well you enjoy canadian bacon i've been to toronto\": 1, 'my gluteus': 1, \"i'll hold off until sunset on titan\": 1, 'you stick to this construct,': 1, 'let me know about friday': 1, 'so you can understand why i did what i did': 1, \"gravitational wave signatures of inflatons in the early universe and now she's under consideration for a position at our university\": 1, 'was when people': 1, 'how this happened to me': 1, 'over next generation, but picard over kirk': 1, ' for bowling tonight': 1, \" and may i say, you are the living embodiment of all the promises made by our lovely town's chamber of commerce\": 1, 'an alien parasite': 1, 'on the laser we need it locked onto the sea of tranquility': 1, ' for magic beans, did you': 1, \"but it's important to protect his manhood\": 1, 'without having to tolerate': 1, \"spaced hours apart you know the drill all right, if you'll excuse me, i am off to start a prophylactic course of antibiotics\": 1, \"change into something i don't mind getting ripped off my milky flesh\": 1, 'the graphene problem': 1, 'of the dark matter particle': 1, \"windows that don't open, multiuser linens, keys shaped like credit cards as if one walks around\": 1, 'to put a man on the moon': 1, 'unlikely scenario': 1, 'house should i be invited': 1, 'is one half of a social contract': 1, \"hello i know you're out there i can hear you metabolizing oxygen and expelling carbon dioxide looks like we have some academic dignitaries in the audience dr randall from the geology department only man who's happy when they take his work for granite\": 1, 'twentytwo': 1, \"all right, that's the last servo\": 1, ' couple of months if so, the authors are most likely in possession of my stolen laptop': 1, ' can compensate for that': 1, 'ever talk about me': 1, 'on you passing the second and third barriers': 1, 'okay in avatar when they gave sex in pandora they hook up their ponytails, so we know their ponytails are like their junk': 1, 'not a real boy': 1, 'and was the fourth person to say the phrase that pays \"fever , aajke naye acchha sangeetka ghar\" that means \"fever , home of the really good current music\" it\\'s much catchier': 1, 'i mean, for free': 1, 'uh, the bedrooms are back there': 1, 'windowsill have more babies': 1, 'the trick is to': 1, 'pilates class at the rec center, and my abs look like sections of a hershey bar': 1, 'of the man to the field,': 1, 'this movie baffles me every time we watch it': 1, 'with all of these men': 1, \"i don't need my jacket and for the record, the correct syntax is i'm the guy from whom you're trying to get away oh, yes this is definitely going to be my spot\": 1, 'your body to science, i promise to slice your brain': 1, 'a thinlyveiled insult': 1, 'to reach for the stars': 1, \"that's the great thing about nyquil, it's like tenpercent booze i call it the nighttime sniffling, sneezing, coughing so you can talk to girls medicine\": 1, 'look at us getting ready for a double date': 1, 'stimulates reuptake receptors of inhibitory neurotransmitters like gammaaminobutyric acid': 1, \"something's very wrong\": 1, 'just talk to you': 1, 'you know': 1, 'ran into a dead end': 1, 'the menus for this place': 1, 'colliding in outer space': 1, 'to its purpose': 1, 'to adjust the thermostat, then the other fella went batcrap crazy': 1, \"so you see, what you're eating is not technically yogurt,because it doesn't have enough live acidophilus cultures\": 1, 'individual shelves and the door becomes communal': 1, 'meeting adjourned': 1, 'with pathetic and frightened': 1, 'a scan of your brain sometime': 1, 'give it to her': 1, 'sent to me from new delhi': 1, 'in a little town called \"please don\\'t leave me\"': 1, \"i wouldn't be the sidekick\": 1, 'a scientist what is the sixth noble gas': 1, 'and no sucking face': 1, 'yeah, i miss you, too, sweetie': 1, 'has not bested me like mrs riley’s chicken': 1, 'spend the day together': 1, \"'cause, boy, i was up all night\": 1, 'or the classic': 1, 'i just want you both to know,': 1, \"i'm so happy, i'm not even going to question their judgment in picking you i'm just going to run home and start packing why wouldn't you take penny\": 1, 'so, if any of you are considering': 1, ' differential diagnosis': 1, 'food and water, a crossbow, season two of star trek the original series': 1, \"your assessment of science's responsibility to society\": 1, 'was not sincere': 1, 'sheldon came home from work': 1, 'minus men': 1, 'the graphic novel section': 1, 'in all published material': 1, 'runs in my family': 1, \"i've emailed you the morning bathroom schedule you'll also find a laminated copy in your welcome packet\": 1, 'water demon': 1, 'no, seriously,': 1, 'okay, help me out here': 1, 'to the magnetic north pole': 1, \"you're welcome to come\": 1, 'we have to go outside': 1, \"um, in , the astronauts on apollo positioned reflectors on the surface of the moon, and we're going to shoot a laser off one of them and let the light bounce back into this photomultiplier\": 1, \"the hero and who's the sidekick\": 1, 'does that really need to be in the agreement': 1, 'it should go back to peter jackson': 1, 'that was close': 1, 'research team': 1, 'out there, howard': 1, \"than peas, now, didn't i\": 1, \" what i've observed, however, s howard wolowitz crying like a little girl\": 1, \"all right, i'm ready for my next question\": 1, 'all right, raj has played his phantom warlord card,': 1, 'known as a positional good in which an object is only valued by the possessor because it\\'s not possessed by others the term was coined in by economist fred hirsch to replace the more colloquial, but less precise \"neenerneener\"': 1, 'you bumped the table': 1, 'as my sidekick': 1, 'strong as our weakest bladder': 1, 'sexual partners': 1, 'if i were wrong, i’d know it': 1, \"there's too many people here\": 1, \"i'm telling you, if xenon emits\": 1, 'hand me that flashlight\"': 1, 'a long time ago': 1, 'you can see how i could mistake them for my sashimi': 1, 'a jewish standup comedian,': 1})\n"
     ]
    }
   ],
   "source": [
    "label_counter = Counter(df_bbt['label'])\n",
    "print(label_counter)"
   ]
  },
  {
   "cell_type": "markdown",
   "metadata": {},
   "source": [
    "### Imperatives Labels\n",
    "'1' --> Imperatives <br>\n",
    "'0' --> Non-imperatives <br>\n",
    "Others --> Skip them <br>"
   ]
  },
  {
   "cell_type": "code",
   "execution_count": 31,
   "metadata": {},
   "outputs": [
    {
     "name": "stderr",
     "output_type": "stream",
     "text": [
      "/Users/talat/anaconda3/envs/sentgen/lib/python3.5/site-packages/ipykernel_launcher.py:2: SettingWithCopyWarning: \n",
      "A value is trying to be set on a copy of a slice from a DataFrame.\n",
      "Try using .loc[row_indexer,col_indexer] = value instead\n",
      "\n",
      "See the caveats in the documentation: http://pandas.pydata.org/pandas-docs/stable/user_guide/indexing.html#returning-a-view-versus-a-copy\n",
      "  \n"
     ]
    }
   ],
   "source": [
    "df_bbt_imperatives = df_bbt.loc[df_bbt['label'] == '1']\n",
    "df_bbt_imperatives['label'] = '2'"
   ]
  },
  {
   "cell_type": "code",
   "execution_count": 32,
   "metadata": {},
   "outputs": [
    {
     "data": {
      "text/html": [
       "<div>\n",
       "<style scoped>\n",
       "    .dataframe tbody tr th:only-of-type {\n",
       "        vertical-align: middle;\n",
       "    }\n",
       "\n",
       "    .dataframe tbody tr th {\n",
       "        vertical-align: top;\n",
       "    }\n",
       "\n",
       "    .dataframe thead th {\n",
       "        text-align: right;\n",
       "    }\n",
       "</style>\n",
       "<table border=\"1\" class=\"dataframe\">\n",
       "  <thead>\n",
       "    <tr style=\"text-align: right;\">\n",
       "      <th></th>\n",
       "      <th>text</th>\n",
       "      <th>label</th>\n",
       "    </tr>\n",
       "  </thead>\n",
       "  <tbody>\n",
       "    <tr>\n",
       "      <th>16</th>\n",
       "      <td>let's stay serious here</td>\n",
       "      <td>2</td>\n",
       "    </tr>\n",
       "    <tr>\n",
       "      <th>35</th>\n",
       "      <td>no, not all at once</td>\n",
       "      <td>2</td>\n",
       "    </tr>\n",
       "    <tr>\n",
       "      <th>37</th>\n",
       "      <td>leonard</td>\n",
       "      <td>2</td>\n",
       "    </tr>\n",
       "    <tr>\n",
       "      <th>38</th>\n",
       "      <td>now, raj</td>\n",
       "      <td>2</td>\n",
       "    </tr>\n",
       "    <tr>\n",
       "      <th>39</th>\n",
       "      <td>now, sheldon</td>\n",
       "      <td>2</td>\n",
       "    </tr>\n",
       "  </tbody>\n",
       "</table>\n",
       "</div>"
      ],
      "text/plain": [
       "                       text label\n",
       "16  let's stay serious here     2\n",
       "35      no, not all at once     2\n",
       "37                  leonard     2\n",
       "38                 now, raj     2\n",
       "39             now, sheldon     2"
      ]
     },
     "execution_count": 32,
     "metadata": {},
     "output_type": "execute_result"
    }
   ],
   "source": [
    "df_bbt_imperatives.head()"
   ]
  },
  {
   "cell_type": "code",
   "execution_count": 33,
   "metadata": {},
   "outputs": [
    {
     "name": "stdout",
     "output_type": "stream",
     "text": [
      "<class 'pandas.core.frame.DataFrame'>\n",
      "Int64Index: 2148 entries, 16 to 25090\n",
      "Data columns (total 2 columns):\n",
      "text     2148 non-null object\n",
      "label    2148 non-null object\n",
      "dtypes: object(2)\n",
      "memory usage: 50.3+ KB\n"
     ]
    }
   ],
   "source": [
    "df_bbt_imperatives.info()"
   ]
  },
  {
   "cell_type": "markdown",
   "metadata": {},
   "source": [
    "### Combine df_gt and the df_bbt_imperatives"
   ]
  },
  {
   "cell_type": "code",
   "execution_count": 34,
   "metadata": {},
   "outputs": [],
   "source": [
    "df_gt = df_gt.append(df_bbt_imperatives, ignore_index=True)"
   ]
  },
  {
   "cell_type": "code",
   "execution_count": 35,
   "metadata": {},
   "outputs": [
    {
     "name": "stdout",
     "output_type": "stream",
     "text": [
      "<class 'pandas.core.frame.DataFrame'>\n",
      "RangeIndex: 4938 entries, 0 to 4937\n",
      "Data columns (total 2 columns):\n",
      "text     4938 non-null object\n",
      "label    4938 non-null object\n",
      "dtypes: object(2)\n",
      "memory usage: 77.3+ KB\n"
     ]
    }
   ],
   "source": [
    "df_gt.info()"
   ]
  },
  {
   "cell_type": "code",
   "execution_count": 36,
   "metadata": {},
   "outputs": [
    {
     "name": "stdout",
     "output_type": "stream",
     "text": [
      "Counter({'2': 3784, '0': 735, '1': 419})\n"
     ]
    }
   ],
   "source": [
    "label_counter = Counter(df_gt['label'])\n",
    "print(label_counter)"
   ]
  },
  {
   "cell_type": "markdown",
   "metadata": {},
   "source": [
    "## Imperatives - Wiki dataset"
   ]
  },
  {
   "cell_type": "code",
   "execution_count": 37,
   "metadata": {},
   "outputs": [
    {
     "name": "stdout",
     "output_type": "stream",
     "text": [
      "10624 10624\n"
     ]
    }
   ],
   "source": [
    "ip_file = '../data/input/imperatives_wiki/wiki_imperative.txt'\n",
    "\n",
    "text = []\n",
    "labels = []\n",
    "\n",
    "with open(ip_file, 'r') as f:\n",
    "    for line in f.readlines():            \n",
    "        line = line.strip()\n",
    "        values = line.split('\\t')\n",
    "\n",
    "        if (len(values) >= 2):\n",
    "\n",
    "            text_val = values[0]\n",
    "            text_val = text_val.replace('\\t', '').replace('\\n', '').replace('  ', ' ').replace('\"\"','')\n",
    "\n",
    "            label = values[1]\n",
    "            label = label.replace('\\t', '').replace('\\n', '').replace('  ', ' ').replace('\"\"','')\n",
    "\n",
    "            text.append(text_val)\n",
    "            labels.append(label)\n",
    "            \n",
    "print(len(text), len(labels))"
   ]
  },
  {
   "cell_type": "code",
   "execution_count": 38,
   "metadata": {},
   "outputs": [],
   "source": [
    "df_wiki = pd.DataFrame(list(zip(text, labels)), columns=['text', 'label'])"
   ]
  },
  {
   "cell_type": "code",
   "execution_count": 39,
   "metadata": {},
   "outputs": [
    {
     "name": "stdout",
     "output_type": "stream",
     "text": [
      "<class 'pandas.core.frame.DataFrame'>\n",
      "RangeIndex: 10624 entries, 0 to 10623\n",
      "Data columns (total 2 columns):\n",
      "text     10624 non-null object\n",
      "label    10624 non-null object\n",
      "dtypes: object(2)\n",
      "memory usage: 166.1+ KB\n"
     ]
    }
   ],
   "source": [
    "df_wiki.info()"
   ]
  },
  {
   "cell_type": "code",
   "execution_count": 40,
   "metadata": {},
   "outputs": [
    {
     "name": "stdout",
     "output_type": "stream",
     "text": [
      "Counter({'1': 8497, '0': 2127})\n"
     ]
    }
   ],
   "source": [
    "label_counter = Counter(df_wiki['label'])\n",
    "print(label_counter)"
   ]
  },
  {
   "cell_type": "code",
   "execution_count": 41,
   "metadata": {
    "scrolled": true
   },
   "outputs": [
    {
     "name": "stderr",
     "output_type": "stream",
     "text": [
      "/Users/talat/anaconda3/envs/sentgen/lib/python3.5/site-packages/ipykernel_launcher.py:2: SettingWithCopyWarning: \n",
      "A value is trying to be set on a copy of a slice from a DataFrame.\n",
      "Try using .loc[row_indexer,col_indexer] = value instead\n",
      "\n",
      "See the caveats in the documentation: http://pandas.pydata.org/pandas-docs/stable/user_guide/indexing.html#returning-a-view-versus-a-copy\n",
      "  \n"
     ]
    }
   ],
   "source": [
    "df_wiki_imperatives = df_wiki.loc[df_wiki['label'] == '1']\n",
    "df_wiki_imperatives['label'] = '2'"
   ]
  },
  {
   "cell_type": "code",
   "execution_count": 42,
   "metadata": {},
   "outputs": [
    {
     "name": "stdout",
     "output_type": "stream",
     "text": [
      "<class 'pandas.core.frame.DataFrame'>\n",
      "Int64Index: 8497 entries, 0 to 10623\n",
      "Data columns (total 2 columns):\n",
      "text     8497 non-null object\n",
      "label    8497 non-null object\n",
      "dtypes: object(2)\n",
      "memory usage: 199.1+ KB\n"
     ]
    }
   ],
   "source": [
    "df_wiki_imperatives.info()"
   ]
  },
  {
   "cell_type": "markdown",
   "metadata": {},
   "source": [
    "### Combine df_gt and the df_wiki_imperatives"
   ]
  },
  {
   "cell_type": "code",
   "execution_count": 43,
   "metadata": {},
   "outputs": [],
   "source": [
    "df_gt = df_gt.append(df_wiki_imperatives, ignore_index=True)"
   ]
  },
  {
   "cell_type": "code",
   "execution_count": 44,
   "metadata": {},
   "outputs": [
    {
     "name": "stdout",
     "output_type": "stream",
     "text": [
      "<class 'pandas.core.frame.DataFrame'>\n",
      "RangeIndex: 13435 entries, 0 to 13434\n",
      "Data columns (total 2 columns):\n",
      "text     13435 non-null object\n",
      "label    13435 non-null object\n",
      "dtypes: object(2)\n",
      "memory usage: 210.0+ KB\n"
     ]
    }
   ],
   "source": [
    "df_gt.info()"
   ]
  },
  {
   "cell_type": "code",
   "execution_count": 45,
   "metadata": {},
   "outputs": [
    {
     "name": "stdout",
     "output_type": "stream",
     "text": [
      "Counter({'2': 12281, '0': 735, '1': 419})\n"
     ]
    }
   ],
   "source": [
    "label_counter = Counter(df_gt['label'])\n",
    "print(label_counter)"
   ]
  },
  {
   "cell_type": "markdown",
   "metadata": {},
   "source": [
    "## WikiQA-train - Sentence & Question data\n",
    "Source: https://www.microsoft.com/en-us/download/details.aspx?id=52419&from=http%3A%2F%2Fresearch.microsoft.com%2Fapps%2Fmobile%2Fdownload.aspx%3Fp%3D4495da01-db8c-4041-a7f6-7984a4f6a905"
   ]
  },
  {
   "cell_type": "code",
   "execution_count": null,
   "metadata": {},
   "outputs": [],
   "source": [
    "# Extracting questions\n",
    "ip_file = '../data/input/WikiQACorpus/WikiQA-train.txt'\n",
    "questions = []\n",
    "\n",
    "with open(ip_file, 'r') as f:\n",
    "    for line in f.readlines():            \n",
    "        line = line.strip()\n",
    "        values = line.split('\\t')\n",
    "\n",
    "        if (len(values) >= 2):\n",
    "\n",
    "            text_val = values[0]\n",
    "            text_val = text_val.replace('\\t', '').replace('\\n', '').replace('  ', ' ').replace('\"\"','')\n",
    "            questions.append(text_val)\n",
    "\n",
    "questions = list(set(questions))\n",
    "\n",
    "print(len(questions))"
   ]
  },
  {
   "cell_type": "code",
   "execution_count": 47,
   "metadata": {},
   "outputs": [
    {
     "name": "stdout",
     "output_type": "stream",
     "text": [
      "Counter({'2': 12281, '1': 2537, '0': 735})\n"
     ]
    }
   ],
   "source": [
    "que_label = ['1' for i in questions]\n",
    "df_wikiqa_que = pd.DataFrame(list(zip(questions, que_label)), columns=['text', 'label'])\n",
    "df_gt = df_gt.append(df_wikiqa_que, ignore_index=True)\n",
    "\n",
    "label_counter = Counter(df_gt['label'])\n",
    "print(label_counter)"
   ]
  },
  {
   "cell_type": "code",
   "execution_count": 48,
   "metadata": {},
   "outputs": [
    {
     "name": "stdout",
     "output_type": "stream",
     "text": [
      "18821\n"
     ]
    }
   ],
   "source": [
    "# Extracting statements\n",
    "ip_file = '../data/input/WikiQACorpus/WikiQA-train.txt'\n",
    "statements = []\n",
    "\n",
    "with open(ip_file, 'r') as f:\n",
    "    for line in f.readlines():            \n",
    "        line = line.strip()\n",
    "        values = line.split('\\t')\n",
    "\n",
    "        if (len(values) >= 2):\n",
    "\n",
    "            text_val = values[1]\n",
    "            text_val = text_val.replace('\\t', '').replace('\\n', '').replace('  ', ' ').replace('\"\"','')\n",
    "            statements.append(text_val)\n",
    "\n",
    "statements = list(set(statements))\n",
    "\n",
    "print(len(statements))"
   ]
  },
  {
   "cell_type": "code",
   "execution_count": 49,
   "metadata": {},
   "outputs": [
    {
     "data": {
      "text/plain": [
       "['It has been economically infeasible for many years , but with rising oil prices , more companies are investing in this area .',\n",
       " 'This is a complete list of congressional districts for representation in the United States House of Representatives .',\n",
       " 'This is the measure used in most parts of the world .',\n",
       " 'In 2003 , Rolling Stone Magazine listed his box set All Killer , No Filler : The Anthology number 242 on their list of `` 500 greatest albums of all time `` .',\n",
       " \"On that day , at St. John 's Church in Richmond , Virginia , and is credited with having swung the balance in convincing the Virginia House of Burgesses to pass a resolution delivering the Virginia troops to the Revolutionary War .\",\n",
       " 'The relationship between percentage changes and basis points can be summarized as follows : 1 percentage point change = 100 basis points , and 0.01 percentage points = 1 basis point .',\n",
       " \"With 11 national titles , UCLA has the record for the most NCAA Men 's Division I Basketball Championships ; John Wooden coached UCLA to 10 of its 11 titles .\",\n",
       " 'What is now Tennessee was initially part of North Carolina , and later part of the Southwest Territory .',\n",
       " 'Pawnee City , Nebraska',\n",
       " 'The Mitsubishi Galant is an automobile manufactured by Mitsubishi Motors between 1969 and 2012 .',\n",
       " 'The attacks employed massive artillery bombardments and massed infantry advances .',\n",
       " \"A carnivore ( ) meaning 'meat eater ' ( Latin , caro meaning 'meat ' or 'flesh ' and vorare meaning 'to devour ' ) is an organism that derives its energy and nutrient requirements from a diet consisting mainly or exclusively of animal tissue , whether through predation or scavenging .\",\n",
       " 'In 1974 , she married Bill Pentland , with whom she had three children , before divorcing in 1990 and marrying comedian Tom Arnold for four years .',\n",
       " 'Household income figures , however , do not always reflect class status and standard of living , as they are largely influenced by the number of income earners and fail to recognize household size .',\n",
       " 'The Twelfth Amendment specifies how a President and Vice President are elected and requires each elector to cast one vote for President and another vote for Vice President .',\n",
       " 'Commonly loaded with a 17 grain ( 1.1 g ) bullet , it can deliver muzzle velocities in excess of 2550 ft/s ( 775 m/s ) .',\n",
       " 'The Bible is a compilation of many shorter books written at different times and later assembled into the biblical canon .',\n",
       " 'It is one of the most popular online entertainment destinations , with over 100 million unique users each month and a solid and rapidly growing mobile presence .',\n",
       " 'Most jurisdictions exempt food sold in grocery stores , prescription medications , and many agricultural supplies .',\n",
       " 'The festivals of Easter and Christmas are public holidays in Australia .',\n",
       " 'Glacier caves are often called ice caves , but this term is properly used to describe bedrock caves that contain year-round ice .',\n",
       " 'In 1866 Prince Karl of Hohenzollern-Sigmaringen was called to the throne as the Ruling Prince of the Romanian Principate and in 1881 he was finally crowned as King Carol I the first monarch of the Kingdom of Romania .',\n",
       " '4 . Country name',\n",
       " 'Khrushchev died in 1971 of heart disease .',\n",
       " 'Developmental psychology informs several applied fields , including : educational psychology , child psychopathology , and forensic developmental psychology .',\n",
       " \"In most cases , this complexity is part of the underlying sales tax laws ; but while a brick-and-mortar store has to deal with only the sales tax laws of its own location , remote sellers have to deal with the use tax laws of many jurisdictions—up to every US state and locality that assesses them , if the company has a presence or `` nexus '' in every state ( as large `` brick-and-mortar '' sellers like Wal-Mart and Best Buy do ) .\",\n",
       " \"In the context of textile applications , PET is referred to by its common name , `` polyester , '' whereas the acronym `` PET '' is generally used in relation to packaging .\",\n",
       " 'The Internet has no centralized governance in either technological implementation or policies for access and usage ; each constituent network sets its own policies .',\n",
       " 'Origination generally includes all the steps from taking a loan application up to disbursal of funds ( or declining the application ) .',\n",
       " 'She adopted five children , one of whom was reclaimed by his birth mother .',\n",
       " 'It stars Keanu Reeves , Gene Hackman , and Brooke Langton .',\n",
       " 'In 2009 , the NHL enjoyed record highs in terms of sponsorships , attendance , and television audiences .',\n",
       " 'The chain continued to expand overseas however , and in 1987 KFC became the first Western restaurant chain to open in China .',\n",
       " 'It does not account for the heat loss through the container or the heat capacity of the thermometer and container itself .',\n",
       " \"The Hangover tells the story of Phil Wenneck , Stu Price and Alan Garner , who travel to Las Vegas for a bachelor party to celebrate their friend Doug Billings ' impending marriage .\",\n",
       " 'In partial and annular eclipses only part of the Sun is obscured .',\n",
       " \"The traditional `` Yahoo ! Mail Classic '' continues the availability of the original interface introduced in 1997 .\",\n",
       " 'Early in his first term in office , Obama signed into law economic stimulus legislation in response to the Great Recession in the form of the American Recovery and Reinvestment Act of 2009 and the Tax Relief , Unemployment Insurance Reauthorization , and Job Creation Act of 2010 .',\n",
       " 'A fashion spread and cover in Seventeen .',\n",
       " \"Geoffrey Chaucer ( ; c. 1343 – 25 October 1400 ) , known as the Father of English literature , is widely considered the greatest English poet of the Middle Ages and was the first poet to have been buried in Poet 's Corner of Westminster Abbey .\",\n",
       " 'They were named after Herbert Hoover , who was President of the United States during the onset of the Depression and widely blamed for it .',\n",
       " 'Printmaking is the process of making artworks by printing , normally on paper .',\n",
       " \"The name Loxahatchee means `` turtle river . ''\",\n",
       " 'In some states , the display scrollboards in front of lottery terminals are also used .',\n",
       " 'A January 2009 Compete.com study ranked Facebook as the most used social networking service by worldwide monthly active users .',\n",
       " \"Known as `` Tiger '' , the new index-serving technology has been incorporated into Bing globally , since August 2011 .\",\n",
       " 'Energy transformation or energy conversion is the process of changing one form of energy to another .',\n",
       " 'The North American porcupine often climbs trees to find food .',\n",
       " 'Many cnidarian species produce colonies that are single organisms composed of medusa-like or polyp-like zooids , or both .',\n",
       " 'In 1951 , Bradford Washburn pioneered the West Buttress route considered to be the safest and easiest route and therefore the most popular currently in use .',\n",
       " 'Craven and Marco Beltrami returned to direct and score the film respectively as they had with the previous two series entries .',\n",
       " 'These four teams , one from each region , then compete in one location for the national championship .',\n",
       " 'Its worldwide annual revenue in 2012 totalled $ 156 billion .',\n",
       " 'The technique is limited by availability of carbon dioxide .',\n",
       " 'Wine production gradually increased , with consumption burgeoning from the 15th century onwards .',\n",
       " 'Thin-films are used to produce thin-film batteries .',\n",
       " 'Manning played college football for the University of Tennessee , leading the Volunteers to the 1997 SEC Championship in his senior season .',\n",
       " 'Freak Lunchbox candy store in Halifax , Nova Scotia',\n",
       " 'The Montreal Alouettes accomplished this first , adding 5,000 seats to Percival Molson Memorial Stadium in time for the 2010 CFL season .',\n",
       " 'Some , such as the Droid Incredible only have a menu choice to start an application program to activate the camera .',\n",
       " 'Insulated glazing ( IG ) , more commonly known as double glazing ( or double-pane , and increasingly triple glazing/pane ) are double or triple glass window panes separated by an air or other gas filled space to reduce heat transfer across a part of the building envelope .',\n",
       " 'The HVAC industry is a worldwide enterprise , with roles including operation and maintenance , system design and construction , equipment manufacturing and sales , and in education and research .',\n",
       " 'It is the sole method of execution in Vermont , where treason is the only capital crime .',\n",
       " 'By the beginning of the 1st Millennium BCE they had adopted the general Canaanite language of the region .',\n",
       " 'The Kite Runner is a 2007 American drama film directed by Marc Forster based on the novel of the same name by Khaled Hosseini .',\n",
       " 'The Sons of Liberty was a group consisting of American patriots that originated in the pre-independence North American British colonies .',\n",
       " 'George Washington at Constitutional Convention of 1787 , signing of U.S. Constitution .',\n",
       " 'This is a list of places below mean sea level that are on land .',\n",
       " \"Following her marriage to Mottola in 1993 and success with hit records Emotions ( 1991 ) , Music Box ( 1993 ) , and Merry Christmas ( 1994 ) , Carey was established as Columbia 's highest-selling act .\",\n",
       " 'In 2001 , Minnesota Vikings player Korey Stringer died of a medical condition based from dehydration and heatstroke .',\n",
       " 'Domain names are organized in subordinate levels ( subdomains ) of the DNS root domain , which is nameless .',\n",
       " 'Kennewick is a city in Benton County in the southeastern part of the U.S. state of Washington , near the Hanford nuclear site .',\n",
       " 'The House meets in the south wing of the United States Capitol .',\n",
       " 'Middle Triassic marginal marine sequence of siltstones ( below ) and limestones ( above ) , Virgin Formation , southwestern Utah , USA',\n",
       " 'Before natural gas can be used as a fuel , it must undergo processing to remove impurities , including water , to meet the specifications of marketable natural gas .',\n",
       " \"After the American Civil War , Stanton 's commitment to female suffrage caused a schism in the women 's rights movement when she , together with Susan B. Anthony , declined to support passage of the Fourteenth and Fifteenth Amendments to the United States Constitution .\",\n",
       " 'In the traditional luxury- watch industry Scalfaro International is considered as the precursor in manufacturing and sale of bespoke watches .',\n",
       " 'After 536 days , Kardashian and Humphries reached an undisclosed settlement at the Los Angeles Superior Court , finalizing the divorce in April 2013 .',\n",
       " 'The term is used as a verb , noun , and adjective .',\n",
       " \"The President of the Republic of South Africa is the head of state and head of government under South Africa 's Constitution .\",\n",
       " 'Lobbying ( also lobby ) is the act of attempting to influence decisions made by officials in the government , most often legislators or members of regulatory agencies .',\n",
       " \"An early use of the exact phrase appears in an 1918 newspaper advertisement for the San Antonio Light which says : One of the Nation 's Greatest Editors Says : One Picture is Worth a Thousand Words The San Antonio Light 's Pictorial Magazine of the War Exemplifies the truth of the above statement -- judging from the warm reception it has received at the hands of the Sunday Light readers .\",\n",
       " 'Acoustic coupler modem',\n",
       " 'Her father acceded to the throne as George VI in 1936 on the abdication of his brother Edward VIII , from which time she was the heir presumptive .',\n",
       " 'Depending on how one calculates Chinese and other East Asian adherents , this figure might expand to include several more countries .',\n",
       " 'Energy in many states may be used to do many varieties of physical work .',\n",
       " 'More recently , linguists have also tended to prefer the Latin script or the International Phonetic Alphabet ( itself largely based on Latin script ) when transcribing or creating written standards for non-European languages , such as the African reference alphabet .',\n",
       " 'They compete in the annual Rugby Championship , along with southern-hemisphere counterparts Argentina , Australia and New Zealand .',\n",
       " 'With his army in high spirits , Lee intended to shift the focus of the summer campaign from war-ravaged northern Virginia and hoped to influence Northern politicians to give up their prosecution of the war by penetrating as far as Harrisburg , Pennsylvania , or even Philadelphia .',\n",
       " 'Some individuals who walk for long periods report pain in the feet , ankles , and lower legs .',\n",
       " 'Conversely , most plants except specialist halophytes are intolerant of salt , and sodium is present in them only in low concentration .',\n",
       " 'These factors are protein-calorie malnutrition , microclimate ( skin wetness caused by sweating or incontinence ) , diseases that reduce blood flow to the skin , such as arteriosclerosis or diseases that reduce the feeling in the skin , such as paralysis or neuropathy .',\n",
       " \"The USA Basketball Men 's Senior National Team , commonly known as the United States men 's national basketball team , represents the United States of America in international men 's basketball .\",\n",
       " 'Made by Play-Along Toys , the new toys offered features such as illuminated bellies upon touch , aerobic bears , and glow-in-the-dark bears .',\n",
       " 'Daniel 2 is the second chapter of the Book of Daniel in the Hebrew Bible .',\n",
       " 'KFC primarily sells fried chicken pieces and variations such as chicken sandwiches and wraps , salads and side dishes such as French fries and coleslaw , desserts and soft drinks , often supplied by PepsiCo .',\n",
       " 'The War of 1812 and World War II caused two inaugurations to be held at other locations in Washington , D.C .',\n",
       " 'Males and females are equally affected .',\n",
       " 'Targeted cancer therapies such as sunitinib , temsirolimus , bevacizumab , interferon-alpha , and sorafenib have improved the outlook for RCC .',\n",
       " 'The stomach is located between the esophagus and the small intestine .',\n",
       " 'Such devices may employ separate power sources , such as batteries , to maintain data after power loss .',\n",
       " 'PCI video cards replaced ISA and VESA cards , until growing bandwidth requirements outgrew the capabilities of PCI ; the preferred interface for video cards became AGP , and then PCI Express .',\n",
       " 'Warren Harding was the first elected after women gained voting rights in 1920 .',\n",
       " 'HVAC is important in the design of medium to large industrial and office buildings such as skyscrapers and in marine environments such as aquariums , where safe and healthy building conditions are regulated with respect to temperature and humidity , using fresh air from outdoors .',\n",
       " 'They also leave possessions of the deceased .',\n",
       " 'He died in Kowloon Tong on 20 July 1973 at age 32 .',\n",
       " 'Il Divo is a group of four male singers : French pop singer Sébastien Izambard , Spanish baritone Carlos Marín , American tenor David Miller , and Swiss tenor Urs Bühler .',\n",
       " 'There are several remakes of the show in other countries , with two set in the United Kingdom ; the well known Geordie Shore , set in Newcastle upon Tyne , England .',\n",
       " 'Archaeologists believe it was built anywhere from 3000 BC to 2000 BC .',\n",
       " \"iOS is Apple 's mobile version of the OS X operating system used on Apple computers .\",\n",
       " \"Among his best known later films are The Quiet Man ( 1952 ) , which follows him as an Irish-American boxer and his love affair with a fiery spinster played by Maureen O'Hara ; The Searchers ( 1956 ) , in which he plays a Civil War veteran who seeks out his abducted niece ; Rio Bravo ( 1959 ) , playing a Sheriff with Dean Martin ; True Grit ( 1969 ) , playing a humorous U.S . Marshal who sets out to avenge a man 's death in the role that won Wayne an Academy Award ; and The Shootist ( 1976 ) , his final screen performance in which he plays an aging gunslinger battling cancer .\",\n",
       " 'Its nighttime population is 2.6 million , the third in the country , but in daytime the population surges to 3.7 million , second only after Tokyo ( combining the special wards of Tokyo , which is not a single incorporated city , for statistical purposes ; see the Tokyo article for more information on the definition and makeup of Tokyo ) .',\n",
       " \"Eric `` E . ''\",\n",
       " 'In 2003 the public learned that , like all captive chimpanzees , Bubbles had matured into a large and aggressive adult chimp unsuitable as a companion animal .',\n",
       " 'Students at NMMU can study towards diplomas and degrees up to and including doctoral level qualifications .',\n",
       " 'Unlike older SLR systems , Four Thirds has been designed from the ground up to be entirely digital .',\n",
       " 'Districts are administered by District Magistrates , and divisions are administered by Divisional Commissioners .',\n",
       " 'Montargis is the second largest city in the Loiret , after Orléans .',\n",
       " 'Upon the murder of her husband by another feuding family , she sought to dissuade her sons from revenge .',\n",
       " 'The oil is used in many industrial applications .',\n",
       " 'Played in Pasadena , California , the TCU Horned Frogs of the Mountain West Conference defeated the Wisconsin Badgers of the Big Ten Conference by a score of 21 – 19 .',\n",
       " 'Every game in the series has been released for every console , as the IP is owned by Sony Computer Entertainment .',\n",
       " 'She gave her birth date as July 7 , 1910 , but her birth certificate shows July 6 , 1907 .',\n",
       " 'Grassland in the Santa Rosa Plateau , California .',\n",
       " 'The largest city served by these area codes is Toledo ( and its suburbs of Holland , Maumee , Northwood , Oregon , Ottawa Hills , Perrysburg , Rossford , Sylvania , Swanton , Waterville , and Whitehouse ) .',\n",
       " 'The ceremony and function of the augur was central to any major undertaking in Roman society—public or private—including matters of war , commerce , and religion .',\n",
       " 'Although they trailed the Celtics by 13 points early in the third quarter , the Lakers rallied and won their second consecutive championship by taking over an exciting Game 7 aided by late contributions on offense by Pau Gasol and Artest and rebounding .',\n",
       " 'Of the four cryptograms sent , only one has been definitively solved .',\n",
       " 'The rows of the table are called periods ; the columns of the s- , d- , and p-blocks are called groups , with some of these having names such as the halogens or the noble gases .',\n",
       " 'These provinces and many areas of Navarre are heavily populated by ethnic Basques , but Basque was , at least until the 1990s , not spoken as a native language in most of Álava , western parts of Biscay and central and southern areas of Navarre , either because it had been replaced by Spanish along the centuries , in some areas , or because it had never been spoken there , in other areas .',\n",
       " 'Kathmandu ( ; ) is the capital and largest urban agglomerate of Nepal .',\n",
       " 'The fair includes agricultural exhibits , a craft show , food vendors , and carnival rides amongst other things .',\n",
       " 'Sucker Punch is a 2011 American fantasy action film directed by Zack Snyder and co-written by him and Steve Shibuya .',\n",
       " 'Shippensburg is also the home of The Beistle Company , the oldest and largest manufacturer of decorations and party goods , which sells its distinctive honeycomb paper decorations worldwide .',\n",
       " 'It was written by Minaj and rapper Eminem , who is also featured in the song , and was produced by Swizz Beatz .',\n",
       " 'It is also being applied to pharmaceuticals , via thin-film drug delivery .',\n",
       " 'Adaptive models of thermal comfort consider occupants as dynamically interacting with their environment , and controlling their thermal comfort by means of clothing or window-opening and closing .',\n",
       " 'Montargis is a commune in the Loiret department in north-central France on the Loing river .',\n",
       " \"Joseph Proust 's law of definite proportions and John Dalton 's atomic theory branched from the discoveries of Antoine Lavoisier .\",\n",
       " 'It is projected to become the fourth leading cause of death worldwide by 2030 , due to an increase in smoking rates and demographic changes in many countries .',\n",
       " 'There are a number of HDMI-standard cable connectors available , each of which can be used for any uncompressed TV or PC video format , including standard , enhanced , high definition , and 3D video signals ; up to 8 channels of compressed or uncompressed digital audio ; a CEC ( Consumer Electronics Control ) connection ; and an Ethernet data connection .',\n",
       " \"The Iliad relates a part of the last year of the siege of Troy ; the Odyssey describes Odysseus 's journey home .\",\n",
       " \"Many species can see light with frequencies outside the `` visible spectrum , '' which is defined in terms of human vision .\",\n",
       " 'It was briefly interrupted by the Xin Dynasty ( 9–23 AD ) of the former regent Wang Mang .',\n",
       " 'Crawford often played hardworking young women who find romance and financial success .',\n",
       " 'It was originally signed into law by President Lyndon B. Johnson , despite his misgivings , on July 4 , 1966 as and went into effect the following year .',\n",
       " \"The U.S. 2012 Census reported that Fontana 's population was 200,762 in 2012 , making it the second most populous city in San Bernardino county county and 14th in the state .\",\n",
       " 'Actions taken within many games succeed or fail according to a formal system of rules and guidelines .',\n",
       " 'The Cato Institute is an American libertarian think tank headquartered in Washington , D.C .',\n",
       " 'Trin-i-tee 5:7 is a gospel duo from New Orleans , Louisiana in the United States .',\n",
       " \"Lennon 's signature\",\n",
       " 'Collectivism is a basic cultural element that exists as the reverse of individualism in human nature ( in the same way high context culture exists as the reverse of low context culture ) .',\n",
       " 'She is portrayed by Lisa Edelstein .',\n",
       " 'Actors Tom Hanks , Tim Allen , Joan Cusack , Don Rickles , Estelle Harris , John Ratzenberger , Wallace Shawn , Jeff Pidgeon , Jodi Benson , R. Lee Ermey , John Morris , and Laurie Metcalf reprised their voice-over roles from the previous films .',\n",
       " 'By the 10th Revision of the WHO International Statistical Classification of Diseases , Injuries and Causes of Death , low vision is defined as visual acuity of less than 20/60 ( 6/18 ) , but equal to or better than 20/200 ( 6/60 ) , or corresponding visual field loss to less than 20 degrees , in the better eye with best possible correction .',\n",
       " 'The tournament teams include champions from 31 Division I conferences ( which receive automatic bids ) , and 37 teams which are awarded at-large berths .',\n",
       " 'The federal government budget deficit or surplus is the difference between government receipts and spending , ignoring intra-governmental transfers .',\n",
       " 'Individual claimants or those represented by lawyers often present demands to insurers to settle for money .',\n",
       " 'The Book of Mormon is a sacred text of the Latter Day Saint movement , which adherents believe contains writings of ancient prophets who lived on the American continent from approximately 2200 BC to AD 421 .',\n",
       " \"As a result , computer chips have become the state 's leading export .\",\n",
       " 'Lyme disease is the most common tick-borne disease in the Northern Hemisphere .',\n",
       " 'One of the most famous sites in the world , Stonehenge is the remains of a ring of standing stones set within earthworks .',\n",
       " 'While cancer can affect people of all ages , and a few types of cancer are more common in children , the risk of developing cancer generally increases with age .',\n",
       " 'A herbivorous species , Bagheera kiplingi , was described in 2008 , but all other known species are predators , mostly preying on insects and on other spiders , although a few large species also take birds and lizards .',\n",
       " 'Her subsequent roles in the 1990s and 2000s included Open Your Eyes ( 1997 ) , The Hi-Lo Country ( 1999 ) , The Girl of Your Dreams ( 2000 ) and Woman on Top ( 2000 ) .',\n",
       " 'Since the ratification of the Twenty-second Amendment to the United States Constitution in 1951 , no person may be elected President more than twice , and no one who has served more than two years of a term to which someone else was elected may be elected more than once .',\n",
       " 'In Europe ( and , to a lesser degree , elsewhere ) the new development was treated with suspicion by many filmmakers and critics , who worried that a focus on dialogue would subvert the unique aesthetic virtues of soundless cinema .',\n",
       " 'Sacramento is the capital city of the U.S. state of California and the seat of government of Sacramento County .',\n",
       " 'The school is overseen by a Board of Managers .',\n",
       " \"Samoan ( Gagana fa'a Sāmoa or Gagana Sāmoa — IPA : ) is the language of the Samoan Islands , comprising the independent country of Samoa and the United States territory of American Samoa .\",\n",
       " \"The organization has its roots in Brooklyn , New York , where Margaret Sanger opened the country 's first birth-control clinic .\",\n",
       " 'The policy holder typically pays a premium , either regularly or as a lump sum .',\n",
       " 'The first color cinematography was by means of additive color systems such as the one patented in England by Edward Raymond Turner in 1899 and tested in 1902 .',\n",
       " \"Considered an impact on culture , the series has received numerous awards , and has also been included in various critics ' top ten lists .\",\n",
       " \"Originally signed by Simon Cowell and managed by Louis Walsh , the group 's final line-up consisted of Nicky Byrne , Kian Egan , Mark Feehily and Shane Filan .\",\n",
       " \"The Super Bowl ring is an award in the National Football League given to the winners of the league 's annual World Championship game , the Super Bowl .\",\n",
       " 'They continue to be manufactured and sold in the 21st century .',\n",
       " 'The United States emerged from as a global superpower , the first country with nuclear weapons , and a permanent member of the United Nations Security Council .',\n",
       " 'Many countries have used it at various times since then .',\n",
       " 'Both languages , along with the varieties of the Chinese language , Japanese , and Korean , are now used in elections in Alaska , California , Hawaii , Illinois , New York , Texas , and Washington .',\n",
       " 'A geologist is a scientist who studies the solid and liquid matter that constitutes the Earth as well as the processes and history that has shaped it .',\n",
       " 'The system is often used to define larger pieces of property ( e.g . farms ) , and political subdivisions ( e.g . town boundaries ) where precise definition is not required or would be far too expensive , or previously designated boundaries can be incorporated into the description .',\n",
       " \"The phrase “Era of Good Feelings” was coined by Benjamin Russell , in the Boston Federalist newspaper , Columbian Centinel , on July 12 , 1817 , following Monroe 's visit to Boston , Massachusetts as part of his good will tour of America .\",\n",
       " 'Awakened , released in January , 2011 , also entered the list at # 1 .',\n",
       " 'The UN was founded in 1945 after World War II to replace the League of Nations , to stop wars between countries , and to provide a platform for dialogue .',\n",
       " 'In formal terms , the connection is a persulfide , in analogy to its congener , peroxide ( R-O-O-R ) , but this terminology is obscure and is no longer used ( except in reference to R-S-S-H or H-S-S-H compounds ) .',\n",
       " \"During 2008 and 2009 , Canada 's Cookie Jar Group and France 's MoonScoop Group attempted to acquire the franchise from AGC , with no apparent success .\",\n",
       " 'Crosby was drafted first overall by the Penguins out of the Quebec Major Junior Hockey League ( QMJHL ) .',\n",
       " 'The earliest mules are found among ancient Greek and Roman coins .',\n",
       " 'Dwarf planets come in between .',\n",
       " 'record .',\n",
       " 'Their work with bicycles in particular influenced their belief that an unstable vehicle like a flying machine could be controlled and balanced with practice .',\n",
       " 'The series has also had some share of criticism , including concern for the increasingly dark tone .',\n",
       " 'It is one of only two independent nations in the Americas ( along with Canada ) to designate French as an official language ; the other French-speaking areas are all overseas départements , or collectivités , of France .',\n",
       " \"Qingdao is named China 's most livable city .\",\n",
       " 'His understanding of humans as being matter and motion , obeying the same physical laws as other matter and motion , remains influential ; and his account of human nature as self-interested cooperation , and of political communities as being based upon a `` social contract `` remains one of the major topics of political philosophy .',\n",
       " 'NAFTA has two supplements : the North American Agreement on Environmental Cooperation ( NAAEC ) and the North American Agreement on Labor Cooperation ( NAALC ) .',\n",
       " 'Nassau',\n",
       " \"The Florida Constitution states that `` The legislative power of the state shall be vested in a legislature of the State of Florida , '' composed of a Senate and House of Representatives .\",\n",
       " \"Self-esteem is a term used in psychology to reflect a person 's overall emotional evaluation of his or her own worth .\",\n",
       " 'The series takes place in Tokyo , Japan , where five adolescent girls , called Mew Mews , are infused with the DNA of endangered species to combat aliens attempting to take over the Earth .',\n",
       " 'The current locks are wide .',\n",
       " 'It was available to every veteran who had been on active duty during the war years for at least ninety days and had not been dishonorably discharged ; combat was not required .',\n",
       " \"Crosby started the 2007–08 season with the team 's captaincy and subsequently led them to the 2008 Stanley Cup Finals , where they were defeated by the Detroit Red Wings in six games .\",\n",
       " 'Obama also designated sitting judge Emily C. Hewitt of the United States Court of Federal Claims , an Article I court , to be Chief Judge of that court .',\n",
       " 'The population was 104,057 at the 2010 census .',\n",
       " 'In the final days of the war , during the Battle of Berlin in 1945 , Hitler married his long-time partner , Eva Braun .',\n",
       " 'In North America , the term pickup is used for light trucks with a lighter duty chassis and factory built , integrated bed , as well as for coupé utility vehicles , often based on a personal car chassis , but also often on a special dedicated chassi for such use .',\n",
       " 'For example , today most major corporations promote their commitment to non-economic values under headings such as ethics codes and social responsibility charters .',\n",
       " 'His goal was to make America the `` Arsenal of Democracy `` which would supply munitions to the Allies .',\n",
       " \"The 'variable ' component in the name refers to this ability to invest in separate accounts whose values vary—they vary because they are invested in stock and/or bond markets .\",\n",
       " 'The word is often used to describe a property in the independent section of the hotel market ( such as The Rockwell in London ) in order to distinguish themselves from larger chains ( such as Hilton Hotels ) .',\n",
       " 'These neologisms sometimes have a sarcastic intent ( for example , “stubble-meister” for someone with a short , neat beard or “crier-meister” for someone who often cries ) .',\n",
       " \"An article published in 1958 states the phrase was first used by a `` Dr. Hertzler '' 40 years earlier .\",\n",
       " \"I was a zombie then ... pointed in a certain direction and told to march '' —and becoming a Sunni Muslim , he disavowed racism and expressed willingness to work with civil rights leaders , he continued to emphasize Pan-Africanism , black self-determination , and self-defense .\",\n",
       " \"Aronofsky cites Fyodor Dostoyevsky 's `` The Double `` as another inspiration for the film .\",\n",
       " 'Atlanta is the cultural and economic center of the Atlanta metropolitan area , home to 5,457,831 people and the ninth largest metropolitan area in the United States .',\n",
       " 'A plaque commemorating the location of the Sarajevo assassination ( image taken in 2009 )',\n",
       " 'Note , however , that some courts may require any legal papers that are submitted to them to conform to a different citation format .',\n",
       " 'The Irish state came into being in 1922 as the Irish Free State , a dominion of the British Commonwealth , having seceded from the United Kingdom under the Anglo-Irish Treaty .',\n",
       " 'The childlike Pee-wee Herman character developed as a stage act that quickly led to an HBO special in 1981 .',\n",
       " \"The official motto of the XX Olympic Winter Games was `` Passion lives here '' .\",\n",
       " \"There was a more controversial side to More 's life , because he advocated the persecution and execution of Protestants who refused to recant their faith .\",\n",
       " \"The word `` linen '' is of West Germanic origin and cognates with the Latin name for the flax plant linum , and the earlier Greek λινόν ( linon ) .\",\n",
       " \"Some cards have a stored value with which a payment is made , while most relay a message to the cardholder 's bank to withdraw funds from a payee 's designated bank account .\",\n",
       " 'The Internet Movie Database ( IMDb ) is an online database of information related to films , television programs , and video games .',\n",
       " 'Eggnog is a popular drink throughout the United States and Canada , and is usually associated with Christmas .',\n",
       " 'The city of Rome was the largest megalopolis of that time , with a population that may well have exceeded one million people , with a high end estimate of 3.6 million and a low end estimate of 450,000 .',\n",
       " 'The main areas where copper is found in vertebrates are liver , muscle and bone .',\n",
       " 'The Indian state of West Bengal borders with Nepal , Bhutan , Bangladesh and the Indian states of Bihar , Jharkhand , Odisha , Assam and Sikkim .',\n",
       " 'Yul Brynner won the National Board of Review Award for Best Actor for his role as Rameses , along with his other roles in The King and I and Anastasia .',\n",
       " 'This may explain why political groups typically do not make such attacks .',\n",
       " 'He served three different terms as Speaker of the United States House of Representatives and was also Secretary of State from 1825 to 1829 .',\n",
       " \"Both of these remedies award the party at loss the `` benefit of the bargain '' or expectation damages , which are greater than mere reliance damages , as in promissory estoppel .\",\n",
       " 'Black Friday is the day following Thanksgiving Day in the United States , often regarded as the beginning of the Christmas shopping season .',\n",
       " 'Although the two words reproducibility and repeatability can be synonymous in colloquial use , they are deliberately contrasted in the context of the scientific method .',\n",
       " \"In 2010 , the percentage of workers belonging to a union in the United States ( or total labor union `` density '' ) was 11.4 % , compared to 18.4 % in Germany , 27.5 % in Canada , and 70 % in Finland .\",\n",
       " 'The Sims development team created the unique Simlish language by experimenting with fractured Ukrainian , French , Latin , Finnish , English , Fijian , Cebuano , and Tagalog .',\n",
       " 'In the eighth grade , he began to play football and learn the intricacies of the quarterback position , training with his father , Nick .',\n",
       " \"A modern reconstruction of the Globe , named `` Shakespeare 's Globe `` , opened in 1997 approximately from the site of the original theatre .\",\n",
       " 'He is first usually required to check , and certify , the regularity of the relationship of the Lodge - and be able to satisfy that Lodge of his regularity of membership .',\n",
       " 'Sample of a Medallion signature guarantee stampIn',\n",
       " 'Having an agent is not required , but does help the artist in getting jobs .',\n",
       " 'Authorized under the Gold Bullion Coin Act of 1985 , it was first released by the United States Mint in 1986 .',\n",
       " \"Thus , the right deciduous mandibular first molar is known as `` 84 '' , and the left one is known as `` 74 '' .\",\n",
       " 'Seven are believed to have been built on Pierce-Arrow 8-cylinder chassis while one surviving example was based upon 1930 Cadillac 353 V8 .',\n",
       " \"She was the only fashion designer to appear on Time magazine 's list of the 100 most influential people of the 20th century .\",\n",
       " 'Her work has been celebrated in Mexico as emblematic of national and indigenous tradition , and by feminists for its uncompromising depiction of the female experience and form .',\n",
       " 'The concept of a veto body originated with the Roman consuls and tribunes .',\n",
       " 'Mahindra is also among the top three tractor manufacturers in the world .',\n",
       " '5 million tonnes of hydrogen were consumed on-site in oil refining , and in the production of ammonia ( Haber process ) and methanol ( reduction of carbon monoxide ) .',\n",
       " 'Three Camden mayors have been jailed for corruption , the most recent being Milton Milan in 2000 .',\n",
       " \"Some units are converted into production rigs , meaning they switch from drilling for oil to capturing oil once it 's found .\",\n",
       " 'However in the Roman Catholic Church Lent is now taken to end on Holy Thursday rather than Easter Eve , and hence lasts 38 days excluding Sundays , or 44 days in total .',\n",
       " 'The cell body of a neuron frequently gives rise to multiple dendrites , but never to more than one axon , although the axon may branch hundreds of times before it terminates .',\n",
       " 'Though Jefferson owned many slaves , he opposed the institution all his life and consequently treated and took care of them very well and expected them to work no more than free farmers .',\n",
       " 'value of the assets owned by the firm .',\n",
       " 'Data warehouses can be subdivided into data marts .',\n",
       " \"Their use is based on the observation that the human mind more easily remembers spatial , personal , surprising , physical , sexual , humorous , or otherwise 'relatable ' information , rather than more abstract or impersonal forms of information .\",\n",
       " 'The CDC focus national attention on developing and applying disease prevention and control ( especially infectious diseases and foodborne pathogens and other microbial infections ) , environmental health , occupational safety and health , health promotion , injury prevention and education activities designed to improve the health of the people of the United States .',\n",
       " 'It gets its name from the Iowa incarnation of Pikes Peak , a particularly high point overlooking the gorge of the Upper Mississippi , and like Pikes Peak in Colorado , is named for Zebulon Pike .',\n",
       " \"The killer originated the name `` Zodiac '' in a series of taunting letters sent to the local Bay Area press .\",\n",
       " \"By 1981 , he had starred in several made-for-TV movies and was Erik Estrada 's replacement on the top rated TV series CHiPs .\",\n",
       " 'Interactions between motivational , homeostatic and self-regulatory control processes are involved in eating behaviour , which is a key component in eating disorders .',\n",
       " 'It is the most widely used form of renewable energy , accounting for 16 percent of global electricity generation – 3,427 terawatt-hours of electricity production in 2010 , and is expected to increase about 3.1 % each year for the next 25 years .',\n",
       " \"The network decided to move a condensed 30-minute version of Leno 's show to O'Brien 's time slot , and O'Brien 's Tonight Show a half-hour later .\",\n",
       " 'As of 2011 , Way has confirmed he is working on his fourth studio album , entitled USA DRE , which will be released in 2013 .',\n",
       " 'In 1937 , the franchise moved to Washington , D.C .',\n",
       " 'There have also been some nuclear-powered submarine mishaps .',\n",
       " 'Slaves could gain freedom only by running away ( which was difficult and illegal to do ) , or by manumission by owners , which was regulated by states , and became increasingly difficult or prohibited .',\n",
       " 'The Philistine cities of Gaza , Ashdod , Ashkelon , Ekron , and Gath',\n",
       " 'The Myers-Briggs Type Indicator ( MBTI ) assessment is a psychometric questionnaire designed to measure psychological preferences in how people perceive the world and make decisions .',\n",
       " 'Topsoil as well as farm fertilizers and other potential pollutants run off unprotected farm fields when heavy rains occur .',\n",
       " 'They are best known for undertaking the Boston Tea Party in 1773 , which led to the Intolerable Acts ( an intense crackdown by the British government ) , and a counter-mobilization by the Patriots .',\n",
       " 'Agriculture contributes less than 10 percent to the gross domestic product ( GDP ) , but it employs roughly 20 percent of the working population .',\n",
       " 'Brian Keith Kelly ( born October 25 , 1961 ) is an American football coach and former player .',\n",
       " 'World trade in wheat is greater than for all other crops combined .',\n",
       " 'In non-community property states property may be divided by equitable distribution .',\n",
       " 'According to the text , Nebuchadnezzar is the king of Babylon who is troubled by his dreams .',\n",
       " 'Horses in the Middle Ages were rarely differentiated by breed , but rather by use .',\n",
       " 'U.S. women suffragists demonstrating for the right to vote , February 1913 .',\n",
       " 'The USPS traces its roots to 1775 during the Second Continental Congress , where Benjamin Franklin was appointed the first postmaster general .',\n",
       " 'The input or output of non-material energy must change the mass of the system in relativity theory , although the change is usually small , since relatively large amounts of such energy ( by comparison with ordinary experience ) carry only a small amount of mass ( again by ordinary standards of measurement ) .',\n",
       " 'The Tonight Show is a US late-night talk show that has aired on NBC since 1954 .',\n",
       " 'In cricket , the term innings is also used to refer to the play of one particular player ( Smith had a poor innings , scoring only 12 ) .',\n",
       " 'Facing plummeting demand with few alternate sources of jobs , areas dependent on primary sector industries such as cash cropping , mining and logging suffered the most .',\n",
       " 'This was used from the start of the APTIS era in 1986/1987 until well into the 1990s , as stocks had to be used up despite the introduction of the new-look orange-banded version in 1991 .',\n",
       " 'Many of his works are found in the Vatican Palace , where the frescoed Raphael Rooms were the central , and the largest , work of his career .',\n",
       " 'Second-language acquisition ( often abbreviated to SLA ) also refers to the scientific discipline devoted to studying that process .',\n",
       " 'The group accumulated 14 number-one singles in the United Kingdom ( the third-highest in UK history ) , tying with Cliff Richard and ranking just behind The Beatles and Elvis Presley .',\n",
       " 'Prince William married his longtime girlfriend , Catherine Middleton , on 29 April 2011 at Westminster Abbey .',\n",
       " 'Depending on the country , caviar may also be used to describe the roe of other fish such as salmon , steelhead , trout , lumpfish , whitefish , and other species of sturgeon .',\n",
       " 'A C-54 Skymaster was then converted for presidential use ; this aircraft , dubbed the Sacred Cow , transported President Franklin D. Roosevelt to the Yalta Conference in February 1945 , and was subsequently used for another two years by President Harry S. Truman .',\n",
       " 'It is the third stadium that has naming rights from Mercedes-Benz ( and first in the United States ) , after the Mercedes-Benz Arena , the stadium of Bundesliga club VfB Stuttgart , in Stuttgart , Germany and the Mercedes-Benz Arena in Shanghai , China .',\n",
       " 'The fundamental concepts of communist states often diverge from the original socio-economic ideologies from which they develop .',\n",
       " 'In 2002 , a BBC poll on the 100 Greatest Britons voted him eighth , and in 2008 , Rolling Stone ranked him the fifth-greatest singer of all time .',\n",
       " 'If investments made in the separate accounts out-perform the general account of the insurance company , a higher rate-of-return can occur than the fixed rates-of-return typical for whole life .',\n",
       " 'She is Supreme Governor of the Church of England and , in some of her realms , carries the title of Defender of the Faith as part of her full title .',\n",
       " 'In the case of Chef Paolo , who had no known first name , they have been listed by title .',\n",
       " 'It is produced by The Coca-Cola Company of Atlanta , Georgia , and is often referred to simply as Coke ( a registered trademark of The Coca-Cola Company in the United States since March 27 , 1944 ) .',\n",
       " 'As it involves autoimmune demyelination , it is similar to multiple sclerosis , and is considered part of the Multiple sclerosis borderline diseases .',\n",
       " \"The lineup includes Rich Collins , Scott Durbin , Dave Poche , and Scott `` Smitty '' Smith .\",\n",
       " 'The Shawshank Redemption is a 1994 American drama film written and directed by Frank Darabont and starring Tim Robbins and Morgan Freeman .',\n",
       " 'The injury left him sidelined for ten and a half months .',\n",
       " 'The success has also led to multiple re-releases in theaters for the series .',\n",
       " 'Internet search engines , such as Google , and full text searching help provide access to information but are not as selective as an index , as they provide non-relevant links , and may miss relevant information if it is not phrased in exactly the way they expect .',\n",
       " \"'Son of man ' is the translation of various Hebrew and Greek phrases used in both the Hebrew Bible and the New Testament .\",\n",
       " 'Victims included women , men , children , and infants .',\n",
       " 'Supplies after the termination date were sold to Britain at a large discount for £1 .075 billion using long-term loans from the United States .',\n",
       " 'The idea of Express editions is to provide streamlined , easy-to-use and easy-to-learn IDEs for users other than professional software developers , such as hobbyists and students .',\n",
       " 'The American Civil War caused economic hardship , driving gold and silver from circulation ; in response , in place of low-value coins , the government at first issued paper currency .',\n",
       " 'Partial thickness burns may require cleaning with soap and water followed by dressings .',\n",
       " 'Thunder is the sound caused by lightning .',\n",
       " \"Accordingly , the Dietary Reference Intakes for vitamin D assume that no synthesis occurs and that all of a person 's vitamin D is from their diet , although that will rarely occur in practice .\",\n",
       " \"The breed originated in Thailand ( formerly known as Siam ) , where they are one of several native breeds and are called Wichian Mat ( วิเชียรมาศ , a name meaning `` moon diamond '' ) .\",\n",
       " 'Appointed by and serving at the pleasure of the Board of Trustees , the Town Administrator is the chief operating and administrative officer of the Town and is responsible for providing professional leadership in the administration and execution of policies and objectives formulated by the Board .',\n",
       " 'Monument Canyon',\n",
       " 'The war in Europe ended with the capture of Berlin by Soviet and Polish troops and the subsequent German unconditional surrender on 8 May 1945 .',\n",
       " 'Prior to Three Rivers , the Steelers had played their games in Pitt Stadium and Forbes Field .',\n",
       " 'is a 2011 Japanese 3D computer-animated film based on the Tekken video game series , produced by Digital Frontier and distributed by Asmik Ace Entertainment in association with Bandai Entertainment .',\n",
       " \"Hornsby 's recordings have been recognised on a number of occasions with industry awards , including the Best New Artist Grammy in 1987 with Bruce Hornsby and the Range , the Best Bluegrass Recording Grammy in 1990 , and the Best Pop Instrumental Grammy in 1993 .\",\n",
       " 'Fair Park is a recreational and educational complex located in Dallas , Texas ( USA ) .',\n",
       " 'Windows 98 and Windows NT 4.0 both shipped with DirectX , as has every version of Windows released since .',\n",
       " 'St. Elizabeth is a village in Miller County , Missouri , United States .',\n",
       " \"in season '' refers to the episode 's number in each particular season .\",\n",
       " 'The Princess cut is the second most popular cut shape for diamonds , next to a round brilliant .',\n",
       " 'Developing from an extension center established in 1936 , the institution became an autonomous institution in 1969 and is today one of three institutions in the University of Alabama System .',\n",
       " 'The University of Phoenix acquired the naming rights in September 2006 , shortly after the stadium had opened under the name Cardinals Stadium .',\n",
       " 'There are several historical sites including the Longacre House and the Governor Warner Mansion .',\n",
       " \"The Indianapolis Colts ' almost exclusive use of the hurry-up offense led to Manning using an array of gestures and verbal commands to call the play at the line of scrimmage rather than in the huddle .\",\n",
       " 'Jessica Rafalowski , Miss Florida USA 2008',\n",
       " \"The United Nations ( UN ; French : Organisation des Nations Unies , ONU ) is the world 's largest , foremost , and most prominent international organization .\",\n",
       " 'The country has three Nobel prizes in science and two of peace .',\n",
       " 'A CD-ROM ( ) is a pre-pressed compact disc which contains data .',\n",
       " \"The other , older use of the term `` Rapture '' is simply as a synonym for the final resurrection generally , without a belief that a group of people is left behind on earth for an extended Tribulation period after the events of 1 Thessalonians 4:17 .\",\n",
       " 'In the strictest sense of the word , boutiques would be one-of-a-kind but more generally speaking , some chains can be referred to as boutiques if they specialize in particular styles .',\n",
       " 'As of July 2011 , the city population was 58,973 , up from 36,811 in 2000 .',\n",
       " 'Chula Vista ( ; ) is the second largest city in the San Diego metropolitan area , the seventh largest city in Southern California , the fourteenth largest city in the State of California , and the 77th-largest city in the United States .',\n",
       " \"Heroes has earned a number of awards and nominations , including Primetime Emmy Awards , Golden Globes , People 's Choice Awards and British Academy Television Awards .\",\n",
       " 'A rooster in Kosovo',\n",
       " 'Office for Emergency Management .',\n",
       " 'It is based on the short story of the same name by Lewis Padgett ( Henry Kuttner and C. L. Moore ) .',\n",
       " 'Photographed in April 1945',\n",
       " 'They are best known for their million selling recording of `` How Do You Do `` .',\n",
       " 'The California BAC limit is 0.01 % for those younger than 21 years of age and those on probation for a previous DUI conviction .',\n",
       " \"Caesar 's adopted heir Octavian , later known as Augustus , rose to sole power , and the era of the Roman Empire began .\",\n",
       " 'The Republican Party nominated incumbent Vice-President Richard Nixon , while the Democratic Party nominated John F. Kennedy , Senator from Massachusetts .',\n",
       " 'Later he was awarded the Black Image Award from Aerospace Corporation in 1982 .',\n",
       " 'Globally , wheat is the leading source of vegetable protein in human food , having a higher protein content than soybeans or the other major cereals , maize ( corn ) or rice .',\n",
       " 'Data marts store subsets of data from a warehouse .',\n",
       " 'It is a perennial plant native to the Mediterranean region .',\n",
       " \"The period is so closely associated with Monroe 's presidency ( 1817–1825 ) and his administrative goals that his name and the era are virtually synonymous .\",\n",
       " 'Methaqualone',\n",
       " 'Given its military pre-eminence , Sparta was recognized as the overall leader of the combined Greek forces during the Greco-Persian Wars .',\n",
       " 'Lake Tahoe is the largest alpine lake in North America .',\n",
       " 'The population was 243,916 as of the 2010 census .',\n",
       " 'Backpack may also refer to a 2001 novel by Emily Barr',\n",
       " 'Doha is home to the Education City , an area devoted to research and education .',\n",
       " 'The ribosome facilitates decoding by inducing the binding of tRNAs with complementary anticodon sequences to that of the mRNA .',\n",
       " \"`` Gim me Some Lovin ' '' was a UK # 2 in the Autumn of 1966 and a US # 7 .\",\n",
       " \"He is known by the nickname `` The Killer '' and is often viewed as “rock & roll 's first great wild man” .\",\n",
       " 'U.S. President George H. W. Bush deployed U.S. forces into Saudi Arabia , and urged other countries to send their own forces to the scene .',\n",
       " 'The Cabrera Archipelago , though widely separated from Palma proper , is administratively considered part of the municipality .',\n",
       " 'Captain Nemo , also known as Prince Dakkar , is a fictional character invented by the French science fiction author Jules Verne .',\n",
       " \"The only significant change in 217 's boundaries was in 1957 , when its northern portion was combined with part of area code 815 to form area code 309 .\",\n",
       " 'The song received a nomination at the 54th Grammy Awards for Best Rap/Sung Collaboration .',\n",
       " 'Stomach cancer , or gastric cancer , refers to cancer arising from any part of the stomach .',\n",
       " 'Also on the anterior portion of the roof of the hard palate is the Rugae which are the irregular ridges in the mucous membrane that help facilitate the movement of food backwards towards the pharynx .',\n",
       " 'Case Management',\n",
       " 'She announced that she could never have dreamt of the talented actors and actresses who have appeared in all the Harry Potter movies .',\n",
       " \"The two Goddesses represent the State motto , `` Liberty and Prosperity '' .\",\n",
       " \"Eisenhower 's two terms were peaceful ones for the most part and saw considerable economic prosperity except for a sharp recession in 1958–59 .\",\n",
       " 'The county has many further market towns , including Whitchurch in the north , Newport just to the north-east of Telford , and Market Drayton in the north-east of the county .',\n",
       " \"admitting that one can not control one 's addiction or compulsion ;\",\n",
       " \"Gaye helped to shape the sound of Motown Records in the 1960s with a string of hits including `` How Sweet It Is ( To Be Loved By You ) `` and `` I Heard It Through the Grapevine `` and duet recordings with Mary Wells and Tammi Terrell , later earning the titles `` Prince of Motown '' and `` Prince of Soul '' .\",\n",
       " 'Ashanti has endorsed numerous products including Gap , Herbal Essences and Mudd Jeans .',\n",
       " 'The last naturally occurring case of smallpox ( Variola minor ) was diagnosed on 26 October 1977 .',\n",
       " \"Cingular became wholly owned by AT & T in December 2006 as a result of AT & T 's acquisition of BellSouth .\",\n",
       " \"Kennedy 's campaigning skills decisively outmatched Nixon 's .\",\n",
       " 'June ( ) is the sixth month of the year in the Julian and Gregorian calendars and one of the four months with a length of 30 days .',\n",
       " \"as part of Georgia 's museums .\",\n",
       " 'The purchaser is therefore required to declare and pay the use tax to his home state on these ordered goods .',\n",
       " 'An example of this phenomenon is that clean air scatters blue light more than red wavelengths , and so the midday sky appears blue .',\n",
       " 'To acquire property one can purchase it with money , trade it for other property , receive it as a gift , steal it , find it , make , it or homestead it .',\n",
       " 'Its main ingredient is prescription -strength cough syrup containing codeine and promethazine .',\n",
       " 'One World Trade Center will be the lead building for the new complex , reaching more than 100 stories at its completion .',\n",
       " 'In addition , he has starred in three Blue Collar Comedy Tour-related movies , as well as in the films Larry the Cable Guy : Health Inspector , Delta Farce , and Witless Protection , as well as voicing Mater in the Cars franchise .',\n",
       " 'They have released five major studio albums together : DC Talk ( 1989 ) , Nu Thang ( 1990 ) , Free at Last ( 1992 ) , Jesus Freak ( 1995 ) , and Supernatural ( 1998 ) .',\n",
       " 'reality television series Keeping Up with the Kardashians , and its subsequent spin-offs , including Kourtney and Kim Take New York and Kourtney and Kim Take Miami .',\n",
       " 'The franchise was created and developed by Insomniac Games and published by Sony Computer Entertainment for many different PlayStation consoles , such as PlayStation 2 and PlayStation 3 with the exclusion of Size Matters and Secret Agent Clank , which were developed by High Impact Games for the PlayStation Portable .',\n",
       " 'In 2009 , an estimated 62.1 million metric tons of eggs were produced worldwide from a total laying flock of approximately 6.4 billion hens .',\n",
       " \"Columbia Pictures released the film using the `` platform '' technique , which involved opening it in a few select cities , letting positive word of mouth generate interest , and then gradually expanding distribution over subsequent weeks .\",\n",
       " 'The most commonly used language is English .',\n",
       " 'In addition to turning and re-positioning the patient in bed or wheelchair , eating a balanced diet with adequate protein and keeping the skin free from exposure to urine and stool is very important .',\n",
       " 'Five DVD compilations , each containing four episodes of the season , have been released by Aniplex ; the first DVD compilation was released on November 26 , 2008 and the fifth on March 25 , 2009 .',\n",
       " 'Because an epidermoid cyst originates in the epidermis and a pilar cyst originates from hair follicles , by definition , neither type of cyst is strictly a sebaceous cyst .',\n",
       " 'U.S. agents encouraged Native Americans to adopt European-style farming and similar pursuits , but European-American agricultural technology of the time was inadequate for often dry reservation lands .',\n",
       " 'Dedicated technology such as Echocardiography , Computed Tomography , Magnetic Resonance Imaging and MUGA scanning have definitively allowed clinically relevant mathematics regarding Ischemia , Congenital Heart Disease and Heart Failure .',\n",
       " 'Today , 4-H and related programs exist in over eighty countries around the world ; the organization and administration varies from country to country .',\n",
       " 'Anatomy : The mandibular first molar has five cusps : the mesiobuccal ( MB , toward midline and cheek ) , mesiolingual ( ML , toward midline and tongue ) , distolingual ( DL , away from midline and towards tongue ) , distobuccal ( DB , away from midline and toward cheek ) , and distal ( D , away from midline ) , listed in order of decreasing size .',\n",
       " 'Since Chief Justice Oliver Ellsworth swore in President John Adams , no chief justice has missed an Inauguration Day .',\n",
       " 'The series follows the past , present , and future experience ( s ) of the survivors of a plane crash on a passenger jet , Oceanic Flight 815 , flying from Sydney to Los Angeles after it crashes on a tropical island in the South Pacific .',\n",
       " 'The two other domains , Bacteria and Archaea , are prokaryotes and have none of the above features .',\n",
       " 'The assassins , the key members of the clandestine tunnel , and the key Serbian military conspirators who were still alive were arrested , tried , convicted and punished .',\n",
       " \"The Louisiana Purchase ( `` Sale of Louisiana '' ) was the acquisition by the United States of America in 1803 of of France 's claim to the territory of Louisiana .\",\n",
       " \"She appeared on PrankStars as herself in the episode `` Walk The Prank '' and on A.N.T . Farm as Sequoia Jones in the episode `` Creative ConsultANT . ''\",\n",
       " 'Dave Goucher announces play-by-play .',\n",
       " 'This is a horizontal acceleration of 5.3 g. Combined with the vertical g-force in the stationary case the Pythagorean theorem yields a g force of 5.4 g .',\n",
       " 'He was one of the members of the Blue Collar Comedy Tour , a comedy troupe which included Bill Engvall , Ron White , and Jeff Foxworthy ( with whom he has starred on Blue Collar TV ) .',\n",
       " 'While specific use of the term may vary among countries , it is usually applied to text , images , or other audio-visual content on any traditional medium , including paper ( newspapers , magazines , catalogs , etc . ) .',\n",
       " 'You must self assess use tax and pay it directly to the state where the products were consumed or services were rendered .',\n",
       " 'Note that the crude death rate as defined above and applied to a whole population can give a misleading impression .',\n",
       " 'In 2002 , they announced a hiatus and re-united two years later for the release of their fourth studio album , Destiny Fulfilled ( 2004 ) .',\n",
       " 'Matches are played between two teams of seven players riding flying broomsticks , using four balls and six elevated ring-shaped goals , three on each side of the Quidditch pitch ( field ) .',\n",
       " 'Those deviations are considerably large at high pressures .',\n",
       " 'The project partnership effort is known as the Joint Video Team ( JVT ) .',\n",
       " 'Weighing , they are rounded , large and slow .',\n",
       " 'In the European Parliament , the Conservatives are the largest British party with 25 MEPs , who sit with the soft eurosceptic European Conservatives and Reformists ( ECR ) parliamentary group , while the party itself is a member of the Alliance of European Conservatives and Reformists ( AECR ) Europarty .',\n",
       " 'This is a type of biscuit .',\n",
       " 'Most shows are regularly hosted by a single individual , and often feature interviews with a number of different guests .',\n",
       " 'Hurricane Katrina formed over the Bahamas on August 23 , 2005 and crossed southern Florida as a moderate Category 1 hurricane , causing some deaths and flooding there before strengthening rapidly in the Gulf of Mexico .',\n",
       " \"The show centers on five characters : roommates Sheldon Cooper and Leonard Hofstadter , two Caltech physicists ; Penny , a waitress and aspiring actress who lives across the hall ; and Leonard and Sheldon 's friends and co-workers aerospace engineer Howard Wolowitz , and astrophysicist Rajesh Koothrappali .\",\n",
       " 'They are especially used by DJs and audiophiles for many types of music .',\n",
       " 'Mincemeat is a mixture of chopped dried fruit , distilled spirits and spices , and sometimes beef suet , beef , or venison .',\n",
       " 'Originally celebrated on the third Sunday after Easter with an octave , after Divino Afflatu of St. Pius X ( see Reform of the Roman Breviary by Pope Pius X ) , it was moved to the preceding Wednesday .',\n",
       " 'The annual percentage change in a CPI is used as a measure of inflation .',\n",
       " 'Typically this provider acts as the principal point of consultation for patients within a health care system and coordinates other specialists that the patient may need .',\n",
       " 'Hydrochlorothiazide is a sulfonamide and a thiazide .',\n",
       " 'He was the first term-limited president in accordance with the 22nd Amendment .',\n",
       " 'The ulnar collateral ligament of elbow joint is in relation with the ulnar nerve .',\n",
       " 'Plato ( 428/427 BC – 348/347 BC ) thought private property created divisive inequalities , while Aristotle ( 384 BC – 322 BC ) thought private property enabled people to receive the full benefit of their labor .',\n",
       " 'The downtown is closed to traffic for at least 5 blocks for most of the day .',\n",
       " 'The tri-tip is a cut of beef from the bottom sirloin primal cut .',\n",
       " 'Videos considered to contain potentially offensive content are available only to registered users at least 18 years old .',\n",
       " 'In addition , there are approximately 140 naval vessels using nuclear propulsion in operation , powered by some 180 reactors .',\n",
       " \"The Smiths ' cult status was followed by mainstream success in 1984 , as they reached number twelve in the UK with the `` What Difference Does It Make ? `` single and reached number two on the UK Albums Chart with their debut album , The Smiths ( 1984 ) .\",\n",
       " 'April 5 , 2011 was scheduled to be a runoff election date if no candidate received an absolute majority .',\n",
       " 'However , the official name was Mallorca , the same as the island .',\n",
       " 'Scream 3 performed both financially and critically worse than its preceding films , earning over $ 161 million and with many critics claiming that the film had become what Scream originally `` spoofed `` .',\n",
       " 'There are three phases to the light-independent reactions , collectively called the Calvin cycle : carbon fixation , reduction reactions , and ribulose 1,5-bisphosphate ( RuBP ) regeneration .',\n",
       " 'Center Wilt Chamberlain led the NBA in assists in 1968 .',\n",
       " \"He had three singles in the top ten , including first place with `` Just the Way You Are '' , which sold 12.5 million copies .\",\n",
       " \"Referred to as the `` songbird supreme '' by the Guinness World Records , she is famed for her five-octave vocal range , power , melismatic style and signature use of the whistle register .\",\n",
       " 'Phelps also holds the all-time records for Olympic gold medals ( 18 , double the second highest record holders ) , Olympic gold medals in individual events ( 11 ) , and Olympic medals in individual events for a male ( 13 ) .',\n",
       " 'Regarding Australian Contract Law for example , there are 40 relevant acts which impact on the interpretation of contract at the Commonwealth ( Federal / national ) level , and an additional 26 acts at the level of the state of NSW .',\n",
       " \"During the Sgt . Pepper sessions , the group improved upon the quality of their music 's production while exploring experimental recording techniques .\",\n",
       " 'This photo from a 1921 encyclopedia shows a tractor ploughing a crop field .',\n",
       " 'A use tax in United States is complementary to sales tax which means , if you buy a Taxable product/services without paying any Sales tax to vendor , you owe use tax .',\n",
       " 'The orbital planes cross each year at a line of nodes resulting in at least two , and up to five , solar eclipses occurring each year ; no more than two of which can be total eclipses .',\n",
       " 'Very often unchanged in layout since their inception , confectioneries are known for their warming and nostalgic feel .',\n",
       " 'For troops in the U.S.-led multinational coalition , the death toll is carefully tracked and updated daily , and the names and photographs of those killed in action as well as in accidents have been published widely .',\n",
       " 'By far the largest group of ferns is the leptosporangiate ferns , but ferns as defined here ( also called monilophytes ) include horsetails , whisk ferns , marattioid ferns , and ophioglossoid ferns .',\n",
       " 'In addition to these well-known stratospheric phenomena , there are also springtime polar tropospheric ozone depletion events .',\n",
       " \"The cycle 's promotional song is Lady Gaga 's `` The Fame '' .\",\n",
       " 'The name is also used for dye preparations derived from the plant , and for the art of temporary tattooing based on those dyes .',\n",
       " 'is a Japanese manga series created by writer Tsugumi Ohba and manga artist Takeshi Obata .',\n",
       " 'While it may be made anywhere in the United States , it is strongly associated with the American South in general , and Kentucky in particular .',\n",
       " 'The main language of government is English even if South Africans often take pride in using indigenous languages for any purpose .',\n",
       " 'In Australia , the term also refers to the hunting of foxes with firearms similar to spotlighting or deer hunting .',\n",
       " 'The official language of the empire was Quechua , although hundreds of local languages and dialects of Quechua were spoken .',\n",
       " \"At its most prototypical the short story features a small cast of named characters , and focuses on a self-contained incident with the intent of evoking a `` single effect '' or mood .\",\n",
       " \"His career rose to further heights in 1939 , with John Ford 's Stagecoach making him an instant superstar .\",\n",
       " 'Short story arcs are easier to package as trade paperbacks for resale , and more accessible to the casual reader than the never-ending continuity that once characterised comics .',\n",
       " 'In 499 BC , the then tyrant of Miletus , Aristagoras , embarked on an expedition to conquer the island of Naxos , with Persian support ; however , the expedition was a debacle and , pre-empting his dismissal , Aristagoras incited all of Hellenic Asia Minor into rebellion against the Persians .',\n",
       " \"Dubai and Abu Dhabi , the national capital , are the only two emirates to have veto power over critical matters of national importance in the country 's legislature .\",\n",
       " \"Knocking on wood , or to touch wood , refers to the apotropaic tradition in western folklore of literally touching/knocking on wood , or merely stating that you are doing or intend same , in order to avoid `` tempting fate `` after making a favourable observation , a boast , or declaration concerning one 's own death .\",\n",
       " 'Sheehan was the 2012 vice-presidential nominee of the Peace and Freedom Party .',\n",
       " 'It is the first film of The Hangover franchise .The film stars Bradley Cooper , Ed Helms , Zach Galifianakis , Heather Graham , Justin Bartha , and Jeffrey Tambor .',\n",
       " 'Eminem began an acting career in 2002 , when he starred in the hip hop drama film 8 Mile .',\n",
       " 'It is found in woodlands , gardens , shrublands , and swamps .',\n",
       " \"Still others , as the Earth 's Moon , may be the result of giant collisions .\",\n",
       " \"This reignited his career and throughout the late '60s and '70s he regularly topped the country-western charts .\",\n",
       " 'Gatun Lake was created to reduce the amount of work required for the canal .',\n",
       " 'Cruz achieved recognition for her lead roles in the 2001 films Vanilla Sky and Blow .',\n",
       " 'Its primary purpose is to track individuals for Social Security purposes .',\n",
       " \"The People 's Court has had two contrasting lives .\",\n",
       " 'Traditionally , ocean scientists have relied on infrequent ship cruises or space-based satellites to carry out their research , while the NEPTUNE project uses a remotely operated crawler .',\n",
       " 'By deprecating the opinion to follow – suggesting its value is only two cents , a very small amount – the user of the phrase hopes to lessen the impact of a possibly statement , showing politeness and humility .',\n",
       " 'It is the third most important airport in Brazil , in terms of passengers and aircraft movements .',\n",
       " 'In the United States , under the U.S . Wool Products Labeling Act of 1939 , as amended , ( 15 Uction 68b ( a ) ( 6 ) ) , states that a wool or textile product may not be labeled as containing cashmere unless:',\n",
       " 'The three were later widely praised and decorated by the Army for their heroic actions .',\n",
       " \"The United States is a developed country and has the world 's largest national economy , with an estimated 2012 GDP of $ 15.6 trillion 19 % of global GDP at purchasing-power parity , as of 2011 .\",\n",
       " 'Annual Decoration Days for particular cemeteries are held on a Sunday in late spring or early summer in some rural areas of the American South , notably in the mountains .',\n",
       " 'Products include : General Liability , Professional Liability , Property , Workers Compensation , Directors & Officers Liability , Commercial Auto , Specialty Coverage , Excess , Health Plans and more .',\n",
       " 'The network is primarily dedicated for Latin American families who reside in the United States .',\n",
       " 'The Constitution does not require that the Speaker be a Member of Congress , but no non-member has ever been elected to the office .',\n",
       " 'Frequently , in addition to the rose or sometimes instead of it , angle markings in degrees are shown on the compass .',\n",
       " 'This is in contrast to thermal comfort in sealed buildings , in which occupants experience the environment passively .',\n",
       " 'Many of her health problems were the result of a traffic accident she survived as a teenager .',\n",
       " 'Timing belt ( camshaft ) , a toothed belt used to drive the camshaft ( s ) within an internal combustion engine',\n",
       " 'She is also known for appearing in the 2008 feature film The Longshots as Edith .',\n",
       " 'In addition to domain registration and hosting Go Daddy also sells e-business related software and services .',\n",
       " 'With over 1.2 billion people , Han Chinese is the largest ethnic group in the world .',\n",
       " 'Although there had been some trans-Saharan trade from the interior of Sub-Saharan Africa to other regions , slavery was a small part of the economic life of many societies in Africa until the introduction of transcontinental slave trades ( Arab and Atlantic ) .',\n",
       " 'Death Note was first serialized in 108 chapters by Shueisha in the Japanese manga magazine Weekly Shōnen Jump from December 2003 to May 2006 .',\n",
       " \"Those involved in the production of the series imply that a seventh and final season is creator Kurt Sutter 's plan .\",\n",
       " 'Rowling does not fully reveal the details of his true loyalties until the end of the final book , Harry Potter and the Deathly Hallows .',\n",
       " 'Although the term lox is sometimes applied to smoked salmon , they are different products .',\n",
       " 'Biologically , cocaine acts as a serotonin–norepinephrine–dopamine reuptake inhibitor , also known as a triple reuptake inhibitor ( TRI ) .',\n",
       " \"Newton 's law of universal gravitation states that every point mass in the universe attracts every other point mass with a force that is directly proportional to the product of their masses and inversely proportional to the square of the distance between them .\",\n",
       " 'The original manuscript is held at the Museum of Modern Literature , Marbach am Neckar , Germany .',\n",
       " 'The population was 963 at the 2010 census .',\n",
       " 'She signed with Capitol Records .',\n",
       " 'Ceres as seen with the Hubble Space Telescope .',\n",
       " \"Henry Merritt `` Hank '' Paulson , Jr. ( born March 28 , 1946 ) is an American banker who served as the 74th United States Secretary of the Treasury .\",\n",
       " 'Weather is the state of the atmosphere , to the degree that it is hot or cold , wet or dry , calm or stormy , clear or cloudy .',\n",
       " 'The fastest growing form of housing in the United States today is common-interest developments ( CIDs ) , a category that includes planned-unit developments of single-family homes , condominiums , and cooperative apartments .',\n",
       " \"By 2010 , Westlife was listed in the Guinness World Records , as the UK 's top-selling album group of the 21st century .\",\n",
       " 'The games have consistently been a best seller , and has even spawned TV shows where players compete .',\n",
       " 'The main source of these halogen atoms in the stratosphere is photodissociation of man-made halocarbon refrigerants ( CFCs , freons , halons ) .',\n",
       " 'From 1937 to 1998 , the Irish constitution included a claim on Northern Ireland as a part of the national territory .',\n",
       " 'A constitution is a set of fundamental principles or established precedents according to which a state or other organization is governed .',\n",
       " 'A small submersible AC sump pump with a garden hose connector',\n",
       " 'At the core of the Earth , thermal energy is created by radioactive decay and temperatures may reach over 5000 °C ( 9,000 °F ) .',\n",
       " 'With NFL training camps starting in late-July , the biggest concern has been dehydration .',\n",
       " 'Layers of the atmosphere ( not to scale )',\n",
       " 'Larger containers such as plastic storage containers ( Tupperware or similar ) or ammunition boxes can also contain items for trading , usually toys or trinkets of little value .',\n",
       " 'Stained glass representation of the Holy Spirit as a dove , c. 1660 .',\n",
       " 'The other house is the Senate .',\n",
       " \"However , they then went into one of the longest championship droughts in baseball history , called by some the `` Curse of the Bambino `` after its alleged beginning with the Red Sox 's sale of Babe Ruth to the rival Yankees two years after their world championship in 1918 , an 86-year wait before the team 's sixth World Championship in .\",\n",
       " 'Prince William has also taken Kiswahili studies at universities in Kenya and Tanzania .',\n",
       " \"His tenure lasted from the show 's debut on September 14 , 1981 , until May 21 , 1993 , when the show was cancelled due to low ratings .\",\n",
       " 'The USA won gold two years later , though , at the 2008 Summer Olympics with a dominant performance .',\n",
       " 'Grasslands occur naturally on all continents except Antarctica .',\n",
       " \"However , some participating whole life policies offer riders which specify that any dividends paid on the policy be used to purchase `` paid up additions '' to the policy which increase both the cash value and the death benefit over time .\",\n",
       " '1998 BMW 750iL',\n",
       " 'Until the late Pleistocene , about 10,000 years ago , the lion was the most widespread large land mammal after humans .',\n",
       " 'Industrially , the electron microscope is often used for quality control and failure analysis .',\n",
       " 'Major earthquakes are often followed by reports that they were predicted , or at least anticipated , but no claim of a successful prediction of a major earthquake has survived close inquiry .',\n",
       " 'An estimated 10 – 15 % of people with eating disorders are males ( Gorgan , 1999 ) .',\n",
       " 'Each of these is the richest professional club competition in its sport worldwide .',\n",
       " 'Lithium batteries are disposable ( primary ) batteries that have lithium metal or lithium compounds as an anode .',\n",
       " 'The war in Europe ended when Nazi Germany signed its instrument of surrender on 8 May , but the Pacific War continued .',\n",
       " 'As a punishment for these actions , the gods sentence Enkidu to death .',\n",
       " 'A consequence of this requirement is that there are limitations to the efficiency with which thermal energy can be converted to other kinds of energy , since thermal energy in equilibrium at a given temperature already represents the maximal evening-out of energy between all possible states .',\n",
       " 'States must give these assessments to all students at select grade levels in order to receive federal school funding .',\n",
       " 'to imply a very small nucleus of the atom containing a very high positive charge ( in the case of gold , enough to balance about 100 electrons ) , thus leading to the Rutherford model of the atom .',\n",
       " 'It is also used as a way to replenish sand on some public beaches , where sand has been lost because of coastal erosion .',\n",
       " 'Linked with US 395 , this road connects Los Angeles with such places as Mammoth Mountain , Mono Lake , Yosemite National Park and Reno , Nevada .',\n",
       " 'Delayed or inadequate treatment can lead to more serious symptoms , which can be disabling and difficult to treat .',\n",
       " 'Cnidaria ( with a silent c ) or Coelenterata is a phylum containing over 10,000 species of animals found exclusively in aquatic and mostly marine environments .',\n",
       " 'The shimmering appearance of silk is due to the triangular prism -like structure of the silk fibre , which allows silk cloth to refract incoming light at different angles , thus producing different colors .',\n",
       " 'Pérez has become a product endorser , representing alongside Drake , Rihanna , and Trey Songz the “So Kodak” campaign for the Kodak brand and embarking on a partnership with the soft drink giant Dr Pepper as part of the campaign “ Vida 23 ” for which he recorded the song specifically featured on his album Armando .',\n",
       " 'These theories argue against interventions imposed on the labor market from the outside , such as unionization , minimum wage laws , taxes , and other regulations that they claim discourage the hiring of workers .',\n",
       " 'In June 2007 , Sampson was married to Laura Howzell Young in St. Thomas , U.S. Virgin Islands .',\n",
       " 'The Republican nominee , former Vice-President Richard Nixon , won the election over the Democratic nominee , incumbent Vice-President Hubert Humphrey .',\n",
       " 'European settlers came from a variety of social and religious groups .',\n",
       " 'Differential scanning calorimeters , isothermal microcalorimeters , titration calorimeters and accelerated rate calorimeters are among the most common types .',\n",
       " \"Some scholars argue that the mass murder of the Romani and people with disabilities should be included in the definition , and some use the common noun `` holocaust '' to describe other Nazi mass murders , including those of Soviet prisoners of war , Polish and Soviet civilians , and homosexuals .\",\n",
       " \"The series ' name was changed to Madden NFL in 1993 after EA acquired the rights to use NFL teams and players .\",\n",
       " \"In the end , Nixon 's emphasis on his experience carried little weight , and he wasted energy by campaigning in all 50 states instead of concentrating on the swing states .\",\n",
       " 'SATA host adapters and devices communicate via a high-speed serial cable over two pairs of conductors .',\n",
       " 'The franchise is legally and corporately registered as New York Jets , LLC .',\n",
       " 'It maintains a strong sense of cultural identity set apart from the rest of the country , although the terms of this identity are often contested , combining Puritanism with liberalism , agrarian life with industry , and isolation with immigration .',\n",
       " 'The meaning of life is in the philosophical and religious conceptions of existence , social ties , consciousness , and happiness , and borders on many other issues , such as symbolic meaning , ontology , value , purpose , ethics , good and evil , free will , the existence of one or multiple Gods , conceptions of God , the soul , and the afterlife .',\n",
       " 'Robert Griffin III 2012-present',\n",
       " 'Xbox access to Xbox Live was stopped on April 15 , 2010 .',\n",
       " 'The Annals of Ulster state that he arrived in Ireland in 432 , ministered in Ulster around 443 , and died in 457 or 461 .',\n",
       " 'Eggnog , or egg nog , is a sweetened dairy -based beverage traditionally made with milk and/or cream , sugar , and whipped eggs ( which gives it a frothy texture ) .',\n",
       " 'Scream 3 combines the violence of the slasher genre with comedy and `` whodunit `` mystery while satirizing the cliché of film trilogies .',\n",
       " 'The anatomic cut-off for upper GI bleeding is the ligament of Treitz , which connects the fourth portion of the duodenum to the diaphragm near the splenic flexure of the colon .',\n",
       " 'Katherine Dunham ( June 22 , 1909 – May 21 , 2006 ) was an American dancer , choreographer , author , educator , and social activist .',\n",
       " 'where is the mole fraction of the i-th component in the total mixture of n components .',\n",
       " \"Our Gang ( also known as The Little Rascals or Hal Roach 's Rascals ) are a series of American comedy short films about a group of poor neighborhood children and their adventures .\",\n",
       " 'The story has been explored several times in print , film and other media , notably in Who Framed Roger Rabbit , Taken for a Ride and The End of Suburbia .',\n",
       " 'Born in Tampico , Illinois , and raised in Dixon , Reagan was educated at Eureka College , earning a Bachelor of Arts degree in economics and sociology .',\n",
       " 'The name of the group , Boogie Down , derives from a nickname for the South Bronx section of The Bronx , one of the five boroughs of New York City .',\n",
       " 'Half-duplex gigabit links connected through hubs are allowed by the specification , but full-duplex usage with switches is much more common .',\n",
       " 'Shortly after the seventh season finale , ABC announced it had picked up the eighth season of the series , which began January 6 , 2009 .',\n",
       " 'The classic jukebox has buttons with letters and numbers on them that , when entered in combination , are used to play a specific selection .',\n",
       " 'Despite this variety of forms , some game forms such as trading card games and wargames that are related to role-playing games may not be included .',\n",
       " 'Located in the southwest Pacific Ocean , it lies geographically to the east of the Malay Archipelago , with which it is sometimes included as part of a greater Indo-Australian Archipelago .',\n",
       " 'A unitary authority ( Shropshire Council ) was created on 1 April 2009 , taking over from the previous county council and 5 district councils , and covers most of the county .',\n",
       " 'Stack-Up was purchased separately and included its own physical game pieces .',\n",
       " 'Most eukaryotic cells also contain other membrane-bound organelles such as mitochondria , chloroplasts and the Golgi apparatus .',\n",
       " 'In 1998 , the Port Authority decided to privatize the World Trade Center , leasing the buildings to a private company to manage , and awarded the lease to Silverstein Properties in .',\n",
       " 'Sound mass techniques also appear in the music of George Crumb ( Anon . n.d. ) .',\n",
       " 'The Swiss franc is the only version of the franc still issued in Europe .',\n",
       " 'The books of the Tanakh were relayed with an accompanying oral tradition passed on by each generation , called the Oral Torah .',\n",
       " 'The framework used to determine this order quantity is also known as Barabas EOQ Model or Barabas Formula .',\n",
       " 'Belize became fully independent from the United Kingdom in 1981 .',\n",
       " \"It has oversight , along with the Immigration Police , over the work permits of missionaries who are `` expatriate religious workers '' of all religions .\",\n",
       " 'Array programming primitives concisely express broad ideas about data manipulation .',\n",
       " \"In areas where the roof could become saturated by rain and leak , or where water soaked into the brickwork could freeze to ice and thus lead to 'blowing ' ( breaking up of the mortar/brickwork/concrete by the expansion of ice as it forms ) these roofs are not suitable .\",\n",
       " 'Mormons believe in the Bible , as well as other books of scripture , such as the Book of Mormon .',\n",
       " \"They play their home games in Alfred A. McKethan Stadium on the university 's Gainesville , Florida campus , and are currently led by head coach Kevin O'Sullivan .\",\n",
       " \"Scientists currently think that cnidarians , ctenophores and bilaterians are more closely related to calcareous sponges than these are to other sponges , and that anthozoans are the evolutionary `` aunts '' or `` sisters '' of other cnidarians , and the most closely related to bilaterians .\",\n",
       " 'The population was 73,917 at the 2010 census .',\n",
       " 'Hundreds of streets in the U.S. have been renamed in his honor .',\n",
       " 'Chronic obstructive pulmonary disease ( COPD ) , also known as chronic obstructive lung disease ( COLD ) , chronic obstructive airway disease ( COAD ) , chronic airflow limitation ( CAL ) and chronic obstructive respiratory disease ( CORD ) , is the occurrence of chronic bronchitis or emphysema , a pair of commonly co-existing diseases of the lungs in which the airways narrow over time .',\n",
       " 'Slaughter is the killing of animals , usually that of domestic livestock for food .',\n",
       " \"In India , sound was the transformative element that led to the rapid expansion of the nation 's film industry—the most productive such industry in the world since the early 1960s .\",\n",
       " 'The orbital speed at any position in the orbit can be computed from the distance to the central body at that position , and the specific orbital energy , which is independent of position : the kinetic energy is the total energy minus the potential energy .',\n",
       " 'It is part of the Jaguar Land Rover group , a subsidiary of Tata Motors of India .',\n",
       " 'Jonah Kirsten Sorrentino ( born June 26 , 1975 ) , better known by his stage name KJ-52 , is a Christian rapper from Tampa , Florida .',\n",
       " 'San Jose was founded on November 29 , 1777 , as El Pueblo de San José de Guadalupe , the first civilian town in the Spanish colony of Nueva California , which later became Alta California .',\n",
       " \"When the tRNA has an amino acid linked to it , it is termed `` charged '' .\",\n",
       " 'The Giants defeated the Bills by the score of 20–19 , winning their second ever Super Bowl .',\n",
       " 'Tacoma ( , ) is a mid-sized urban port city and the county seat of Pierce County , Washington , United States .',\n",
       " 'The company is also a manufacturer of construction equipment and forestry equipment , as well as a supplier of diesel engines and drivetrains ( axles , transmissions , gearboxes ) used in heavy equipment .',\n",
       " 'The acre is no longer commonly used , although a few notable exceptions include the United States , Australia , Burma and the United Kingdom ( as of 2010 , the acre is no longer officially used in the United Kingdom , though is still used in real estate descriptions ) .',\n",
       " \"Sgt . Pepper 's Lonely Hearts Club Band ( often shortened to Sgt . Pepper ) is the eighth studio album by English rock band the Beatles .\",\n",
       " 'Short story writers may define their works as part of the artistic and personal expression of the form .',\n",
       " 'In many cultures the solstices mark either the beginning or the midpoint of winter and summer .',\n",
       " 'This causes a chemical reaction that releases electrons , allowing them to flow through conductors to produce electricity .',\n",
       " 'Sophia Loren ( ; born Sofia Villani Scicolone ; 20 September 1934 ) is an Italian actress .',\n",
       " 'Only a few fragments of it have survived .',\n",
       " 'In a monopolistic market , the demand curve facing the monopolist is simply the market demand curve .',\n",
       " 'A diagram showing the first four spatial dimensions .',\n",
       " \"However , the movie Care Bears : Oopsy Does It ! renamed them `` belly badges '' .\",\n",
       " \"In 2012 a dance version was released by the group `` Da Carrera '' featuring the original vocal recording by Carlos Gardel .\",\n",
       " 'This roughly coincides with the traditional date of the founding of Rome in 753 BC , the beginning of the history of ancient Rome , and the beginning of the Archaic period in Ancient Greece .',\n",
       " 'As of 2013 , it costs more than eleven cents to produce a nickel ; the Mint is exploring the possibility of reducing cost by using less expensive metals .',\n",
       " 'This led them to be described , for example , as `` chargers `` ( war horses ) , `` palfreys `` ( riding horses ) , cart horses or packhorses .',\n",
       " \"The Grand Staircase columns at the Dolby Theatre in Los Angeles , where the Academy Awards ceremonies have been held since 2002 , showcase every film that has won the Best Picture title since the award 's inception 85 years ago .\",\n",
       " 'Linen ( ) is a textile made from the fibers of the flax plant , Linum usitatissimum .',\n",
       " 'At the time of writing the Netherlands is the 17th largest economy of the world .',\n",
       " 'NBC signed Leno to a new deal for a nightly talk show in the 10:00 pm ET timeslot .',\n",
       " 'The earned income tax credit has been part of political debates in the United States regarding whether raising the minimum wage or increasing EIC will better address a seeming shortage of good-paying jobs .',\n",
       " 'Mathematicians since Euclid have studied the properties of the golden ratio , including its appearance in the dimensions of a regular pentagon and in a golden rectangle , which can be cut into a square and a smaller rectangle with the same aspect ratio .',\n",
       " \"It 's a Wonderful Life is a 1946 American Christmas drama film produced and directed by Frank Capra , based on the short story `` The Greatest Gift `` , which Philip Van Doren Stern wrote in 1939 and privately published in 1945 .\",\n",
       " 'Blisters should typically be left unbroken .',\n",
       " 'Largely , engineering managers manage engineers who are driven by non-entrepreneurial thinking , thus require the necessary people skills to coach , mentor and motivate technical professionals .',\n",
       " \"In addition , those economists seeing the central bank 's control over the money supply as feeble say that there are two weak links between the growth of the money supply and the inflation rate .\",\n",
       " 'The series was produced to commemorate the tenth anniversary of the AT-X network it originally aired on .',\n",
       " 'Sen. Sumner , opposed to American imperialism in the Caribbean and fearful that annexation would lead to the conquest of the neighboring black republic of Haiti , became convinced that corruption lay behind the treaty , and that men close to the president shared in the corruption .',\n",
       " 'There are two indications , one from the initial pulse of the probe , and the second due to the back wall echo .',\n",
       " 'DDR SDRAM based SSD .',\n",
       " 'In the distributed computing model , problems are solved by a distributed interconnected set of processors .',\n",
       " \"Some of Khrushchev 's policies were seen as erratic , particularly by his emerging rivals , who quietly rose in strength and deposed him in October 1964 .\",\n",
       " 'Similarly , the monetarist school that is dominant in the United States also has been difficult to transfer north of the border .',\n",
       " 'There have been many notable Irish people throughout history .',\n",
       " 'After the bachelor party in Las Vegas , Stu takes no chances and opts for a safe , subdued pre-wedding brunch .',\n",
       " 'The cell theory , first developed in 1839 by Matthias Jakob Schleiden and Theodor Schwann , states that all organisms are composed of one or more cells , that all cells come from preexisting cells , that vital functions of an organism occur within cells , and that all cells contain the hereditary information necessary for regulating cell functions and for transmitting information to the next generation of cells .',\n",
       " 'It is one of several price indices calculated by most national statistical agencies .',\n",
       " \"The cycle is roughly as common as a no-hitter ( 279 occurrences in MLB history ) ; it has been called `` one of the rarest '' and `` most difficult feats '' in baseball .\",\n",
       " 'The primary targets of such suspicions were government employees , those in the entertainment industry , educators and union activists .',\n",
       " 'In the 1860s and 1870s , banknotes reemerged .',\n",
       " 'Common weight reduction techniques include fiberglass body panels , stripped interiors and plexiglass windows ( sometimes color tinted ) .',\n",
       " 'On March 14 , 2012 , CBS renewed Criminal Minds for an eighth season , which premiered on September 26 , 2012 .',\n",
       " \"According to a director of the Independent Schools Network Rankings , it was added to the schools listing `` for fun '' and was then voted on .\",\n",
       " 'North America is a continent wholly within the Northern Hemisphere and almost wholly within the Western Hemisphere .',\n",
       " 'This is a list of episodes from the Discovery Channel series , Storm Chasers .',\n",
       " 'Cell division usually occurs as part of a larger cell cycle .',\n",
       " 'Sump pumps send water away from a house to any place where it is no longer problematic , such as a municipal storm drain or a dry well .',\n",
       " \"However , if athletes are deemed to have violated the event 's rules or regulations , they are disqualified from the competition and their marks are erased .\",\n",
       " \"The `` electromagnetic spectrum '' of an object has a different meaning , and is instead the characteristic distribution of electromagnetic radiation emitted or absorbed by that particular object .\",\n",
       " 'The most basic objective of a nerve guidance conduit is to combine physical , chemical , and biological cues under conditions that will foster tissue formation .',\n",
       " 'The electron microscope uses electrostatic and electromagnetic lenses to control the electron beam and focus it to form an image .',\n",
       " 'One eye-witness recorded that the body showed signs of having been shot through the mouth , but this has been proven unlikely .',\n",
       " 'The process and mechanics of ownership are fairly complex : one can gain , transfer and lose ownership of property in a number of ways .',\n",
       " 'It is a part of Windows Essentials software suite and offers the ability to create and edit videos as well as to publish them on SkyDrive , Facebook , YouTube , and Flickr .',\n",
       " 'Also , in situations with very large propellers turning at slow speeds ( such as tug boats ) , the equivalent size waterjet would be too big to be practical .',\n",
       " 'However , many countries have decriminalized the possession of small quantities of cannabis , particularly in North America , South America and Europe .',\n",
       " \"Gustave Doré 's engravings illustrated the Divine Comedy ( 1861–1868 ) ; here , Dante is lost in Canto 1 of the Inferno .\",\n",
       " '3 . Denomination',\n",
       " 'It also attempts to create larger regions of free space using compaction to impede the return of fragmentation .',\n",
       " 'Wall crypts containing remains of unknown Italian soldiers killed during World War II , in a Rhodes cemetery',\n",
       " \"Also , obesity decreases the percentage of water in the body , sometimes to as low as 45 percent '' .\",\n",
       " 'Technically , divisions between one group and another are defined by doctrine and church authority .',\n",
       " \"TMZ 's managing editor is Harvey Levin , a lawyer-turned-journalist who was previously a legal expert for the Los Angeles television station KCBS-TV .\",\n",
       " 'The name Fiona has been particularly popular for girls of Asian or Pacific Islander descent in New York City , where Fiona ranked as the ninth most popular name for girls from those groups in 2007 .',\n",
       " 'France controlled this vast area from 1699 until 1762 , the year it gave the territory to its ally Spain .',\n",
       " 'Worldwide , about 10,715 megawatts ( MW ) of geothermal power is online in 24 countries .',\n",
       " 'As the campaign progressed , the War in Iraq and outgoing Republican President George W. Bush had become increasingly unpopular , and the major-party candidates ran on a platform of change and reform .',\n",
       " 'Ocean planets are a hypothetical type of planet with a surface completely covered with liquid .',\n",
       " 'The optical window is also called the visible window because it overlaps the human visible response spectrum .',\n",
       " 'The phenomenon seems contrary to thermodynamics , but a number of possible explanations for the effect have been proposed .',\n",
       " 'Robert Horry and John Salley are the only players to have won the championships with three different teams .',\n",
       " 'Protestants separated from the Catholic Church because of theologies and practices that they considered to be in violation of their interpretation .',\n",
       " 'After winning the California and South Dakota primary elections for the Democratic nomination for President of the United States , Kennedy was shot as he walked through the kitchen of the Ambassador Hotel and died in the Good Samaritan Hospital twenty-six hours later .',\n",
       " 'He has been inducted into multiple music halls of fame .',\n",
       " 'Typical modern memory card reader , compatible with many common formats',\n",
       " 'Peripheral , an optional computer hardware component that significantly supplements or enhances the functionality of the original unit',\n",
       " 'The massacre took place in the hamlets of My Lai and My Khe of Son My village .',\n",
       " 'When Roach changed distributors from Pathé to Metro-Goldwyn-Mayer ( MGM ) in 1927 , and converted the series to sound in 1929 , the series took off even further .',\n",
       " \"Newfoundland and Labrador 's capital and largest city , St. John 's , is Canada 's 20th-largest Census Metropolitan Area , and is home to almost 40 percent of the province 's population .\",\n",
       " \"Joanne `` Jo '' Rowling ( ) , ( born 31 July 1965 ) , pen name J. K. Rowling , is a British novelist , best known as the author of the Harry Potter fantasy series .\",\n",
       " 'A main reason for failure of these traditional roofs is ignorance or lack of maintenance where people or events cause the gravel to be moved or removed from the tar or tarpaper waterproofing , thus exposing it to weather and sun whereupon cracking and blistering occurs over time and eventually water gets in .',\n",
       " 'It is illegal to possess , produce , or distribute cocaine for non-medicinal and non-government-sanctioned purposes in almost every country .',\n",
       " 'Many of these countries are current or former colonies or dependencies of the United Kingdom ( see also British Empire ) , or of the United States , itself a former colony of the UK .',\n",
       " 'From 1956 to 1992 , the number of her realms varied as territories gained independence and some realms became republics .',\n",
       " 'He then briefly resumed active army service on the Western Front as commander of the 6th Battalion of the Royal Scots Fusiliers .',\n",
       " 'It is common for most breeds to shed this coat .',\n",
       " 'The BAU is part of the FBI National Center for the Analysis of Violent Crime .',\n",
       " 'It has been theorized that the New Covenant is the Law of Christ as spoken during his Sermon on the Mount .',\n",
       " 'It has a distinctive crest on the head and a mask on the face which is black in the male and gray in the female .',\n",
       " \"Officially proposed to the first session of the First Congress in 1790 , Hamilton 's Bank faced widespread resistance from opponents of increased federal power .\",\n",
       " 'Cake is often the dessert of choice for meals at ceremonial occasions , particularly weddings , anniversaries , and birthdays .',\n",
       " 'The Apple Store is a chain of retail stores owned and operated by Apple Inc. , dealing in computers and consumer electronics .',\n",
       " 'The latter half of training camp leads directly into the exhibition season .',\n",
       " 'KSAs are used as a yardstick to assess the capabilities of a prospective applicant in terms of likely ability to perform the duties of the job .',\n",
       " 'Scholarly techniques such as the recording of oral history , historical linguistics , archaeology and genetics have been crucial .',\n",
       " 'The lack of support provided by flip-flops often results in over-pronation injuries , caused by the foot slipping inwards further than normal .',\n",
       " 'Johnson was a part-owner of the Lakers for several years , and was part of a group that purchased the Los Angeles Dodgers in 2012 .',\n",
       " 'If a game is started but does not reach the point of becoming official , fans are entitled to a new ticket for the make-up game or ( in most cases ) any other available game of their choice .',\n",
       " \"The White House , the president 's official residence and center of the administration\",\n",
       " 'They mostly originate in thunderclouds and terminate on the ground , called Cloud to Ground ( CG ) lightning .',\n",
       " 'Billboard magazine ranked TLC as one of the greatest musical trios .',\n",
       " 'As such , it is becoming widely used within China in international contexts , for example the five Fuwa mascots of the Beijing Olympics .',\n",
       " 'Oil on canvas by Carl Emil Doepler .',\n",
       " 'A quarry is a type of open-pit mine from which rock or minerals are extracted .',\n",
       " 'In democracies , political campaigns often refer to electoral campaigns , wherein representatives are chosen or referendums are decided .',\n",
       " 'The Jet Propulsion Laboratory managed the Mars Pathfinder mission and its now inactive Sojourner rover .',\n",
       " 'A highwayman was a thief and brigand who preyed on travellers .',\n",
       " 'The Soviet space program achieved many of the first milestones , including the first living being in orbit in 1957 , the first human spaceflight ( Yuri Gagarin aboard Vostok 1 ) in 1961 , the first spacewalk ( by Aleksei Leonov ) on 18 March 1965 , the first automatic landing on another celestial body in 1966 , and the launch of the first space station ( Salyut 1 ) in 1971 .',\n",
       " 'This is a procedure called a facet rhizotomy and is not a surgical procedure but is instead done on an outpatient basis using a simple probe to apply radiofrequency waves to the impinged pain-causing nerve root lying between the facet joint and the vertebral body .',\n",
       " 'Also note that there are thousands of tax jurisdictions in the U.S. and many have ever-changing lists of specific types of goods and services that are not taxable .',\n",
       " 'He was inducted to the California Hall of Fame and has a star on the Hollywood Walk of Fame .',\n",
       " 'Effectively , the Princess cut combines the high degree of light return of a round brilliant cut with a distinctive square or rectangular shape .',\n",
       " 'In addition , the pattern of development included importing numerous African slaves in the 18th century , with many from the same region of West Africa , thus concentrating their culture .',\n",
       " 'The 19.9 MW Gemasolar solar plant in Spain features 15 hours of storage and can supply power 24 hours a day .',\n",
       " \"Each print produced is not considered a `` copy '' but rather is considered an `` original '' .\",\n",
       " 'The major power of the House is to pass federal legislation that affects the entire country although its bills must also be passed by the Senate and further agreed to by the U.S. President before becoming law ( unless both the House and Senate re-pass the legislation with a two-thirds majority in each chamber ) .',\n",
       " 'Ticket prices for all seats in the Rose Bowl are listed at $ 145 .',\n",
       " 'The term can also be used to describe someone who migrates within a country , possibly their own , in order to pursue work such as seasonal work .',\n",
       " 'Franklin was foundational in defining the American ethos as a marriage of the practical values of thrift , hard work , education , community spirit , self-governing institutions , and opposition to authoritarianism both political and religious , with the scientific and tolerant values of the Enlightenment .',\n",
       " 'The first classes were held on September 16 , 1874 , with six instructors and 39 students .',\n",
       " \"The tar or tarpaper is in turn covered in gravel to keep the sun 's heat , UV rays and weather off it and helps protect it from cracking or blistering and degradation .\",\n",
       " 'Hostilities began on April 12 , 1861 , when Confederate forces fired upon Fort Sumter , a key fort held by Union troops in South Carolina .',\n",
       " 'Now , it is possible for an individual to use a variety of services to host an Internet-based talk-radio show without carriage by a traditional radio station .',\n",
       " 'On March 19 , 2012 , MTV confirmed that the series would return for their sixth season .',\n",
       " 'Most recent theories consider that this process is carried out entirely by and inside the brain .',\n",
       " \"Producer George Martin 's innovative approach included the use of an orchestra .\",\n",
       " \"The game 's name remains a registered trademark of Parker Brothers , as do its specific design elements .\",\n",
       " 'Defibrillation is a common treatment for life-threatening cardiac dysrhythmias , ventricular fibrillation , and pulseless ventricular tachycardia .',\n",
       " 'A stage actress both before and after her television success , she won the Tony Award for Best Featured Actress in a Musical for her performance as Vera Charles in the original cast of Mame ( 1966 ) .',\n",
       " 'Evan Williams bourbon whiskey',\n",
       " 'The Family That Preys is a 2008 American movie drama written , produced , and directed by Tyler Perry .',\n",
       " 'The colors represent different categories of elements explained below .',\n",
       " 'As of April 17 , 2007 , the college was accredited by the Transnational Association of Christian Colleges and Schools , a national faith-related accrediting organization recognized by the Department of Education and the Council for Higher Education Accreditation .',\n",
       " 'Modern cake , especially layer cakes , normally contain a combination of flour , sugar , eggs , and butter or oil , with some varieties also requiring liquid ( typically milk or water ) and leavening agents ( such as yeast or baking powder ) .',\n",
       " 'About thirty locations are company-owned , the rest franchised .',\n",
       " 'A comparison of the chromaticities enclosed by some color spaces .',\n",
       " \"After being sent to the Moon by the Saturn V 's upper stage , the astronauts separated the spacecraft from it and travelled for three days until they entered into lunar orbit .\",\n",
       " \"Another theory says that the name `` Dada '' came during a meeting of the group when a paper knife stuck into a French-German dictionary happened to point to 'dada ' , a French word for 'hobbyhorse ' .\",\n",
       " 'The sequence of DNA encoding for a protein may be copied many times into messenger RNA ( mRNA ) chains of a similar sequence .',\n",
       " \"in series '' refers to the episode 's number in the overall series , whereas `` No .\",\n",
       " 'Long-term complications of V. major infection include characteristic scars , commonly on the face , which occur in 65–85 % of survivors .',\n",
       " 'In computing , a data warehouse or enterprise data warehouse ( DW , DWH , or EDW ) is a database used for reporting and data analysis .',\n",
       " 'The Braves won the NL West 1991–93 and the NL East 1995–2005 , and returned to the playoffs as the National League Wild Card in 2010 .',\n",
       " 'The novel touches on themes such as the role of women in Victorian culture , sexual conventions , immigration , colonialism , and post-colonialism .',\n",
       " 'Israel is the only country where Jews are a majority of the population .',\n",
       " 'In computer storage , a logical unit number , or LUN , is a number used to identify a logical unit , which is a device addressed by the SCSI protocol or protocols which encapsulate SCSI , such as Fibre Channel or iSCSI .',\n",
       " 'The modern State of Israel was established as a Jewish nation-state , and defines itself as such in its Basic Laws .',\n",
       " 'His novels and short stories continue to be widely popular .',\n",
       " 'The first single , `` Goodbye `` , reached the top 20 in the US and Canada .',\n",
       " 'The total net worth of US households and nonprofit organizations 1945–2009 , unadjusted for inflation or population change .',\n",
       " 'Bugs is an anthropomorphic gray hare or rabbit who is famous for his flippant , personality , a pronounced New York accent , his portrayal as a trickster , and his catch phrase `` Eh ...',\n",
       " 'It is also a member of the : Latin Union , Francophonie , OSCE , WTO , BSEC , United Nations , etc .',\n",
       " 'Contract law varies greatly from one jurisdiction to another , including differences in common law compared to civil law , the impact of received law , particularly from England in common law countries , and of law codified in regional legislation .',\n",
       " 'Mahindra has a huge consumer base in India , China and America and a growing base in Australia .',\n",
       " \"It was devised between 1830 and 1850 by the Belgian polymath Adolphe Quetelet during the course of developing `` social physics '' .\",\n",
       " 'The State Fairgrounds consists of a large open field for carnivals and exhibitions , a horse track , grandstands , and several exhibition buildings .',\n",
       " 'The volt ( symbol : V ) is the SI derived unit for electric potential ( voltage ) , electric potential difference , and electromotive force .',\n",
       " 'The flag is flown by the government , but usually can also be flown by citizens of the country .',\n",
       " 'Cheese is a generic term for a diverse group of milk-based food products .',\n",
       " 'A telephone prefix is the first set of digits of a telephone number ; in the North American Numbering Plan countries ( country code 1 ) , it is the first three digits of a seven-digit phone number .',\n",
       " \"The lake 's water commonly has a striking blue hue , and the lake is re-filled entirely from direct precipitation in the form of snow and rain .\",\n",
       " \"Although the legal corporate name change occurred immediately , for both regulatory and brand-awareness reasons both brands were used in the company 's signage and advertising during a transition period .\",\n",
       " \"The current version of the operating system ( iOS 6.1.3 ) dedicates 1-1.5 GB of the device 's flash memory for the system partition , using roughly 800 MB of that partition ( varying by model ) for iOS itself .\",\n",
       " \"This list presents only that portion ( or `` balance '' ) of such consolidated city-counties that are not a part of another incorporated place .\",\n",
       " \"The term `` field hockey '' is used primarily in Canada , the United States , and other regions of the world where the sport of ice hockey is more popular .\",\n",
       " 'Often referred to by his initials SRV , Vaughan is best known as a founding member and leader of Double Trouble .',\n",
       " 'After five seasons , Conrad left the series and was replaced by another former Laguna Beach star , Kristin Cavallari , beginning in the second half of the fifth season .',\n",
       " 'IRS tax forms are used for taxpayers and tax-exempt organizations to report financial information to the Internal Revenue Service ( IRS ) of the United States .',\n",
       " 'Nutrients that are commonly used by animal and plant cells in respiration include sugar , amino acids and fatty acids , and a common oxidizing agent ( electron acceptor ) is molecular oxygen ( O2 ) .',\n",
       " 'An ostensibly democratic idea , popular sovereignty stated that the inhabitants of each territory or state should decide whether it would be a free or slave state ; however , this resulted in immigration en masse to Kansas by activists from both sides .',\n",
       " 'The name of the sport derives from the competition venue : a stadium with an oval running track around a grass field .',\n",
       " \"Brasilia is in the Unesco 's World Hertitage List due to its architecture .\",\n",
       " 'Because the championship team is not determined by a NCAA championship or tournament event , it is sometimes unofficially referred to as a `` mythical national championship `` .',\n",
       " \"Wayne Fontes ( born February 2 , 1940 ) is a former American football coach and college and professional football player who was the head coach of the NFL 's Detroit Lions from 1988 to 1996 .\",\n",
       " 'The story is set against a backdrop of tumultuous events , from the fall of the monarchy in Afghanistan through the Soviet military intervention , the mass exodus of Afghan refugees to Pakistan and the United States , and the Taliban regime .',\n",
       " 'Dredging can produce materials for land reclamation or other purposes ( usually construction-related ) , and has also historically played a significant role in gold mining .',\n",
       " 'It became the tallest building in New York City on April 30 , 2012 , and is expected to be finished by 2013 .',\n",
       " 'The Elementary and Secondary Education Act of 1965 made standardized testing a requirement , and in 1983 , a commission was established to evaluate their results and propose a course of action .',\n",
       " 'For United States individual income tax , adjusted gross income ( AGI ) is total gross income minus specific reductions .',\n",
       " 'Nevertheless successful colonies were established .',\n",
       " \"Famous for introducing the character of the vampire Count Dracula , the novel tells the story of Dracula 's attempt to relocate from Transylvania to England , and the battle between Dracula and a small group of men and women led by Professor Abraham Van Helsing .\",\n",
       " 'Since the founding of the United States , the power of the president and the federal government have grown substantially and each modern president , despite possessing no formal legislative powers beyond signing or vetoing congressionally passed bills , is largely responsible for dictating the legislative agenda of his party and the foreign and domestic policy of the United States .',\n",
       " 'He is best known for his role in the advancement of civil rights using nonviolent civil disobedience .',\n",
       " 'A multi card reader is used for communication with more than one type of flash memory card .',\n",
       " \"Subtracting the debts from the worth of this household 's assets ( 900,000 - $ 300,000 = $ 600,000 ) , this household would have a net worth of $ 600,000 .\",\n",
       " 'The gunfight , believed to have lasted only about thirty seconds , was fought between the outlaw Cowboys Billy Claiborne , Ike and Billy Clanton , and Tom and Frank McLaury , and the opposing town Marshal Virgil Earp and his brothers Assistant Town Marshal Morgan and temporary lawman Wyatt , aided by Doc Holliday designated as a temporary marshal by Virgil .',\n",
       " 'Many of those state acts may be similar but not identical to the federal act .',\n",
       " \"All of Apollo 's championship fights were scheduled for the 15 round distance .\",\n",
       " 'A millwright is a craftsman or tradesman engaged with the construction and maintenance of machinery .',\n",
       " \"The magazine 's editors feared the story was indecent as submitted , so they censored roughly 500 words , without Wilde 's knowledge , before publication .\",\n",
       " 'After of the incorporation of these states to the U.S. in first half of 19th century , the Spanish language was later reinforced by the acquisition of Puerto Rico in 1898 and by later waves of the Hispanic emigration , basically from Hispanic America , to the United States beginning in the second half of 19th century until today .',\n",
       " 'In the 20th century , Tennessee transitioned from an agrarian economy to a more diversified economy , aided at times by federal entities such as the Tennessee Valley Authority .',\n",
       " 'A typical cache is a small waterproof container containing a logbook where the geocacher enters the date they found it and signs it with their established code name .',\n",
       " 'Then they use a mobile offshore drilling unit ( MODU ) to dig the initial well .',\n",
       " \"At first , the sound films incorporating synchronized dialogue—known as `` talking pictures '' , or `` talkies '' —were exclusively shorts ; the earliest feature-length movies with recorded sound included only music and effects .\",\n",
       " \"With roots in the personal computing revolution of the late 1970s and early '80s , the discipline evolved in a haphazard manner during the 1990s , and it was not until the early 21st century that national policies emerged .\",\n",
       " 'The first episode of the series aired on February 8 , 2011 .',\n",
       " 'Digestion is the mechanical and chemical breakdown of food into smaller components that are more easily absorbed into a blood stream , for instance .',\n",
       " 'She is holding a cornucopia with prosperity written below her .',\n",
       " \"The series is based on Tite Kubo 's manga with same name .\",\n",
       " \"The `` standard '' work week consists of five eight-hour days , commonly served between 9:00AM to 5:00PM totaling 40 hours .\",\n",
       " 'helping others who suffer from the same addictions or compulsions .',\n",
       " 'The Megaplier was made available to all Mega Millions jurisdictions in January 2011 ; it began as a Texas -only option .',\n",
       " \"Although in the United Kingdom there is no strict legal or formal definition of who is or is not a member of the Royal Family , and different lists will include different people , those carrying the style Her or His Majesty ( HM ) , or Her or His Royal Highness ( HRH ) are always considered members , which usually results in the application of the term to the monarch , the consort of the monarch , the widowed consorts of previous monarchs , the children of the monarch and previous monarchs , the male-line grandchildren of the monarch and previous monarchs , and the spouses and the widows of a monarch 's and previous monarch 's sons and male-line grandsons .\",\n",
       " \"The My Lai Massacre ( , ; , , or ) was the Vietnam War mass murder of between 347 and 504 unarmed civilians in South Vietnam on March 16 , 1968 , by United States Army soldiers of `` Charlie '' Company of 1st Battalion , 20th Infantry Regiment , 11th Brigade of the Americal Division .\",\n",
       " \"The game was well received by critics , who praised its gameplay and detailed visuals , and it won several `` Game of the Year '' awards in 2006 .\",\n",
       " 'The patriarch of the family , Danny ( Bob Saget ) , invites his brother-in-law Jesse ( John Stamos ) and his best friend Joey ( Dave Coulier ) , to help raise his children ( Candace Cameron , Jodie Sweetin , and Mary Kate/Ashley Olsen ) , after his wife was killed during an automobile accident involving a drunk driver .',\n",
       " 'The season premiered to 1.96 million viewers and a 0.9 rating in the adults 18–49 demographic .',\n",
       " 'Another study suggested that women with PTSD , especially due to sexually related trauma , are more likely to develop anorexia nervosa .',\n",
       " \"The university was also ranked 35th worldwide by the Times Higher Education World University Rankings and 34th worldwide ( 6th worldwide for engineering ) by the Academic Ranking of World Universities in 2012. < ref name= '' Shanghairanking.com/FieldENG2012 '' >\",\n",
       " 'The radial configuration was very commonly used in aircraft engines before turbine engines became predominant .',\n",
       " \"Historical estimates indicate that around 30 percent of the population under the city 's jurisdiction lived in innumerable urban centers , with population of at least 10,000 and several military settlements , a very high rate of urbanization by pre-industrial standards .\",\n",
       " 'The stamp’s shape is usually that of a small rectangle of varying proportions , though triangles or other shapes are occasionally used .',\n",
       " 'Example areas of engineering are product development , manufacturing , construction , design engineering , industrial engineering , technology , production , or any other field that employs personnel who perform an engineering function .',\n",
       " 'He oversaw the creation of a strong , well-financed national government that maintained neutrality in the wars raging in Europe , suppressed rebellion , and won acceptance among Americans of all types .',\n",
       " 'Although flash-memory capacity is usually measured in megabits ( Mb ) , memory-card capacity is usually measured in megabytes ( MB ) ( where 8 Mb is 1 MB ) .',\n",
       " 'Kaiser-Panorama consisted of a multi-station viewing apparatus and sets of stereo slides .',\n",
       " \"Although Canadians have historically constituted the majority of the players in the NHL , over the past four plus decades the percentages of US and European players have increased both because of the NHL 's continued expansion from six to thirty clubs since 1967 , and the increased availability of highly skilled European players .\",\n",
       " 'He later worked mostly as a merchant , as well as a shepherd , and was first married by age 25 .',\n",
       " \"New York City Cruise Liner Terminal in Hell 's Kitchen at 52nd Street .\",\n",
       " 'Epidemics after European contact caused the greatest loss of life for indigenous populations .',\n",
       " 'Further substrates include both judicial interpretations and regulations which are generally authorized by legislation .',\n",
       " 'He is a six-time world champion in three weight divisions , and for several years he was considered one of the best pound-for-pound boxer in the world .',\n",
       " 'They may have been killed , wounded , become a prisoner of war , or deserted .',\n",
       " 'Constants arise in many different areas of mathematics , with constants such as e ( mathematical constant ) | and pi| occurring in such diverse contexts as geometry , number theory and calculus .',\n",
       " \"However , the U.S. Department of Justice , the Federal Communications Commission , and AT & T Mobility 's competitors ( such as Sprint Nextel ) opposed the move on the grounds that it would reduce competition in the cellular communications market .\",\n",
       " 'Zac Brown Band is an American country/folk band based in Atlanta , Georgia .',\n",
       " 'Desert plants must have special adaptations to survive with this little water .',\n",
       " 'He won his MMA debut on October 6 , 2012 , defeating Vince Lucero via TKO in the first round .',\n",
       " 'In more formal situations the surname is used instead , unless it is necessary to distinguish between people with the same surname .',\n",
       " 'He attended and graduated from West Point and later married and had two sons .',\n",
       " 'He and Portman first discussed the project in 2000 , and after a brief attachment to Universal Studios , Black Swan was produced in New York City in 2009 by Fox Searchlight Pictures .',\n",
       " 'The earthquake caused major damage in Port-au-Prince , Jacmel and other settlements in the region .',\n",
       " 'Wine production survived the devastating Phylloxera louse of 1887 and eventually spread to numerous regions throughout the world .',\n",
       " 'decades the terminal was the only ocean-going passenger terminal in New York harbor .',\n",
       " 'It is a hexaploid wheat , which means it has six sets of chromosomes .',\n",
       " \"Luthor is described as `` a power-mad , evil scientist '' of high intelligence and incredible technological prowess .\",\n",
       " 'Since 2003 , the Reds have played at Great American Ball Park , built next to their home from 1970 to 2002 , Riverfront Stadium .',\n",
       " 'The first BlackBerry device , an email pager , was released in 1999 ; the most recent BlackBerry devices , the Z10 and Q10 , were announced on January 30 , 2013 .',\n",
       " 'Architectural structures built with copper corrode to give green verdigris ( or patina ) .',\n",
       " 'Today , the company makes a wide range of rubber based products , including automobile tires , golf balls and tennis balls .',\n",
       " \"The body can also synthesize vitamin D ( from cholesterol ) when sun exposure is adequate ( hence its nickname , the `` sunshine vitamin '' ) .\",\n",
       " 'It operates in Mexico as Walmex , in the United Kingdom as Asda , in Japan as Seiyu , and in India as Best Price .',\n",
       " 'In the United States , the title of federal judge usually means a judge appointed by the President of the United States and confirmed by the United States Senate pursuant to the Appointments Clause in Article II of the United States Constitution .',\n",
       " 'The name of the movement is derived from the Boston Tea Party of 1773 , an iconic event in American history .',\n",
       " \"Despite the band 's chart success , Marr left the group in August 1987 due to a strained relationship with Morrissey .\",\n",
       " 'During World War II , American PT boats engaged enemy destroyers and numerous other surface craft , ranging from small boats to large supply ships .',\n",
       " 'The U.S. professional association of public policy practitioners , researchers , scholars , and students is the Association for Public Policy Analysis and Management .',\n",
       " 'With sales flattening to 100,000 cases by 1929 , Anheuser-Busch stopped production .',\n",
       " 'The most popular use is to send photographs from camera-equipped handsets , although it is also popular as a method of delivering news and entertainment content including videos , pictures , text pages and ringtones .',\n",
       " 'An automobile , autocar , motor car or car is a wheeled motor vehicle used for transporting passengers , which also carries its own engine or motor .',\n",
       " 'The school is also recognized as a sea-grant , space-grant and sun-grant institution , making it one of only two US institutions to retain all four designations and the only public university to do so ( Cornell is the only other with similar designations ) .',\n",
       " 'The is a home video game console produced by Sony Computer Entertainment .',\n",
       " 'This theory focuses on recurrent shocks that suddenly reduce aggregate demand for goods and services and thus reduce demand for workers .',\n",
       " '95 % of absorption of nutrients occurs in the small intestine .',\n",
       " 'If the viewer stares at this image for 20–60 seconds and stares at a white object , a negative afterimage will appear ( in this case , it will be cyan on magenta ) .',\n",
       " \"The Institute will use the most effective means to originate , advocate , promote , and disseminate applicable policy proposals that create free , open , and civil societies in the United States and throughout the world . ''\",\n",
       " 'Lockton International : Lockton International operates offices in the UK and Ireland , as well as offices throughout Asia and Latin America .',\n",
       " \"The film introduces the character of Harvey Dent ( Aaron Eckhart ) , Gotham 's newly elected District Attorney and the consort of Bruce Wayne 's childhood friend Rachel Dawes ( Maggie Gyllenhaal ) , who joins Batman and the police in combating the new rising threat of a criminal mastermind calling himself `` The Joker `` ( Heath Ledger ) .\",\n",
       " \"New York 's population density has environmental pros and cons .\",\n",
       " \"A new group of antagonists , known as Those From the Past , also appears in the series ; they want to obtain Orochi 's power for the purpose of giving it to their unknown master .\",\n",
       " 'For a non-negative integer , the th square number is , with being the zeroth square .',\n",
       " 'The tower received its 250 millionth visitor in 2010 .',\n",
       " 'In 1924 , Native Americans who were not already U.S. citizens were granted citizenship by Congress .',\n",
       " 'The Care Bears appeared in their own TV specials called The Care Bears in the Land Without Feelings ( 1983 ) and The Care Bears Battle the Freeze Machine ( 1984 ) .',\n",
       " \"In 2011 , she starred in an unscripted TV show , Roseanne 's Nuts , that lasted from July to September of that year , about her life on a Hawaiian farm .\",\n",
       " 'Eris has been accepted as a dwarf planet because it is more massive than Pluto .',\n",
       " \"If the voltage changes by a large enough amount , an all-or-none electrochemical pulse called an action potential is generated , which travels rapidly along the cell 's axon , and activates synaptic connections with other cells when it arrives .\",\n",
       " 'According to the 2010 census , the population was 18,205 residents .',\n",
       " 'Many types of competitive skiing events are recognized by the International Olympic Committee , and the International Ski Federation .',\n",
       " 'It is also the first version of Windows to use product activation to combat illegal copying .',\n",
       " 'This is the most common Hebrew construction for the singular but is used mostly in Ezekiel ( 93 times ) and 14 times elsewhere .',\n",
       " 'In 1946 , at age 20 , he went to prison for breaking and entering .',\n",
       " 'One design variant of a cock ring .',\n",
       " 'Greek mythology has had an extensive influence on the culture , arts , and literature of Western civilization and remains part of Western heritage and language .',\n",
       " \"As of January 2013 , $ 5.6 trillion or approximately 47 % of the debt held by the public was owned by foreign investors , the largest of which were the People 's Republic of China and Japan at just over $ 1.1 trillion each .\",\n",
       " 'South Africa has eleven official languages : Afrikaans , English , Ndebele , Northern Sotho , Sotho , Swazi , Tswana , Tsonga , Venda , Xhosa and Zulu .',\n",
       " \"The HST is one of NASA 's Great Observatories , along with the Compton Gamma Ray Observatory , the Chandra X-ray Observatory , and the Spitzer Space Telescope .\",\n",
       " 'Intel PRO/1000 GT PCI network interface card',\n",
       " 'Part of the constitutional provision as it appeared in 1787',\n",
       " 'Wheat was a key factor enabling the emergence of city-based societies at the start of civilization because it was one of the first crops that could be easily cultivated on a large scale , and had the additional advantage of yielding a harvest that provides long-term storage of food .',\n",
       " 'The initial design of the Shield nickel was struck until 1883 , then replaced by the Liberty Head nickel .',\n",
       " \"She made her film début in the film Death Machine ( 1994 ) , but her breakthrough role came in the film Chain Reaction ( 1996 ) , leading to a high-profile role as Evelyn Carnahan-O'Connell in the films The Mummy ( 1999 ) and The Mummy Returns ( 2001 ) .\",\n",
       " \"Unlike many of those involved in the women 's rights movement , Stanton addressed various issues pertaining to women beyond voting rights .\",\n",
       " 'Through September 4 , 2008 , 62 players in Nippon Professional Baseball ( NPB ) , the top-level baseball organization in Japan , have hit for the cycle , the most recent being Michihiro Ogasawara .',\n",
       " \"This really means that you do n't have to pay both Sales Tax as well as Use Tax on one transaction .\",\n",
       " 'Such radio frequency nerve lesioning results in five to eight or more months of pain relief before the nerve regenerates and another round of the procedure needs to be performed .',\n",
       " 'These suspended particles are also known as aerosols .',\n",
       " 'There has been considerable debate about how useful bioethanol will be in replacing gasoline .',\n",
       " 'Estimate of the worldwide Buddhist population range from 350 million to over one billion , but cluster nearer to the first figure .',\n",
       " 'There are large time gaps in the internal chronology between the first five episodes , ranging from one to thirty years .',\n",
       " 'Times Square Studios ( TSS ) is an American television studio located in the Times Square neighborhood of the Manhattan borough of New York City , New York .',\n",
       " 'Social conceptions and groupings of races vary over time , involving folk taxonomies',\n",
       " 'He has acted in films such as Belly , Romeo Must Die , Exit Wounds , Cradle 2 The Grave , and Last Hour .',\n",
       " 'Research is being done on a new class of thin-film inorganic oxide materials , called amorphous heavy-metal cation multicomponent oxides , which could be used to make transparent transistors that are inexpensive , stable , and environmentally benign .',\n",
       " 'There are many types of collection agencies .',\n",
       " 'In many cases casting directors , or other businesses , go to talent agencies to find artists they are looking for .',\n",
       " 'Mimio is a brand name of a line of technology products aimed at the education market .',\n",
       " 'Released in the United States on December 14 , 2004 ( December 12 in the United Kingdom ) , Loyal to the Game was produced by Eminem .',\n",
       " 'The by-products of this are bran and germ .',\n",
       " 'The modern flip-flop descends from the Japanese zōri , which became popular after World War II when soldiers returning to the United States brought them back .',\n",
       " \"The league 's 19-week regular season runs from late June to early November ; each team plays 18 games with one bye week .\",\n",
       " 'To stimulate a higher labor productivity most landlords freed a large number of slaves and many received wages .',\n",
       " 'Independence from the Ottoman Empire was declared on 9 May 1877 , and was internationally recognized the following year .',\n",
       " 'The atomic unit is called a Gram Panchayat , which is the Panchayat organization for a collection of villages .',\n",
       " 'A glass of root beer with foam',\n",
       " \"The team 's home ballpark is Nationals Park , located on South Capitol Street in Southeast D.C. , near the Anacostia River .\",\n",
       " 'Professional lobbyists are people whose business is trying to influence legislation on behalf of a group or individual who hires them .',\n",
       " 'Beyond its use to prevent osteomalacia or rickets , the evidence for other health effects of vitamin D supplementation in the general population is inconsistent .',\n",
       " 'Antibody genes also re-organize in a process called class switching that changes the base of the heavy chain to another , creating a different isotype of the antibody that retains the antigen specific variable region .',\n",
       " 'Around 1999 the San Antonio location closed and the Corpus Christi location was closed in 2009 .',\n",
       " 'They take nutrients from the soil or the water , and manufacture their own food by photosynthesis , using energy from the sun .',\n",
       " 'His film credits include The Traveling Executioner , Rabbit , Run , Loving Couples , Midway , Harper , Airport 1975 , Damnation Alley and the Emmy Award -winning Eddie , as well as many episodes of television series such as The Twilight Zone and The Alfred Hitchcock Hour .',\n",
       " 'Chaplin wrote , directed , produced , edited , scored , and starred in most of his films .',\n",
       " 'Major uses of drug testing are to detect the presence of performance enhancing steroids in sport or for drugs prohibited by laws , such as cannabis , cocaine and heroin .',\n",
       " 'The series was adapted into live-action films released in Japan on June 17 , 2006 , November 3 , 2006 , and February 2 , 2008 .',\n",
       " 'Sociology should not be confused with various general social studies courses which bear little relation to sociological theory or social science research methodology .',\n",
       " 'Alka-Seltzer is currently owned by Bayer Schering Pharma AG , Germany .',\n",
       " \"In some countries , the roulade is also known as `` beef olive '' .\",\n",
       " 'Sabotage is a deliberate action aimed at weakening another entity through subversion , obstruction , disruption , or destruction .',\n",
       " \"The interactive puzzle game was released in 2012 , but did not feature any of the voices of the show 's cast , nor was the cast involved with the project .\",\n",
       " 'Indonesia was the hardest-hit country , followed by Sri Lanka , India , and Thailand .',\n",
       " 'A prank stink bomb .',\n",
       " 'Silk is a natural protein fibre , some forms of which can be woven into textiles .',\n",
       " 'The model was developed by Ford W. Harris in 1913 , but R. H. Wilson , a consultant who applied it extensively , is given credit for his in-depth analysis .',\n",
       " 'He previously represented the 3rd district from 1988 to 1993 .',\n",
       " 'The sealed dialysis bag is placed in a container of a different solution , or water .',\n",
       " 'The list given here for these churches is the most inclusive : if at least one Eastern church accepts the book it is included here .',\n",
       " \"A great deal of cellular infrastructure is involved in keeping genomic information consistent between `` generations '' .\",\n",
       " \"This is demonstrated by the `` zero-g '' conditions inside a freely falling elevator falling toward the Earth 's center ( in vacuum ) , or ( to good approximation ) conditions inside a spacecraft in Earth orbit .\",\n",
       " 'Lent ( Latin : Quadragesima ) is a solemn observance in the liturgical year of many Christian denominations , lasting for a period of approximately six weeks leading up to Easter Sunday .',\n",
       " \"Hogwarts school was voted as the 36th best Scottish educational establishment in a 2008 online ranking , outranking Edinburgh 's Loretto School .\",\n",
       " 'The primary products are focused around computer whiteboard interactive teaching devices .',\n",
       " 'The Club Level provides fans with special access to an indoor part of the arena exclusive to fans with special tickets .',\n",
       " 'It is still used , to some extent , in Canada .',\n",
       " 'Public inquiries in Britain and the United States led to major improvements in maritime safety .',\n",
       " 'Nepali is the most commonly spoken language in the city .',\n",
       " 'At USC , Sanchez was relegated as the backup quarterback during his first three years though he rose to prominence due to his brief appearances on the field in 2007 due to injuries suffered by starting quarterback John David Booty .',\n",
       " 'Measures of serum levels reflect endogenous synthesis from exposure to sunlight as well as intake from the diet , and it is believed that synthesis may contribute generally to the maintenance of adequate serum concentrations .',\n",
       " 'He is often regarded as the greatest , most celebrated , and most powerful pharaoh of the Egyptian Empire .',\n",
       " 'While the Xbox 360 offers wired controllers as a standalone product , all PlayStation 3 controllers can be used in wired and wireless configurations .',\n",
       " 'A very early depiction of people using a stereoscope .',\n",
       " \"Nighy said , `` I am no longer the only English actor not to be in Harry Potter and I am very pleased . ''\",\n",
       " 'In addition , Seoul Metropolitan Subway lines 1 , 2 , and 7 , and major highways intersect in Guro District .',\n",
       " 'Peyton Williams Manning ( born March 24 , 1976 ) is an American football quarterback for the Denver Broncos of the National Football League ( NFL ) .',\n",
       " 'When lightning ignites an available fuel source and an explosion occurs , it is the shock wave or fire causing the injuries , not the strike itself .',\n",
       " 'There were many local forms of worship , most of them concerning local sacred `` Huacas `` , but the Inca leadership encouraged the worship of Inti —the sun god—and imposed its sovereignty above other cults such as that of Pachamama .',\n",
       " 'A permanent resident must live in Canada for two years out of every five or risk losing that status .',\n",
       " 'The Betsy Ross flag is an early design of the flag of the United States , popularly attributed to Betsy Ross , using the common motifs of alternating red-and-white striped field with five-pointed stars in a blue canton .',\n",
       " 'In roughly 5 billion years , the Sun will cool and expand outward many times its current diameter ( becoming a red giant ) , before casting off its outer layers as a planetary nebula and leaving behind a stellar remnant known as a white dwarf .',\n",
       " 'The original far right , which emerged in France after the French Revolution , refused to accept the French Republic and supported a counter-revolution to restore the French monarchy and aristocracy .',\n",
       " 'James Samuel Coleman ( May 12 , 1926 – March 25 , 1995 ) was an American sociologist , theorist and empirical researcher , based chiefly at the University of Chicago .',\n",
       " 'The vast majority of the population lived in the city center , packed into insulae ( apartment blocks ) .',\n",
       " \"It had a combination hose/faucet outlet and was of `` wet barrel '' design with the valve in the top .\",\n",
       " 'Agents can not produce their own shows due to conflict of interest .',\n",
       " 'During the McCarthy era , thousands of Americans were accused of being Communists or communist sympathizers and became the subject of aggressive investigations and questioning before government or private-industry panels , committees and agencies .',\n",
       " 'PHP code is interpreted by a web server with a PHP processor module which generates the resulting web page : PHP commands can be embedded directly into an HTML source document rather than calling an external file to process data .',\n",
       " 'In 2010 , Kardashian was the highest-earning reality star , with estimated earnings of $ 6 million .',\n",
       " \"The Olympic mascots of Torino 2006 were Neve ( `` snow '' in Italian ) , a female snowball , and Gliz , a male ice cube .\",\n",
       " 'In photography , bracketing is the general technique of taking several shots of the same subject using different camera settings .',\n",
       " ', the US Centers for Disease Control and Prevention ( CDC ) now recommends vaccination against at least fourteen diseases .',\n",
       " 'Dunham was an innovator in African-American modern dance as well as a leader in the field of dance anthropology , or ethnochoreology .',\n",
       " 'To calculate cubic feet multiply length X width X height .',\n",
       " 'Due to its moderately high price , smoked salmon is considered a delicacy .',\n",
       " 'Camden ranked as the 12th-most populous municipality in the state in 2010 after having been ranked 10th in 2000 .',\n",
       " 'And after growth , cell division allows for continual construction and repair of the organism .',\n",
       " \"Acceptable pleas vary among jurisdictions , but they generally include `` guilty '' , `` not guilty '' , and the peremptory pleas ( or pleas in bar ) setting out reasons why a trial can not proceed .\",\n",
       " 'However until the 1930s , treatment was inconsistent , with many ineffective treatments used into the 20th century .',\n",
       " \"Since 2003 , the city 's borders have been with those of the county because of a city-county merger .\",\n",
       " 'Depending on class model used , the middle class may constitute anywhere from 25 % to 66 % of households .',\n",
       " 'This word is used in contradistinction to the common law .',\n",
       " 'It is the eighth -largest country in the world by land area and the largest among Spanish-speaking nations by geographical area of 2,780,400 km2 and is the fourth by population , with over 41 million people .',\n",
       " 'Viva La Bam was an MTV & Viva show which followed Bam Margera and his crew as they undertook challenges , performed stunts and traveled the world .',\n",
       " \"Listener contributions are usually screened by a show 's producer ( s ) in order to maximize audience interest and , in the case of commercial talk radio , attract advertisers .\",\n",
       " \"Data is distributed across the drives in one of several ways called `` RAID levels '' , depending on the level of redundancy and performance required .\",\n",
       " 'Christian conservatives principally seek to apply their understanding of the teachings of Christianity to politics and public policy by proclaiming the value of those teachings and/or by seeking to use those teachings to influence law and public policy .',\n",
       " 'It facilitates the highest mass transit use in the United States , but also concentrates pollution .',\n",
       " 'The lake is deep at its deepest point , which makes it the deepest lake in the United States , the second deepest in North America and the ninth deepest in the world .',\n",
       " \"The unadorned word `` slug '' is however applied primarily to land slugs , whereas slugs from the sea or from freshwater are usually referred to as `` sea slugs `` and `` freshwater slugs '' .\",\n",
       " 'Rhode Island is the smallest in area , the eighth least populous , but the second most densely populated of the 50 US states behind New Jersey .',\n",
       " \"Shem ( ; Sēm ; Arabic : Sām ; Ge'ez : ሴም , Sēm ; `` renown ; prosperity ; name '' ) was one of the sons of Noah in the Hebrew Bible as well as in Islamic literature .\",\n",
       " 'A Sunbeam was the first British car to win a Grand Prix race , and set a number of land speed records .',\n",
       " 'The series also originated much tie-in merchandise , making the Harry Potter brand worth in excess of $ 15 billion .',\n",
       " 'Previously , the group also featured guitarists Solon Bixler ( now of Great Northern ) and Kevin Drake ( now of Polaroid Kiss ) .',\n",
       " \"The celebration takes place on November 1 and 2 , in connection with the Catholic holidays of All Saints ' Day and All Souls ' Day .\",\n",
       " \"The term `` purring '' has been used liberally in literature , and it has been claimed that viverrids ( civet , mongoose , genet ) , bears , badgers , hyaenas ( et cetera ) purr .\",\n",
       " 'The groove usually starts near the periphery and ends near the center of the disc .',\n",
       " 'Only the overreaching definitions of the two principal name spaces in the Internet , the Internet Protocol address space and the Domain Name System , are directed by a maintainer organization , the Internet Corporation for Assigned Names and Numbers ( ICANN ) .',\n",
       " 'R.O.B . was available in the Deluxe Set , a configuration for the console that included , among other things , R.O.B . and Gyromite .',\n",
       " 'John Lennon was an English musician who gained worldwide fame as one of the founders of The Beatles , for his subsequent solo career , and for his political activism and pacifism .',\n",
       " \"Nevertheless , Facebook 's market growth started to stall in some regions , with the site losing 7 million active users in the United States and Canada in May 2011 .\",\n",
       " 'Vacuum tubes are thus used for rectification , amplification , switching , or similar processing or creation of electrical signals .',\n",
       " 'With the observations of William Herschel , Friedrich Bessel , and others , astronomers realized that the sun was not the center of the universe and by the 1920s Edwin Hubble had shown that it was part of a galaxy ( the Milky Way ) that was only one of many billions .',\n",
       " 'Selena was murdered at the age of 23 on March 31 , 1995 by Yolanda Saldívar , the former president of her fan club .',\n",
       " 'The Atlantic Ocean occupies an elongated , S-shaped basin extending longitudinally between Eurasia and Africa to the east , and the Americas to the west .',\n",
       " 'Weight disks ( plates ) are attached directly to the sled , which is mounted on rails .',\n",
       " 'The far-right ( also known as the extreme right ) refers to the highest degree of rightism in right-wing politics .',\n",
       " \"He led the league in regular-season assists four times , and is the NBA 's all-time leader in average assists per game , at 11.2 .\",\n",
       " 'On August 27 , 1990 , Vaughan was killed in a helicopter crash following a performance in East Troy , Wisconsin .',\n",
       " 'Some jurisdictions have judicial guidelines requiring a mandatory minimum sentence .',\n",
       " \"Alexander Joseph `` Lex '' Luthor is a fictional character , a supervillain appearing in comic books published by DC Comics .\",\n",
       " 'There is some judgment involved in deciding whether a passer should be credited with an assist .',\n",
       " ...]"
      ]
     },
     "execution_count": 49,
     "metadata": {},
     "output_type": "execute_result"
    }
   ],
   "source": [
    "statements"
   ]
  },
  {
   "cell_type": "code",
   "execution_count": 50,
   "metadata": {},
   "outputs": [
    {
     "name": "stdout",
     "output_type": "stream",
     "text": [
      "Counter({'0': 19556, '2': 12281, '1': 2537})\n"
     ]
    }
   ],
   "source": [
    "statement_label = ['0' for i in statements]\n",
    "df_wikiqa_statement = pd.DataFrame(list(zip(statements, statement_label)), columns=['text', 'label'])\n",
    "df_gt = df_gt.append(df_wikiqa_statement, ignore_index=True)\n",
    "\n",
    "label_counter = Counter(df_gt['label'])\n",
    "print(label_counter)"
   ]
  },
  {
   "cell_type": "markdown",
   "metadata": {},
   "source": [
    "# Quora questions dataset"
   ]
  },
  {
   "cell_type": "markdown",
   "metadata": {},
   "source": [
    "### Read question datasets"
   ]
  },
  {
   "cell_type": "code",
   "execution_count": 51,
   "metadata": {},
   "outputs": [],
   "source": [
    "df_q1 = pd.read_csv('../data/input/quora_questions_train.csv')"
   ]
  },
  {
   "cell_type": "code",
   "execution_count": 52,
   "metadata": {},
   "outputs": [
    {
     "data": {
      "text/html": [
       "<div>\n",
       "<style scoped>\n",
       "    .dataframe tbody tr th:only-of-type {\n",
       "        vertical-align: middle;\n",
       "    }\n",
       "\n",
       "    .dataframe tbody tr th {\n",
       "        vertical-align: top;\n",
       "    }\n",
       "\n",
       "    .dataframe thead th {\n",
       "        text-align: right;\n",
       "    }\n",
       "</style>\n",
       "<table border=\"1\" class=\"dataframe\">\n",
       "  <thead>\n",
       "    <tr style=\"text-align: right;\">\n",
       "      <th></th>\n",
       "      <th>id</th>\n",
       "      <th>qid1</th>\n",
       "      <th>qid2</th>\n",
       "      <th>question1</th>\n",
       "      <th>question2</th>\n",
       "      <th>is_duplicate</th>\n",
       "    </tr>\n",
       "  </thead>\n",
       "  <tbody>\n",
       "    <tr>\n",
       "      <th>0</th>\n",
       "      <td>0</td>\n",
       "      <td>1</td>\n",
       "      <td>2</td>\n",
       "      <td>What is the step by step guide to invest in sh...</td>\n",
       "      <td>What is the step by step guide to invest in sh...</td>\n",
       "      <td>0</td>\n",
       "    </tr>\n",
       "    <tr>\n",
       "      <th>1</th>\n",
       "      <td>1</td>\n",
       "      <td>3</td>\n",
       "      <td>4</td>\n",
       "      <td>What is the story of Kohinoor (Koh-i-Noor) Dia...</td>\n",
       "      <td>What would happen if the Indian government sto...</td>\n",
       "      <td>0</td>\n",
       "    </tr>\n",
       "    <tr>\n",
       "      <th>2</th>\n",
       "      <td>2</td>\n",
       "      <td>5</td>\n",
       "      <td>6</td>\n",
       "      <td>How can I increase the speed of my internet co...</td>\n",
       "      <td>How can Internet speed be increased by hacking...</td>\n",
       "      <td>0</td>\n",
       "    </tr>\n",
       "    <tr>\n",
       "      <th>3</th>\n",
       "      <td>3</td>\n",
       "      <td>7</td>\n",
       "      <td>8</td>\n",
       "      <td>Why am I mentally very lonely? How can I solve...</td>\n",
       "      <td>Find the remainder when [math]23^{24}[/math] i...</td>\n",
       "      <td>0</td>\n",
       "    </tr>\n",
       "    <tr>\n",
       "      <th>4</th>\n",
       "      <td>4</td>\n",
       "      <td>9</td>\n",
       "      <td>10</td>\n",
       "      <td>Which one dissolve in water quikly sugar, salt...</td>\n",
       "      <td>Which fish would survive in salt water?</td>\n",
       "      <td>0</td>\n",
       "    </tr>\n",
       "  </tbody>\n",
       "</table>\n",
       "</div>"
      ],
      "text/plain": [
       "   id  qid1  qid2                                          question1  \\\n",
       "0   0     1     2  What is the step by step guide to invest in sh...   \n",
       "1   1     3     4  What is the story of Kohinoor (Koh-i-Noor) Dia...   \n",
       "2   2     5     6  How can I increase the speed of my internet co...   \n",
       "3   3     7     8  Why am I mentally very lonely? How can I solve...   \n",
       "4   4     9    10  Which one dissolve in water quikly sugar, salt...   \n",
       "\n",
       "                                           question2  is_duplicate  \n",
       "0  What is the step by step guide to invest in sh...             0  \n",
       "1  What would happen if the Indian government sto...             0  \n",
       "2  How can Internet speed be increased by hacking...             0  \n",
       "3  Find the remainder when [math]23^{24}[/math] i...             0  \n",
       "4            Which fish would survive in salt water?             0  "
      ]
     },
     "execution_count": 52,
     "metadata": {},
     "output_type": "execute_result"
    }
   ],
   "source": [
    "df_q1.head()"
   ]
  },
  {
   "cell_type": "code",
   "execution_count": 53,
   "metadata": {
    "scrolled": true
   },
   "outputs": [
    {
     "name": "stdout",
     "output_type": "stream",
     "text": [
      "<class 'pandas.core.frame.DataFrame'>\n",
      "RangeIndex: 404290 entries, 0 to 404289\n",
      "Data columns (total 6 columns):\n",
      "id              404290 non-null int64\n",
      "qid1            404290 non-null int64\n",
      "qid2            404290 non-null int64\n",
      "question1       404289 non-null object\n",
      "question2       404288 non-null object\n",
      "is_duplicate    404290 non-null int64\n",
      "dtypes: int64(4), object(2)\n",
      "memory usage: 18.5+ MB\n"
     ]
    }
   ],
   "source": [
    "df_q1.info()"
   ]
  },
  {
   "cell_type": "code",
   "execution_count": 54,
   "metadata": {},
   "outputs": [],
   "source": [
    "questions = df_q1['question1'][0:12000]\n",
    "que_label = ['1' for i in questions]\n",
    "df_quora_que = pd.DataFrame(list(zip(questions, que_label)), columns=['text', 'label'])"
   ]
  },
  {
   "cell_type": "code",
   "execution_count": 55,
   "metadata": {},
   "outputs": [],
   "source": [
    "# Run this cell only if you want more than ~800k questions\n",
    "\n",
    "# df_q2 = pd.read_csv('../data/input/quora_questions_test.csv')\n",
    "# df_q2.head()"
   ]
  },
  {
   "cell_type": "code",
   "execution_count": 56,
   "metadata": {
    "scrolled": true
   },
   "outputs": [],
   "source": [
    "# df_q2.info()"
   ]
  },
  {
   "cell_type": "markdown",
   "metadata": {},
   "source": [
    "## Combine original dataset with questions in df_gt"
   ]
  },
  {
   "cell_type": "code",
   "execution_count": 57,
   "metadata": {},
   "outputs": [],
   "source": [
    "df_gt = df_gt.append(df_quora_que, ignore_index=True)"
   ]
  },
  {
   "cell_type": "code",
   "execution_count": 60,
   "metadata": {},
   "outputs": [
    {
     "name": "stdout",
     "output_type": "stream",
     "text": [
      "Counter({'0': 19556, '1': 14537, '2': 12281})\n"
     ]
    }
   ],
   "source": [
    "label_counter = Counter(df_gt['label'])\n",
    "print(label_counter)"
   ]
  },
  {
   "cell_type": "code",
   "execution_count": 74,
   "metadata": {},
   "outputs": [
    {
     "name": "stdout",
     "output_type": "stream",
     "text": [
      "<class 'pandas.core.frame.DataFrame'>\n",
      "RangeIndex: 46374 entries, 0 to 46373\n",
      "Data columns (total 2 columns):\n",
      "text     46374 non-null object\n",
      "label    46374 non-null object\n",
      "dtypes: object(2)\n",
      "memory usage: 724.7+ KB\n"
     ]
    }
   ],
   "source": [
    "df_gt.info()"
   ]
  },
  {
   "cell_type": "markdown",
   "metadata": {},
   "source": [
    "# Superficial preprocessing"
   ]
  },
  {
   "cell_type": "code",
   "execution_count": 66,
   "metadata": {},
   "outputs": [],
   "source": [
    "import re\n",
    "\n",
    "def preprocess_text(text):\n",
    "    \n",
    "    # print(text, end ='')\n",
    "    \n",
    "    text = text.lower()\n",
    "    text = re.sub(r'\\W',' ', text)\n",
    "    text = re.sub(' \\d+', ' ', text)\n",
    "    text = re.sub(r'\\s+',' ', text)\n",
    "        \n",
    "    #words = text.split(' ')\n",
    "    #words = [w.strip() for w in words if w not in stopwords.words('english')]\n",
    "    #text = ' '.join(words)\n",
    "    text = text.strip()\n",
    "        \n",
    "    # print(text)\n",
    "    return text"
   ]
  },
  {
   "cell_type": "code",
   "execution_count": 68,
   "metadata": {},
   "outputs": [],
   "source": [
    "df_gt['text'] = df_gt['text'].apply(lambda x: preprocess_text(x))"
   ]
  },
  {
   "cell_type": "markdown",
   "metadata": {},
   "source": [
    "## Metadata preprocessing"
   ]
  },
  {
   "cell_type": "code",
   "execution_count": 75,
   "metadata": {},
   "outputs": [],
   "source": [
    "df_gt = df_gt.astype({\"text\": str, \"label\": int})"
   ]
  },
  {
   "cell_type": "code",
   "execution_count": 76,
   "metadata": {
    "scrolled": false
   },
   "outputs": [
    {
     "name": "stdout",
     "output_type": "stream",
     "text": [
      "<class 'pandas.core.frame.DataFrame'>\n",
      "RangeIndex: 46374 entries, 0 to 46373\n",
      "Data columns (total 2 columns):\n",
      "text     46374 non-null object\n",
      "label    46374 non-null int64\n",
      "dtypes: int64(1), object(1)\n",
      "memory usage: 724.7+ KB\n"
     ]
    }
   ],
   "source": [
    "df_gt.info()"
   ]
  },
  {
   "cell_type": "markdown",
   "metadata": {},
   "source": [
    "## Divide into train and test data"
   ]
  },
  {
   "cell_type": "code",
   "execution_count": 82,
   "metadata": {},
   "outputs": [],
   "source": [
    "X = df_gt['text']\n",
    "y = df_gt['label']\n",
    "\n",
    "X_train, X_test, y_train, y_test = train_test_split(X, y, test_size=0.20, random_state=42, stratify=y)\n",
    "\n",
    "df_train = pd.DataFrame(list(zip(X_train.values, y_train.values)), columns=['text', 'label'])\n",
    "df_test = pd.DataFrame(list(zip(X_test.values, y_test.values)), columns=['text', 'label'])"
   ]
  },
  {
   "cell_type": "code",
   "execution_count": 84,
   "metadata": {},
   "outputs": [
    {
     "name": "stdout",
     "output_type": "stream",
     "text": [
      "Counter({0: 15645, 1: 11629, 2: 9825})\n",
      "Counter({0: 3911, 1: 2908, 2: 2456})\n"
     ]
    }
   ],
   "source": [
    "label_counter = Counter(df_train['label'])\n",
    "print(label_counter)\n",
    "\n",
    "label_counter = Counter(df_test['label'])\n",
    "print(label_counter)"
   ]
  },
  {
   "cell_type": "markdown",
   "metadata": {},
   "source": [
    "# Write the groundtruth df_gt to .csv file"
   ]
  },
  {
   "cell_type": "code",
   "execution_count": 85,
   "metadata": {},
   "outputs": [],
   "source": [
    "# Labels\n",
    "# 0 --> Statements\n",
    "# 1 --> Questions\n",
    "# 2 --> Imperatives\n",
    "\n",
    "op_file = '../data/input/groundtruth/speechact_gt.csv'\n",
    "df_gt.to_csv(op_file, index=False, header=['text', 'label'])\n",
    "\n",
    "op_file = '../data/input/groundtruth/speechact_train.csv'\n",
    "df_train.to_csv(op_file, index=False, header=['text', 'label'])\n",
    "\n",
    "op_file = '../data/input/groundtruth/speechact_test.csv'\n",
    "df_test.to_csv(op_file, index=False, header=['text', 'label'])"
   ]
  },
  {
   "cell_type": "code",
   "execution_count": null,
   "metadata": {},
   "outputs": [],
   "source": []
  }
 ],
 "metadata": {
  "kernelspec": {
   "display_name": "sentgen",
   "language": "python",
   "name": "sentgen"
  },
  "language_info": {
   "codemirror_mode": {
    "name": "ipython",
    "version": 3
   },
   "file_extension": ".py",
   "mimetype": "text/x-python",
   "name": "python",
   "nbconvert_exporter": "python",
   "pygments_lexer": "ipython3",
   "version": "3.5.5"
  }
 },
 "nbformat": 4,
 "nbformat_minor": 2
}
