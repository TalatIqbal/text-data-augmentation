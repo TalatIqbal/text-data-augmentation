{
 "cells": [
  {
   "cell_type": "code",
   "execution_count": 35,
   "metadata": {},
   "outputs": [],
   "source": [
    "import pandas as pd\n",
    "import numpy as np\n",
    "import pickle as pkl\n",
    "from collections import Counter\n",
    "import os\n",
    "import re\n",
    "from os import listdir\n",
    "from os.path import isfile, join\n",
    "import sklearn\n",
    "import nltk\n",
    "from nltk.corpus import stopwords \n",
    "\n",
    "from keras.models import Sequential\n",
    "from keras import layers\n",
    "import tensorflow as tf"
   ]
  },
  {
   "cell_type": "code",
   "execution_count": 2,
   "metadata": {},
   "outputs": [],
   "source": [
    "INPUT_DIR = '../data/input/groundtruth/'\n",
    "OUTPUT_DIR = '../data/input/groundtruth/'\n",
    "\n",
    "CORPUS_DIR = os.path.join(OUTPUT_DIR, 'corpus')\n",
    "VECTORIZED_DIR = os.path.join(OUTPUT_DIR, 'vectorized_trainset')\n",
    "\n",
    "text_col_header = 'text'\n",
    "label_col_header = 'label'"
   ]
  },
  {
   "cell_type": "markdown",
   "metadata": {},
   "source": [
    "### Reading test and train data to keep them ready for testing"
   ]
  },
  {
   "cell_type": "code",
   "execution_count": 3,
   "metadata": {},
   "outputs": [],
   "source": [
    "from sklearn.feature_extraction.text import CountVectorizer\n",
    "\n",
    "# Read Train data\n",
    "ip_train_file = os.path.join(INPUT_DIR, 'speechact_train.csv')\n",
    "df_train = pd.read_csv(ip_train_file)\n",
    "df_train = df_train.astype({text_col_header: str, label_col_header: int})\n",
    "\n",
    "# Read Test data\n",
    "ip_test_file = os.path.join(INPUT_DIR, 'speechact_test.csv')\n",
    "df_test = pd.read_csv(ip_test_file)\n",
    "df_test = df_test.astype({text_col_header: str, label_col_header: int})"
   ]
  },
  {
   "cell_type": "markdown",
   "metadata": {},
   "source": [
    "# LSTM"
   ]
  },
  {
   "cell_type": "markdown",
   "metadata": {},
   "source": [
    "Requirements\n",
    "<li> Input - Vectorized Data train </li>\n",
    "<li> Input - Vectorized Label train </li>"
   ]
  },
  {
   "cell_type": "markdown",
   "metadata": {},
   "source": [
    "### Counter Vector with stopwords"
   ]
  },
  {
   "cell_type": "code",
   "execution_count": 4,
   "metadata": {},
   "outputs": [],
   "source": [
    "# Read the vectorized train data and train label\n",
    "vectorized_train_data_file = os.path.join(VECTORIZED_DIR, 'train_data_countvector_stopword.pkl')\n",
    "with open(vectorized_train_data_file, 'rb') as f_ip:\n",
    "    data_train = pkl.load(f_ip)\n",
    "    \n",
    "train_label_file = os.path.join(VECTORIZED_DIR, 'train_label_countvector_stopword.pkl')\n",
    "with open(train_label_file, 'rb') as f_ip:\n",
    "    label_train = pkl.load(f_ip)"
   ]
  },
  {
   "cell_type": "markdown",
   "metadata": {},
   "source": [
    "#### Train and Test the model"
   ]
  },
  {
   "cell_type": "code",
   "execution_count": 20,
   "metadata": {},
   "outputs": [],
   "source": [
    "# Read the vectorizer to transform the test data\n",
    "vector_file = os.path.join(CORPUS_DIR, 'vector_countvector_stopword.pkl')\n",
    "with open(vector_file, 'rb') as f_ip:\n",
    "    vectorizer = pkl.load(f_ip)\n",
    "\n",
    "data_test = vectorizer.transform(df_test[text_col_header])\n",
    "\n",
    "label_test = df_test[label_col_header]\n",
    "# label_test = label_test.reshape((len(label_test), 1))"
   ]
  },
  {
   "cell_type": "code",
   "execution_count": 21,
   "metadata": {},
   "outputs": [
    {
     "data": {
      "text/plain": [
       "(37099, 1)"
      ]
     },
     "execution_count": 21,
     "metadata": {},
     "output_type": "execute_result"
    }
   ],
   "source": [
    "label_train.shape"
   ]
  },
  {
   "cell_type": "code",
   "execution_count": 22,
   "metadata": {},
   "outputs": [
    {
     "data": {
      "text/plain": [
       "(37099, 34154)"
      ]
     },
     "execution_count": 22,
     "metadata": {},
     "output_type": "execute_result"
    }
   ],
   "source": [
    "data_train.toarray().shape"
   ]
  },
  {
   "cell_type": "code",
   "execution_count": 24,
   "metadata": {},
   "outputs": [
    {
     "name": "stdout",
     "output_type": "stream",
     "text": [
      "Model: \"sequential_3\"\n",
      "_________________________________________________________________\n",
      "Layer (type)                 Output Shape              Param #   \n",
      "=================================================================\n",
      "dense_6 (Dense)              (None, 10)                341550    \n",
      "_________________________________________________________________\n",
      "dense_7 (Dense)              (None, 1)                 11        \n",
      "=================================================================\n",
      "Total params: 341,561\n",
      "Trainable params: 341,561\n",
      "Non-trainable params: 0\n",
      "_________________________________________________________________\n"
     ]
    }
   ],
   "source": [
    "input_dim = data_train.shape[1]  # Number of features\n",
    "model = Sequential()\n",
    "model.add(layers.Dense(10, input_dim=input_dim, activation='relu'))\n",
    "model.add(layers.Dense(1, activation='sigmoid'))\n",
    "model.compile(loss='categorical_crossentropy', optimizer='adam', metrics=['accuracy'])\n",
    "model.summary()"
   ]
  },
  {
   "cell_type": "code",
   "execution_count": 26,
   "metadata": {},
   "outputs": [
    {
     "name": "stdout",
     "output_type": "stream",
     "text": [
      "Epoch 1/100\n",
      "3339/3339 [==============================] - 9s 3ms/step - loss: 1.0026e-07 - accuracy: 0.3628 - val_accuracy: 0.3558 - val_loss: 1.0273e-07\n",
      "Epoch 2/100\n",
      "3339/3339 [==============================] - 9s 3ms/step - loss: 1.0026e-07 - accuracy: 0.3628 - val_accuracy: 0.3558 - val_loss: 1.0273e-07\n",
      "Epoch 3/100\n",
      "3339/3339 [==============================] - 9s 3ms/step - loss: 1.0026e-07 - accuracy: 0.3628 - val_accuracy: 0.3558 - val_loss: 1.0273e-07\n",
      "Epoch 4/100\n",
      "3339/3339 [==============================] - 9s 3ms/step - loss: 1.0026e-07 - accuracy: 0.3628 - val_accuracy: 0.3558 - val_loss: 1.0273e-07\n",
      "Epoch 5/100\n",
      "3339/3339 [==============================] - 9s 3ms/step - loss: 1.0026e-07 - accuracy: 0.3628 - val_accuracy: 0.3558 - val_loss: 1.0273e-07\n",
      "Epoch 6/100\n",
      "3339/3339 [==============================] - 9s 3ms/step - loss: 1.0026e-07 - accuracy: 0.3628 - val_accuracy: 0.3558 - val_loss: 1.0273e-07\n",
      "Epoch 7/100\n",
      "3339/3339 [==============================] - 9s 3ms/step - loss: 1.0026e-07 - accuracy: 0.3628 - val_accuracy: 0.3558 - val_loss: 1.0273e-07\n",
      "Epoch 8/100\n",
      "3339/3339 [==============================] - 9s 3ms/step - loss: 1.0026e-07 - accuracy: 0.3628 - val_accuracy: 0.3558 - val_loss: 1.0273e-07\n",
      "Epoch 9/100\n",
      "3339/3339 [==============================] - 9s 3ms/step - loss: 1.0026e-07 - accuracy: 0.3628 - val_accuracy: 0.3558 - val_loss: 1.0273e-07\n",
      "Epoch 10/100\n",
      "3339/3339 [==============================] - 9s 3ms/step - loss: 1.0026e-07 - accuracy: 0.3628 - val_accuracy: 0.3558 - val_loss: 1.0273e-07\n",
      "Epoch 11/100\n",
      "3339/3339 [==============================] - 8s 3ms/step - loss: 1.0026e-07 - accuracy: 0.3628 - val_accuracy: 0.3558 - val_loss: 1.0273e-07\n",
      "Epoch 12/100\n",
      "3339/3339 [==============================] - 8s 3ms/step - loss: 1.0026e-07 - accuracy: 0.3628 - val_accuracy: 0.3558 - val_loss: 1.0273e-07\n",
      "Epoch 13/100\n",
      "3339/3339 [==============================] - 9s 3ms/step - loss: 1.0026e-07 - accuracy: 0.3628 - val_accuracy: 0.3558 - val_loss: 1.0273e-07\n",
      "Epoch 14/100\n",
      "3339/3339 [==============================] - 9s 3ms/step - loss: 1.0026e-07 - accuracy: 0.3628 - val_accuracy: 0.3558 - val_loss: 1.0273e-07\n",
      "Epoch 15/100\n",
      "3339/3339 [==============================] - 9s 3ms/step - loss: 1.0026e-07 - accuracy: 0.3628 - val_accuracy: 0.3558 - val_loss: 1.0273e-07\n",
      "Epoch 16/100\n",
      "3339/3339 [==============================] - 9s 3ms/step - loss: 1.0026e-07 - accuracy: 0.3628 - val_accuracy: 0.3558 - val_loss: 1.0273e-07\n",
      "Epoch 17/100\n",
      "3339/3339 [==============================] - 9s 3ms/step - loss: 1.0026e-07 - accuracy: 0.3628 - val_accuracy: 0.3558 - val_loss: 1.0273e-07\n",
      "Epoch 18/100\n",
      "3339/3339 [==============================] - 10s 3ms/step - loss: 1.0026e-07 - accuracy: 0.3628 - val_accuracy: 0.3558 - val_loss: 1.0273e-07\n",
      "Epoch 19/100\n",
      "3339/3339 [==============================] - 9s 3ms/step - loss: 1.0026e-07 - accuracy: 0.3628 - val_accuracy: 0.3558 - val_loss: 1.0273e-07\n",
      "Epoch 20/100\n",
      "3339/3339 [==============================] - 9s 3ms/step - loss: 1.0026e-07 - accuracy: 0.3628 - val_accuracy: 0.3558 - val_loss: 1.0273e-07\n",
      "Epoch 21/100\n",
      "3339/3339 [==============================] - 9s 3ms/step - loss: 1.0026e-07 - accuracy: 0.3628 - val_accuracy: 0.3558 - val_loss: 1.0273e-07\n",
      "Epoch 22/100\n",
      "3339/3339 [==============================] - 9s 3ms/step - loss: 1.0026e-07 - accuracy: 0.3628 - val_accuracy: 0.3558 - val_loss: 1.0273e-07\n",
      "Epoch 23/100\n",
      "3339/3339 [==============================] - 9s 3ms/step - loss: 1.0026e-07 - accuracy: 0.3628 - val_accuracy: 0.3558 - val_loss: 1.0273e-07\n",
      "Epoch 24/100\n",
      "3339/3339 [==============================] - 9s 3ms/step - loss: 1.0026e-07 - accuracy: 0.3628 - val_accuracy: 0.3558 - val_loss: 1.0273e-07\n",
      "Epoch 25/100\n",
      "3339/3339 [==============================] - 10s 3ms/step - loss: 1.0026e-07 - accuracy: 0.3628 - val_accuracy: 0.3558 - val_loss: 1.0273e-07\n",
      "Epoch 26/100\n",
      "3339/3339 [==============================] - 9s 3ms/step - loss: 1.0026e-07 - accuracy: 0.3628 - val_accuracy: 0.3558 - val_loss: 1.0273e-07\n",
      "Epoch 27/100\n",
      "3339/3339 [==============================] - 9s 3ms/step - loss: 1.0026e-07 - accuracy: 0.3628 - val_accuracy: 0.3558 - val_loss: 1.0273e-07\n",
      "Epoch 28/100\n",
      "3339/3339 [==============================] - 9s 3ms/step - loss: 1.0026e-07 - accuracy: 0.3628 - val_accuracy: 0.3558 - val_loss: 1.0273e-07\n",
      "Epoch 29/100\n",
      "3339/3339 [==============================] - 8s 2ms/step - loss: 1.0026e-07 - accuracy: 0.3628 - val_accuracy: 0.3558 - val_loss: 1.0273e-07\n",
      "Epoch 30/100\n",
      "3339/3339 [==============================] - 8s 2ms/step - loss: 1.0026e-07 - accuracy: 0.3628 - val_accuracy: 0.3558 - val_loss: 1.0273e-07\n",
      "Epoch 31/100\n",
      "3339/3339 [==============================] - 9s 3ms/step - loss: 1.0026e-07 - accuracy: 0.3628 - val_accuracy: 0.3558 - val_loss: 1.0273e-07\n",
      "Epoch 32/100\n",
      "3339/3339 [==============================] - 8s 3ms/step - loss: 1.0026e-07 - accuracy: 0.3628 - val_accuracy: 0.3558 - val_loss: 1.0273e-07\n",
      "Epoch 33/100\n",
      "3339/3339 [==============================] - 8s 2ms/step - loss: 1.0026e-07 - accuracy: 0.3628 - val_accuracy: 0.3558 - val_loss: 1.0273e-07\n",
      "Epoch 34/100\n",
      "3339/3339 [==============================] - 9s 3ms/step - loss: 1.0026e-07 - accuracy: 0.3628 - val_accuracy: 0.3558 - val_loss: 1.0273e-07\n",
      "Epoch 35/100\n",
      "3339/3339 [==============================] - 10s 3ms/step - loss: 1.0026e-07 - accuracy: 0.3628 - val_accuracy: 0.3558 - val_loss: 1.0273e-07\n",
      "Epoch 36/100\n",
      "3339/3339 [==============================] - 10s 3ms/step - loss: 1.0026e-07 - accuracy: 0.3628 - val_accuracy: 0.3558 - val_loss: 1.0273e-07\n",
      "Epoch 37/100\n",
      "3339/3339 [==============================] - 8s 3ms/step - loss: 1.0026e-07 - accuracy: 0.3628 - val_accuracy: 0.3558 - val_loss: 1.0273e-07\n",
      "Epoch 38/100\n",
      "3339/3339 [==============================] - 8s 2ms/step - loss: 1.0026e-07 - accuracy: 0.3628 - val_accuracy: 0.3558 - val_loss: 1.0273e-07\n",
      "Epoch 39/100\n",
      "3339/3339 [==============================] - 9s 3ms/step - loss: 1.0026e-07 - accuracy: 0.3628 - val_accuracy: 0.3558 - val_loss: 1.0273e-07\n",
      "Epoch 40/100\n",
      "3339/3339 [==============================] - 8s 3ms/step - loss: 1.0026e-07 - accuracy: 0.3628 - val_accuracy: 0.3558 - val_loss: 1.0273e-07\n",
      "Epoch 41/100\n",
      "3339/3339 [==============================] - 9s 3ms/step - loss: 1.0026e-07 - accuracy: 0.3628 - val_accuracy: 0.3558 - val_loss: 1.0273e-07\n",
      "Epoch 42/100\n",
      "3339/3339 [==============================] - 9s 3ms/step - loss: 1.0026e-07 - accuracy: 0.3628 - val_accuracy: 0.3558 - val_loss: 1.0273e-07\n",
      "Epoch 43/100\n",
      "3339/3339 [==============================] - 9s 3ms/step - loss: 1.0026e-07 - accuracy: 0.3628 - val_accuracy: 0.3558 - val_loss: 1.0273e-07\n",
      "Epoch 44/100\n",
      "3339/3339 [==============================] - 9s 3ms/step - loss: 1.0026e-07 - accuracy: 0.3628 - val_accuracy: 0.3558 - val_loss: 1.0273e-07\n",
      "Epoch 45/100\n",
      "3339/3339 [==============================] - 9s 3ms/step - loss: 1.0026e-07 - accuracy: 0.3628 - val_accuracy: 0.3558 - val_loss: 1.0273e-07\n",
      "Epoch 46/100\n",
      "3339/3339 [==============================] - 9s 3ms/step - loss: 1.0026e-07 - accuracy: 0.3628 - val_accuracy: 0.3558 - val_loss: 1.0273e-07\n",
      "Epoch 47/100\n",
      "3339/3339 [==============================] - 9s 3ms/step - loss: 1.0026e-07 - accuracy: 0.3628 - val_accuracy: 0.3558 - val_loss: 1.0273e-07\n",
      "Epoch 48/100\n",
      "3339/3339 [==============================] - 9s 3ms/step - loss: 1.0026e-07 - accuracy: 0.3628 - val_accuracy: 0.3558 - val_loss: 1.0273e-07\n",
      "Epoch 49/100\n",
      "3339/3339 [==============================] - 9s 3ms/step - loss: 1.0026e-07 - accuracy: 0.3628 - val_accuracy: 0.3558 - val_loss: 1.0273e-07\n",
      "Epoch 50/100\n",
      "3339/3339 [==============================] - 9s 3ms/step - loss: 1.0026e-07 - accuracy: 0.3628 - val_accuracy: 0.3558 - val_loss: 1.0273e-07\n",
      "Epoch 51/100\n",
      "3339/3339 [==============================] - 9s 3ms/step - loss: 1.0026e-07 - accuracy: 0.3628 - val_accuracy: 0.3558 - val_loss: 1.0273e-07\n",
      "Epoch 52/100\n",
      "3339/3339 [==============================] - 9s 3ms/step - loss: 1.0026e-07 - accuracy: 0.3628 - val_accuracy: 0.3558 - val_loss: 1.0273e-07\n",
      "Epoch 53/100\n",
      "3339/3339 [==============================] - 9s 3ms/step - loss: 1.0026e-07 - accuracy: 0.3628 - val_accuracy: 0.3558 - val_loss: 1.0273e-07\n",
      "Epoch 54/100\n"
     ]
    },
    {
     "name": "stdout",
     "output_type": "stream",
     "text": [
      "3339/3339 [==============================] - 9s 3ms/step - loss: 1.0026e-07 - accuracy: 0.3628 - val_accuracy: 0.3558 - val_loss: 1.0273e-07\n",
      "Epoch 55/100\n",
      "3339/3339 [==============================] - 9s 3ms/step - loss: 1.0026e-07 - accuracy: 0.3628 - val_accuracy: 0.3558 - val_loss: 1.0273e-07\n",
      "Epoch 56/100\n",
      "3339/3339 [==============================] - 9s 3ms/step - loss: 1.0026e-07 - accuracy: 0.3628 - val_accuracy: 0.3558 - val_loss: 1.0273e-07\n",
      "Epoch 57/100\n",
      "3339/3339 [==============================] - 9s 3ms/step - loss: 1.0026e-07 - accuracy: 0.3628 - val_accuracy: 0.3558 - val_loss: 1.0273e-07\n",
      "Epoch 58/100\n",
      "3339/3339 [==============================] - 9s 3ms/step - loss: 1.0026e-07 - accuracy: 0.3628 - val_accuracy: 0.3558 - val_loss: 1.0273e-07\n",
      "Epoch 59/100\n",
      "3339/3339 [==============================] - 9s 3ms/step - loss: 1.0026e-07 - accuracy: 0.3628 - val_accuracy: 0.3558 - val_loss: 1.0273e-07\n",
      "Epoch 60/100\n",
      "3339/3339 [==============================] - 9s 3ms/step - loss: 1.0026e-07 - accuracy: 0.3628 - val_accuracy: 0.3558 - val_loss: 1.0273e-07\n",
      "Epoch 61/100\n",
      "3339/3339 [==============================] - 9s 3ms/step - loss: 1.0026e-07 - accuracy: 0.3628 - val_accuracy: 0.3558 - val_loss: 1.0273e-07\n",
      "Epoch 62/100\n",
      "3339/3339 [==============================] - 9s 3ms/step - loss: 1.0026e-07 - accuracy: 0.3628 - val_accuracy: 0.3558 - val_loss: 1.0273e-07\n",
      "Epoch 63/100\n",
      "3339/3339 [==============================] - 9s 3ms/step - loss: 1.0026e-07 - accuracy: 0.3628 - val_accuracy: 0.3558 - val_loss: 1.0273e-07\n",
      "Epoch 64/100\n",
      "3339/3339 [==============================] - 9s 3ms/step - loss: 1.0026e-07 - accuracy: 0.3628 - val_accuracy: 0.3558 - val_loss: 1.0273e-07\n",
      "Epoch 65/100\n",
      "3339/3339 [==============================] - 9s 3ms/step - loss: 1.0026e-07 - accuracy: 0.3628 - val_accuracy: 0.3558 - val_loss: 1.0273e-07\n",
      "Epoch 66/100\n",
      "3339/3339 [==============================] - 9s 3ms/step - loss: 1.0026e-07 - accuracy: 0.3628 - val_accuracy: 0.3558 - val_loss: 1.0273e-07\n",
      "Epoch 67/100\n",
      "3339/3339 [==============================] - 9s 3ms/step - loss: 1.0026e-07 - accuracy: 0.3628 - val_accuracy: 0.3558 - val_loss: 1.0273e-07\n",
      "Epoch 68/100\n",
      "3339/3339 [==============================] - 9s 3ms/step - loss: 1.0026e-07 - accuracy: 0.3628 - val_accuracy: 0.3558 - val_loss: 1.0273e-07\n",
      "Epoch 69/100\n",
      "3339/3339 [==============================] - 9s 3ms/step - loss: 1.0026e-07 - accuracy: 0.3628 - val_accuracy: 0.3558 - val_loss: 1.0273e-07\n",
      "Epoch 70/100\n",
      "3339/3339 [==============================] - 9s 3ms/step - loss: 1.0026e-07 - accuracy: 0.3628 - val_accuracy: 0.3558 - val_loss: 1.0273e-07\n",
      "Epoch 71/100\n",
      "3339/3339 [==============================] - 9s 3ms/step - loss: 1.0026e-07 - accuracy: 0.3628 - val_accuracy: 0.3558 - val_loss: 1.0273e-07\n",
      "Epoch 72/100\n",
      "3339/3339 [==============================] - 9s 3ms/step - loss: 1.0026e-07 - accuracy: 0.3628 - val_accuracy: 0.3558 - val_loss: 1.0273e-07\n",
      "Epoch 73/100\n",
      "3339/3339 [==============================] - 9s 3ms/step - loss: 1.0026e-07 - accuracy: 0.3628 - val_accuracy: 0.3558 - val_loss: 1.0273e-07\n",
      "Epoch 74/100\n",
      "3339/3339 [==============================] - 9s 3ms/step - loss: 1.0026e-07 - accuracy: 0.3628 - val_accuracy: 0.3558 - val_loss: 1.0273e-07\n",
      "Epoch 75/100\n",
      "3339/3339 [==============================] - 9s 3ms/step - loss: 1.0026e-07 - accuracy: 0.3628 - val_accuracy: 0.3558 - val_loss: 1.0273e-07\n",
      "Epoch 76/100\n",
      "3339/3339 [==============================] - 9s 3ms/step - loss: 1.0026e-07 - accuracy: 0.3628 - val_accuracy: 0.3558 - val_loss: 1.0273e-07\n",
      "Epoch 77/100\n",
      "3339/3339 [==============================] - 9s 3ms/step - loss: 1.0026e-07 - accuracy: 0.3628 - val_accuracy: 0.3558 - val_loss: 1.0273e-07\n",
      "Epoch 78/100\n",
      "3339/3339 [==============================] - 9s 3ms/step - loss: 1.0026e-07 - accuracy: 0.3628 - val_accuracy: 0.3558 - val_loss: 1.0273e-07\n",
      "Epoch 79/100\n",
      "3339/3339 [==============================] - 9s 3ms/step - loss: 1.0026e-07 - accuracy: 0.3628 - val_accuracy: 0.3558 - val_loss: 1.0273e-07\n",
      "Epoch 80/100\n",
      "3339/3339 [==============================] - 9s 3ms/step - loss: 1.0026e-07 - accuracy: 0.3628 - val_accuracy: 0.3558 - val_loss: 1.0273e-07\n",
      "Epoch 81/100\n",
      "3339/3339 [==============================] - 9s 3ms/step - loss: 1.0026e-07 - accuracy: 0.3628 - val_accuracy: 0.3558 - val_loss: 1.0273e-07\n",
      "Epoch 82/100\n",
      "3339/3339 [==============================] - 9s 3ms/step - loss: 1.0026e-07 - accuracy: 0.3628 - val_accuracy: 0.3558 - val_loss: 1.0273e-07\n",
      "Epoch 83/100\n",
      "3339/3339 [==============================] - 9s 3ms/step - loss: 1.0026e-07 - accuracy: 0.3628 - val_accuracy: 0.3558 - val_loss: 1.0273e-07\n",
      "Epoch 84/100\n",
      "3339/3339 [==============================] - 9s 3ms/step - loss: 1.0026e-07 - accuracy: 0.3628 - val_accuracy: 0.3558 - val_loss: 1.0273e-07\n",
      "Epoch 85/100\n",
      "3339/3339 [==============================] - 9s 3ms/step - loss: 1.0026e-07 - accuracy: 0.3628 - val_accuracy: 0.3558 - val_loss: 1.0273e-07\n",
      "Epoch 86/100\n",
      "3339/3339 [==============================] - 9s 3ms/step - loss: 1.0026e-07 - accuracy: 0.3628 - val_accuracy: 0.3558 - val_loss: 1.0273e-07\n",
      "Epoch 87/100\n",
      "3339/3339 [==============================] - 9s 3ms/step - loss: 1.0026e-07 - accuracy: 0.3628 - val_accuracy: 0.3558 - val_loss: 1.0273e-07\n",
      "Epoch 88/100\n",
      "3339/3339 [==============================] - 9s 3ms/step - loss: 1.0026e-07 - accuracy: 0.3628 - val_accuracy: 0.3558 - val_loss: 1.0273e-07\n",
      "Epoch 89/100\n",
      "3339/3339 [==============================] - 9s 3ms/step - loss: 1.0026e-07 - accuracy: 0.3628 - val_accuracy: 0.3558 - val_loss: 1.0273e-07\n",
      "Epoch 90/100\n",
      "3339/3339 [==============================] - 9s 3ms/step - loss: 1.0026e-07 - accuracy: 0.3628 - val_accuracy: 0.3558 - val_loss: 1.0273e-07\n",
      "Epoch 91/100\n",
      "3339/3339 [==============================] - 9s 3ms/step - loss: 1.0026e-07 - accuracy: 0.3628 - val_accuracy: 0.3558 - val_loss: 1.0273e-07\n",
      "Epoch 92/100\n",
      "3339/3339 [==============================] - 9s 3ms/step - loss: 1.0026e-07 - accuracy: 0.3628 - val_accuracy: 0.3558 - val_loss: 1.0273e-07\n",
      "Epoch 93/100\n",
      "3339/3339 [==============================] - 9s 3ms/step - loss: 1.0026e-07 - accuracy: 0.3628 - val_accuracy: 0.3558 - val_loss: 1.0273e-07\n",
      "Epoch 94/100\n",
      "3339/3339 [==============================] - 9s 3ms/step - loss: 1.0026e-07 - accuracy: 0.3628 - val_accuracy: 0.3558 - val_loss: 1.0273e-07\n",
      "Epoch 95/100\n",
      "3339/3339 [==============================] - 9s 3ms/step - loss: 1.0026e-07 - accuracy: 0.3628 - val_accuracy: 0.3558 - val_loss: 1.0273e-07\n",
      "Epoch 96/100\n",
      "3339/3339 [==============================] - 9s 3ms/step - loss: 1.0026e-07 - accuracy: 0.3628 - val_accuracy: 0.3558 - val_loss: 1.0273e-07\n",
      "Epoch 97/100\n",
      "3339/3339 [==============================] - 9s 3ms/step - loss: 1.0026e-07 - accuracy: 0.3628 - val_accuracy: 0.3558 - val_loss: 1.0273e-07\n",
      "Epoch 98/100\n",
      "3339/3339 [==============================] - 9s 3ms/step - loss: 1.0026e-07 - accuracy: 0.3628 - val_accuracy: 0.3558 - val_loss: 1.0273e-07\n",
      "Epoch 99/100\n",
      "3339/3339 [==============================] - 9s 3ms/step - loss: 1.0026e-07 - accuracy: 0.3628 - val_accuracy: 0.3558 - val_loss: 1.0273e-07\n",
      "Epoch 100/100\n",
      "3339/3339 [==============================] - 9s 3ms/step - loss: 1.0026e-07 - accuracy: 0.3628 - val_accuracy: 0.3558 - val_loss: 1.0273e-07\n"
     ]
    }
   ],
   "source": [
    "history = model.fit(data_train.toarray(), label_train,\n",
    "                     epochs=100, verbose=True, validation_split=0.1, batch_size=10)\n",
    "\n",
    "# score = model.evaluate(data_test.toarray(), label_test, verbose=1)\n"
   ]
  },
  {
   "cell_type": "code",
   "execution_count": 55,
   "metadata": {},
   "outputs": [
    {
     "name": "stdout",
     "output_type": "stream",
     "text": [
      "290/290 [==============================] - 1s 4ms/step\n"
     ]
    }
   ],
   "source": [
    "predictions_test = model.predict_classes(data_test.toarray(), verbose=1)"
   ]
  },
  {
   "cell_type": "markdown",
   "metadata": {},
   "source": [
    "#### Performance metrics"
   ]
  },
  {
   "cell_type": "code",
   "execution_count": 56,
   "metadata": {},
   "outputs": [
    {
     "name": "stdout",
     "output_type": "stream",
     "text": [
      "Training Accuracy: 0.3621\n",
      "Testing Accuracy:  0.3555\n",
      "F1 macro Score:  0.25816578310738997\n",
      "              precision    recall  f1-score   support\n",
      "\n",
      "           0       0.40      0.61      0.49      3911\n",
      "           1       0.27      0.31      0.29      2908\n",
      "           2       0.00      0.00      0.00      2456\n",
      "\n",
      "    accuracy                           0.36      9275\n",
      "   macro avg       0.22      0.31      0.26      9275\n",
      "weighted avg       0.25      0.36      0.30      9275\n",
      "\n"
     ]
    },
    {
     "name": "stderr",
     "output_type": "stream",
     "text": [
      "/Users/talat/anaconda3/envs/sentgen/lib/python3.5/site-packages/sklearn/metrics/_classification.py:1272: UndefinedMetricWarning: Precision and F-score are ill-defined and being set to 0.0 in labels with no predicted samples. Use `zero_division` parameter to control this behavior.\n",
      "  _warn_prf(average, modifier, msg_start, len(result))\n"
     ]
    }
   ],
   "source": [
    "from sklearn.metrics import f1_score\n",
    "\n",
    "## Accuracy Measure\n",
    "loss, accuracy = model.evaluate(data_train.toarray(), label_train, verbose=False)\n",
    "print(\"Training Accuracy: {:.4f}\".format(accuracy))\n",
    "loss, accuracy = model.evaluate(data_test.toarray(), label_test, verbose=False)\n",
    "print(\"Testing Accuracy:  {:.4f}\".format(accuracy))\n",
    "\n",
    "# F1\n",
    "f1_measure = f1_score(df_test[label_col_header], predictions_test, average='macro')\n",
    "print('F1 macro Score: ', f1_measure)\n",
    "\n",
    "# Classification report\n",
    "from sklearn.metrics import classification_report\n",
    "print(classification_report(df_test[label_col_header], predictions_test))"
   ]
  },
  {
   "cell_type": "code",
   "execution_count": null,
   "metadata": {},
   "outputs": [],
   "source": []
  },
  {
   "cell_type": "markdown",
   "metadata": {},
   "source": [
    "### Counter Vector with no stopwords"
   ]
  },
  {
   "cell_type": "code",
   "execution_count": 15,
   "metadata": {},
   "outputs": [],
   "source": [
    "# Read the vectorized train data and train label\n",
    "vectorized_train_data_file = os.path.join(VECTORIZED_DIR, 'train_data_countvector_nostopword.pkl')\n",
    "with open(vectorized_train_data_file, 'rb') as f_ip:\n",
    "    data_train = pkl.load(f_ip)\n",
    "    \n",
    "train_label_file = os.path.join(VECTORIZED_DIR, 'train_label_countvector_nostopword.pkl')\n",
    "with open(train_label_file, 'rb') as f_ip:\n",
    "    label_train = pkl.load(f_ip)"
   ]
  },
  {
   "cell_type": "markdown",
   "metadata": {},
   "source": [
    "#### Train and Test the model"
   ]
  },
  {
   "cell_type": "code",
   "execution_count": 16,
   "metadata": {},
   "outputs": [],
   "source": [
    "# Read the vectorizer to transform the test data\n",
    "vector_file = os.path.join(CORPUS_DIR, 'vector_countvector_nostopword.pkl')\n",
    "with open(vector_file, 'rb') as f_ip:\n",
    "    vectorizer = pkl.load(f_ip)\n",
    "\n",
    "data_test = vectorizer.transform(df_test[text_col_header])"
   ]
  },
  {
   "cell_type": "code",
   "execution_count": 17,
   "metadata": {},
   "outputs": [],
   "source": [
    "# Run Naive Bayes\n",
    "estimator = GaussianNB()\n",
    "estimator.fit(data_train.toarray(), np.ravel(label_train, order='C'))\n",
    "predictions_test = estimator.predict(data_test)"
   ]
  },
  {
   "cell_type": "markdown",
   "metadata": {},
   "source": [
    "#### Performance metrics"
   ]
  },
  {
   "cell_type": "code",
   "execution_count": 18,
   "metadata": {},
   "outputs": [
    {
     "name": "stdout",
     "output_type": "stream",
     "text": [
      "Train Accuracy 0.6491280088412087\n",
      "Test Accuracy 0.4821563342318059\n",
      "F1 macro Score:  0.4638170698812691\n",
      "              precision    recall  f1-score   support\n",
      "\n",
      "           0       0.68      0.19      0.30      3911\n",
      "           1       0.42      0.52      0.46      2908\n",
      "           2       0.49      0.90      0.63      2456\n",
      "\n",
      "    accuracy                           0.48      9275\n",
      "   macro avg       0.53      0.54      0.46      9275\n",
      "weighted avg       0.54      0.48      0.44      9275\n",
      "\n"
     ]
    }
   ],
   "source": [
    "from sklearn.metrics import f1_score\n",
    "\n",
    "## Accuracy Measure\n",
    "print('Train Accuracy', estimator.score(data_train, df_train[label_col_header]))\n",
    "print('Test Accuracy', estimator.score(data_test, df_test[label_col_header]))\n",
    "\n",
    "# F1\n",
    "f1_measure = f1_score(df_test[label_col_header], predictions_test, average='macro')\n",
    "print('F1 macro Score: ', f1_measure)\n",
    "\n",
    "# Classification report\n",
    "from sklearn.metrics import classification_report\n",
    "print(classification_report(df_test[label_col_header], predictions_test))"
   ]
  },
  {
   "cell_type": "code",
   "execution_count": null,
   "metadata": {},
   "outputs": [],
   "source": []
  },
  {
   "cell_type": "markdown",
   "metadata": {},
   "source": [
    "### Counter Vector with minimum occurences of words (min_occurences=2)"
   ]
  },
  {
   "cell_type": "code",
   "execution_count": 19,
   "metadata": {},
   "outputs": [],
   "source": [
    "# Read the vectorized train data and train label\n",
    "vectorized_train_data_file = os.path.join(VECTORIZED_DIR, 'train_data_countvector_minoccurences_2.pkl')\n",
    "with open(vectorized_train_data_file, 'rb') as f_ip:\n",
    "    data_train = pkl.load(f_ip)\n",
    "    \n",
    "train_label_file = os.path.join(VECTORIZED_DIR, 'train_label_countvector_minoccurences_2.pkl')\n",
    "with open(train_label_file, 'rb') as f_ip:\n",
    "    label_train = pkl.load(f_ip)"
   ]
  },
  {
   "cell_type": "markdown",
   "metadata": {},
   "source": [
    "#### Train and Test the model"
   ]
  },
  {
   "cell_type": "code",
   "execution_count": 20,
   "metadata": {},
   "outputs": [],
   "source": [
    "# Read the vectorizer to transform the test data\n",
    "vector_file = os.path.join(CORPUS_DIR, 'vector_countvector_minoccurences_2.pkl')\n",
    "with open(vector_file, 'rb') as f_ip:\n",
    "    vectorizer = pkl.load(f_ip)\n",
    "\n",
    "data_test = vectorizer.transform(df_test[text_col_header])"
   ]
  },
  {
   "cell_type": "code",
   "execution_count": 21,
   "metadata": {},
   "outputs": [],
   "source": [
    "# Run Naive Bayes\n",
    "estimator = GaussianNB()\n",
    "estimator.fit(data_train.toarray(), np.ravel(label_train, order='C'))\n",
    "predictions_test = estimator.predict(data_test)"
   ]
  },
  {
   "cell_type": "markdown",
   "metadata": {},
   "source": [
    "#### Performance metrics"
   ]
  },
  {
   "cell_type": "code",
   "execution_count": 22,
   "metadata": {},
   "outputs": [
    {
     "name": "stdout",
     "output_type": "stream",
     "text": [
      "Train Accuracy 0.685274535701771\n",
      "Test Accuracy 0.554177897574124\n",
      "F1 macro Score:  0.5619758483845737\n",
      "              precision    recall  f1-score   support\n",
      "\n",
      "           0       0.64      0.31      0.42      3911\n",
      "           1       0.43      0.65      0.52      2908\n",
      "           2       0.69      0.83      0.75      2456\n",
      "\n",
      "    accuracy                           0.55      9275\n",
      "   macro avg       0.59      0.60      0.56      9275\n",
      "weighted avg       0.59      0.55      0.54      9275\n",
      "\n"
     ]
    }
   ],
   "source": [
    "from sklearn.metrics import f1_score\n",
    "\n",
    "## Accuracy Measure\n",
    "print('Train Accuracy', estimator.score(data_train, df_train[label_col_header]))\n",
    "print('Test Accuracy', estimator.score(data_test, df_test[label_col_header]))\n",
    "\n",
    "# F1\n",
    "f1_measure = f1_score(df_test[label_col_header], predictions_test, average='macro')\n",
    "print('F1 macro Score: ', f1_measure)\n",
    "\n",
    "# Classification report\n",
    "from sklearn.metrics import classification_report\n",
    "print(classification_report(df_test[label_col_header], predictions_test))"
   ]
  },
  {
   "cell_type": "code",
   "execution_count": null,
   "metadata": {},
   "outputs": [],
   "source": []
  }
 ],
 "metadata": {
  "kernelspec": {
   "display_name": "sentgen",
   "language": "python",
   "name": "sentgen"
  },
  "language_info": {
   "codemirror_mode": {
    "name": "ipython",
    "version": 3
   },
   "file_extension": ".py",
   "mimetype": "text/x-python",
   "name": "python",
   "nbconvert_exporter": "python",
   "pygments_lexer": "ipython3",
   "version": "3.5.5"
  }
 },
 "nbformat": 4,
 "nbformat_minor": 2
}
